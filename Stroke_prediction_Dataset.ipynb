{
  "nbformat": 4,
  "nbformat_minor": 0,
  "metadata": {
    "colab": {
      "name": "Stroke_prediction_Dataset.ipynb",
      "version": "0.3.2",
      "views": {},
      "default_view": {},
      "provenance": [],
      "collapsed_sections": []
    },
    "kernelspec": {
      "name": "python3",
      "display_name": "Python 3"
    }
  },
  "cells": [
    {
      "metadata": {
        "id": "ThDElVUHXbxx",
        "colab_type": "text"
      },
      "cell_type": "markdown",
      "source": [
        "# Install Spark\n"
      ]
    },
    {
      "metadata": {
        "id": "ibUL5gJSeRcn",
        "colab_type": "code",
        "colab": {
          "autoexec": {
            "startup": false,
            "wait_interval": 0
          },
          "base_uri": "https://localhost:8080/",
          "height": 156
        },
        "outputId": "2b8bd070-c83c-4095-e68e-a5e7db36f467",
        "executionInfo": {
          "status": "ok",
          "timestamp": 1529936674374,
          "user_tz": -330,
          "elapsed": 22030,
          "user": {
            "displayName": "Monalisa Das",
            "photoUrl": "https://lh3.googleusercontent.com/a/default-user=s128",
            "userId": "110048119645175492762"
          }
        }
      },
      "cell_type": "code",
      "source": [
        "!apt-get update\n",
        "!apt-get install openjdk-8-jdk-headless -qq > /dev/null\n",
        "!wget -q http://apache.osuosl.org/spark/spark-2.2.1/spark-2.2.1-bin-hadoop2.7.tgz\n",
        "!tar xf spark-2.2.1-bin-hadoop2.7.tgz\n",
        "!pip install -q findspark"
      ],
      "execution_count": 163,
      "outputs": [
        {
          "output_type": "stream",
          "text": [
            "Get:1 http://security.ubuntu.com/ubuntu artful-security InRelease [83.2 kB]\n",
            "Hit:2 http://archive.ubuntu.com/ubuntu artful InRelease\n",
            "Get:3 http://archive.ubuntu.com/ubuntu artful-updates InRelease [88.7 kB]\n",
            "Get:4 http://archive.ubuntu.com/ubuntu artful-backports InRelease [74.6 kB]\n",
            "Get:5 http://archive.ubuntu.com/ubuntu artful-updates/universe amd64 Packages [150 kB]\n",
            "Get:6 http://archive.ubuntu.com/ubuntu artful-updates/main amd64 Packages [364 kB]\n",
            "Fetched 761 kB in 1s (645 kB/s)\n",
            "Reading package lists... Done\n"
          ],
          "name": "stdout"
        }
      ]
    },
    {
      "metadata": {
        "id": "dk-ycXpRe01N",
        "colab_type": "code",
        "colab": {
          "autoexec": {
            "startup": false,
            "wait_interval": 0
          },
          "base_uri": "https://localhost:8080/",
          "height": 37
        },
        "outputId": "ffd3ed62-59e8-4e73-9d2f-187f60b32bd5",
        "executionInfo": {
          "status": "ok",
          "timestamp": 1529936675418,
          "user_tz": -330,
          "elapsed": 925,
          "user": {
            "displayName": "Monalisa Das",
            "photoUrl": "https://lh3.googleusercontent.com/a/default-user=s128",
            "userId": "110048119645175492762"
          }
        }
      },
      "cell_type": "code",
      "source": [
        "import os\n",
        "os.environ[\"JAVA_HOME\"] = \"/usr/lib/jvm/java-8-openjdk-amd64\"\n",
        "os.environ[\"SPARK_HOME\"] = \"/content/spark-2.2.1-bin-hadoop2.7\""
      ],
      "execution_count": 164,
      "outputs": []
    },
    {
      "metadata": {
        "id": "8Q3ij7A_fDhr",
        "colab_type": "code",
        "colab": {
          "autoexec": {
            "startup": false,
            "wait_interval": 0
          },
          "base_uri": "https://localhost:8080/",
          "height": 37
        },
        "outputId": "9ca67ad9-8697-4661-ff2c-9e9a2db454fd",
        "executionInfo": {
          "status": "ok",
          "timestamp": 1529936676493,
          "user_tz": -330,
          "elapsed": 738,
          "user": {
            "displayName": "Monalisa Das",
            "photoUrl": "https://lh3.googleusercontent.com/a/default-user=s128",
            "userId": "110048119645175492762"
          }
        }
      },
      "cell_type": "code",
      "source": [
        "import findspark\n",
        "findspark.init()\n",
        "from pyspark.sql import SparkSession\n",
        "spark = SparkSession.builder.master(\"local[*]\").getOrCreate()"
      ],
      "execution_count": 165,
      "outputs": []
    },
    {
      "metadata": {
        "id": "Z1_V0Cv4fDjf",
        "colab_type": "code",
        "colab": {
          "autoexec": {
            "startup": false,
            "wait_interval": 0
          },
          "base_uri": "https://localhost:8080/",
          "height": 196
        },
        "outputId": "e3895ce0-67c2-4d6f-d81a-f31adaa5a16a",
        "executionInfo": {
          "status": "ok",
          "timestamp": 1529937144790,
          "user_tz": -330,
          "elapsed": 1032,
          "user": {
            "displayName": "Monalisa Das",
            "photoUrl": "https://lh3.googleusercontent.com/a/default-user=s128",
            "userId": "110048119645175492762"
          }
        }
      },
      "cell_type": "code",
      "source": [
        "sc = spark.sparkContext\n",
        "sc"
      ],
      "execution_count": 166,
      "outputs": [
        {
          "output_type": "execute_result",
          "data": {
            "text/html": [
              "\n",
              "        <div>\n",
              "            <p><b>SparkContext</b></p>\n",
              "\n",
              "            <p><a href=\"http://172.17.0.2:4040\">Spark UI</a></p>\n",
              "\n",
              "            <dl>\n",
              "              <dt>Version</dt>\n",
              "                <dd><code>v2.2.1</code></dd>\n",
              "              <dt>Master</dt>\n",
              "                <dd><code>local[*]</code></dd>\n",
              "              <dt>AppName</dt>\n",
              "                <dd><code>pyspark-shell</code></dd>\n",
              "            </dl>\n",
              "        </div>\n",
              "        "
            ],
            "text/plain": [
              "<SparkContext master=local[*] appName=pyspark-shell>"
            ]
          },
          "metadata": {
            "tags": []
          },
          "execution_count": 166
        }
      ]
    },
    {
      "metadata": {
        "id": "kdWFja7KfDlE",
        "colab_type": "code",
        "colab": {
          "autoexec": {
            "startup": false,
            "wait_interval": 0
          },
          "base_uri": "https://localhost:8080/",
          "height": 37
        },
        "outputId": "5d57b78d-a04f-4670-af0c-3f882f873d57",
        "executionInfo": {
          "status": "ok",
          "timestamp": 1529937147645,
          "user_tz": -330,
          "elapsed": 1983,
          "user": {
            "displayName": "Monalisa Das",
            "photoUrl": "https://lh3.googleusercontent.com/a/default-user=s128",
            "userId": "110048119645175492762"
          }
        }
      },
      "cell_type": "code",
      "source": [
        "from pyspark.sql import SQLContext\n",
        "sqlContext = SQLContext(sc)"
      ],
      "execution_count": 167,
      "outputs": []
    },
    {
      "metadata": {
        "id": "eWReBp-wXJBu",
        "colab_type": "text"
      },
      "cell_type": "markdown",
      "source": [
        "# Load Data\n"
      ]
    },
    {
      "metadata": {
        "id": "X7p5MsZifDo9",
        "colab_type": "code",
        "colab": {
          "autoexec": {
            "startup": false,
            "wait_interval": 0
          },
          "base_uri": "https://localhost:8080/",
          "height": 73
        },
        "outputId": "057c2da7-6ab3-43fe-cb5f-4e7906f7c588",
        "executionInfo": {
          "status": "ok",
          "timestamp": 1529927296026,
          "user_tz": -330,
          "elapsed": 56002,
          "user": {
            "displayName": "Monalisa Das",
            "photoUrl": "https://lh3.googleusercontent.com/a/default-user=s128",
            "userId": "110048119645175492762"
          }
        }
      },
      "cell_type": "code",
      "source": [
        "datafile = files.upload()"
      ],
      "execution_count": 10,
      "outputs": [
        {
          "output_type": "display_data",
          "data": {
            "text/html": [
              "\n",
              "     <input type=\"file\" id=\"files-998bf407-7a35-49fa-af2d-50195b2f6acd\" name=\"files[]\" multiple disabled />\n",
              "     <output id=\"result-998bf407-7a35-49fa-af2d-50195b2f6acd\">\n",
              "      Upload widget is only available when the cell has been executed in the\n",
              "      current browser session. Please rerun this cell to enable.\n",
              "      </output>\n",
              "      <script src=\"/nbextensions/google.colab/files.js\"></script> "
            ],
            "text/plain": [
              "<IPython.core.display.HTML object>"
            ]
          },
          "metadata": {
            "tags": []
          }
        },
        {
          "output_type": "stream",
          "text": [
            "Saving train_2v.csv to train_2v.csv\n"
          ],
          "name": "stdout"
        }
      ]
    },
    {
      "metadata": {
        "id": "TFSHkrAIfDsX",
        "colab_type": "code",
        "colab": {
          "autoexec": {
            "startup": false,
            "wait_interval": 0
          },
          "base_uri": "https://localhost:8080/",
          "height": 52
        },
        "outputId": "c305cb42-96fa-44ec-fcf8-fffdd5a2e79d",
        "executionInfo": {
          "status": "ok",
          "timestamp": 1529927537907,
          "user_tz": -330,
          "elapsed": 2124,
          "user": {
            "displayName": "Monalisa Das",
            "photoUrl": "https://lh3.googleusercontent.com/a/default-user=s128",
            "userId": "110048119645175492762"
          }
        }
      },
      "cell_type": "code",
      "source": [
        "!ls"
      ],
      "execution_count": 12,
      "outputs": [
        {
          "output_type": "stream",
          "text": [
            "datalab\t\t\t   spark-2.2.1-bin-hadoop2.7.tgz  test_2v.csv\r\n",
            "spark-2.2.1-bin-hadoop2.7  spark-warehouse\t\t  train_2v.csv\r\n"
          ],
          "name": "stdout"
        }
      ]
    },
    {
      "metadata": {
        "id": "qTvZViEhq8LJ",
        "colab_type": "code",
        "colab": {
          "autoexec": {
            "startup": false,
            "wait_interval": 0
          },
          "base_uri": "https://localhost:8080/",
          "height": 37
        },
        "outputId": "4964c280-6aef-4256-eb32-ad52235d5f2f",
        "executionInfo": {
          "status": "ok",
          "timestamp": 1529927543293,
          "user_tz": -330,
          "elapsed": 1237,
          "user": {
            "displayName": "Monalisa Das",
            "photoUrl": "https://lh3.googleusercontent.com/a/default-user=s128",
            "userId": "110048119645175492762"
          }
        }
      },
      "cell_type": "code",
      "source": [
        "train_raw='./train_2v.csv'\n",
        "train=sc.textFile(train_raw)"
      ],
      "execution_count": 14,
      "outputs": []
    },
    {
      "metadata": {
        "id": "EJlZEd_UrCBF",
        "colab_type": "code",
        "colab": {
          "autoexec": {
            "startup": false,
            "wait_interval": 0
          },
          "base_uri": "https://localhost:8080/",
          "height": 52
        },
        "outputId": "b6042889-5aa8-440d-a64b-f776b7c2bd5d",
        "executionInfo": {
          "status": "ok",
          "timestamp": 1529927548714,
          "user_tz": -330,
          "elapsed": 2103,
          "user": {
            "displayName": "Monalisa Das",
            "photoUrl": "https://lh3.googleusercontent.com/a/default-user=s128",
            "userId": "110048119645175492762"
          }
        }
      },
      "cell_type": "code",
      "source": [
        "!ls"
      ],
      "execution_count": 15,
      "outputs": [
        {
          "output_type": "stream",
          "text": [
            "datalab\t\t\t   spark-2.2.1-bin-hadoop2.7.tgz  test_2v.csv\r\n",
            "spark-2.2.1-bin-hadoop2.7  spark-warehouse\t\t  train_2v.csv\r\n"
          ],
          "name": "stdout"
        }
      ]
    },
    {
      "metadata": {
        "id": "Hwx-hJcvrEHn",
        "colab_type": "code",
        "colab": {
          "autoexec": {
            "startup": false,
            "wait_interval": 0
          },
          "base_uri": "https://localhost:8080/",
          "height": 35
        },
        "outputId": "495f8bc1-0945-48a6-f86c-5af57f496956",
        "executionInfo": {
          "status": "ok",
          "timestamp": 1529927554926,
          "user_tz": -330,
          "elapsed": 961,
          "user": {
            "displayName": "Monalisa Das",
            "photoUrl": "https://lh3.googleusercontent.com/a/default-user=s128",
            "userId": "110048119645175492762"
          }
        }
      },
      "cell_type": "code",
      "source": [
        "findspark.init()\n",
        "findspark.find()"
      ],
      "execution_count": 16,
      "outputs": [
        {
          "output_type": "execute_result",
          "data": {
            "text/plain": [
              "'/content/spark-2.2.1-bin-hadoop2.7'"
            ]
          },
          "metadata": {
            "tags": []
          },
          "execution_count": 16
        }
      ]
    },
    {
      "metadata": {
        "id": "kmYSfY57sdbR",
        "colab_type": "code",
        "colab": {
          "autoexec": {
            "startup": false,
            "wait_interval": 0
          },
          "base_uri": "https://localhost:8080/",
          "height": 52
        },
        "outputId": "a4911374-02b5-403c-edb7-74f0328f49a8",
        "executionInfo": {
          "status": "ok",
          "timestamp": 1529927557172,
          "user_tz": -330,
          "elapsed": 2120,
          "user": {
            "displayName": "Monalisa Das",
            "photoUrl": "https://lh3.googleusercontent.com/a/default-user=s128",
            "userId": "110048119645175492762"
          }
        }
      },
      "cell_type": "code",
      "source": [
        "!ls"
      ],
      "execution_count": 17,
      "outputs": [
        {
          "output_type": "stream",
          "text": [
            "datalab\t\t\t   spark-2.2.1-bin-hadoop2.7.tgz  test_2v.csv\r\n",
            "spark-2.2.1-bin-hadoop2.7  spark-warehouse\t\t  train_2v.csv\r\n"
          ],
          "name": "stdout"
        }
      ]
    },
    {
      "metadata": {
        "id": "0VUo296WX8hb",
        "colab_type": "text"
      },
      "cell_type": "markdown",
      "source": [
        "#Previewing the data set"
      ]
    },
    {
      "metadata": {
        "id": "mmmVJaqftxh-",
        "colab_type": "code",
        "colab": {
          "autoexec": {
            "startup": false,
            "wait_interval": 0
          },
          "base_uri": "https://localhost:8080/",
          "height": 107
        },
        "outputId": "c12f52a1-d4e7-4d77-bfaf-09a7753f6c39",
        "executionInfo": {
          "status": "ok",
          "timestamp": 1529927562951,
          "user_tz": -330,
          "elapsed": 1010,
          "user": {
            "displayName": "Monalisa Das",
            "photoUrl": "https://lh3.googleusercontent.com/a/default-user=s128",
            "userId": "110048119645175492762"
          }
        }
      },
      "cell_type": "code",
      "source": [
        "train.take(4)"
      ],
      "execution_count": 19,
      "outputs": [
        {
          "output_type": "execute_result",
          "data": {
            "text/plain": [
              "['id,gender,age,hypertension,heart_disease,ever_married,work_type,Residence_type,avg_glucose_level,bmi,smoking_status,stroke',\n",
              " '30669,Male,3,0,0,No,children,Rural,95.12,18,,0',\n",
              " '30468,Male,58,1,0,Yes,Private,Urban,87.96,39.2,never smoked,0',\n",
              " '16523,Female,8,0,0,No,Private,Urban,110.89,17.6,,0']"
            ]
          },
          "metadata": {
            "tags": []
          },
          "execution_count": 19
        }
      ]
    },
    {
      "metadata": {
        "id": "7NCLxQAatxk2",
        "colab_type": "code",
        "colab": {
          "autoexec": {
            "startup": false,
            "wait_interval": 0
          },
          "base_uri": "https://localhost:8080/",
          "height": 37
        },
        "outputId": "18b224d2-6af5-4135-89a8-07aa0cab83fb",
        "executionInfo": {
          "status": "ok",
          "timestamp": 1529927564567,
          "user_tz": -330,
          "elapsed": 1093,
          "user": {
            "displayName": "Monalisa Das",
            "photoUrl": "https://lh3.googleusercontent.com/a/default-user=s128",
            "userId": "110048119645175492762"
          }
        }
      },
      "cell_type": "code",
      "source": [
        "train = train.map(lambda line: line.split(\",\"))"
      ],
      "execution_count": 20,
      "outputs": []
    },
    {
      "metadata": {
        "id": "OhQyO6c-txgA",
        "colab_type": "code",
        "colab": {
          "autoexec": {
            "startup": false,
            "wait_interval": 0
          },
          "base_uri": "https://localhost:8080/",
          "height": 641
        },
        "outputId": "4b7a66e6-639b-4030-fa1b-51e7c9bed6f3",
        "executionInfo": {
          "status": "ok",
          "timestamp": 1529927565646,
          "user_tz": -330,
          "elapsed": 952,
          "user": {
            "displayName": "Monalisa Das",
            "photoUrl": "https://lh3.googleusercontent.com/a/default-user=s128",
            "userId": "110048119645175492762"
          }
        }
      },
      "cell_type": "code",
      "source": [
        "train.take(3)"
      ],
      "execution_count": 21,
      "outputs": [
        {
          "output_type": "execute_result",
          "data": {
            "text/plain": [
              "[['id',\n",
              "  'gender',\n",
              "  'age',\n",
              "  'hypertension',\n",
              "  'heart_disease',\n",
              "  'ever_married',\n",
              "  'work_type',\n",
              "  'Residence_type',\n",
              "  'avg_glucose_level',\n",
              "  'bmi',\n",
              "  'smoking_status',\n",
              "  'stroke'],\n",
              " ['30669',\n",
              "  'Male',\n",
              "  '3',\n",
              "  '0',\n",
              "  '0',\n",
              "  'No',\n",
              "  'children',\n",
              "  'Rural',\n",
              "  '95.12',\n",
              "  '18',\n",
              "  '',\n",
              "  '0'],\n",
              " ['30468',\n",
              "  'Male',\n",
              "  '58',\n",
              "  '1',\n",
              "  '0',\n",
              "  'Yes',\n",
              "  'Private',\n",
              "  'Urban',\n",
              "  '87.96',\n",
              "  '39.2',\n",
              "  'never smoked',\n",
              "  '0']]"
            ]
          },
          "metadata": {
            "tags": []
          },
          "execution_count": 21
        }
      ]
    },
    {
      "metadata": {
        "id": "v-xNqbmFulrU",
        "colab_type": "code",
        "colab": {
          "autoexec": {
            "startup": false,
            "wait_interval": 0
          },
          "base_uri": "https://localhost:8080/",
          "height": 225
        },
        "outputId": "f92eb2b3-10ae-47fa-dfce-5237344980be",
        "executionInfo": {
          "status": "ok",
          "timestamp": 1529927587403,
          "user_tz": -330,
          "elapsed": 1206,
          "user": {
            "displayName": "Monalisa Das",
            "photoUrl": "https://lh3.googleusercontent.com/a/default-user=s128",
            "userId": "110048119645175492762"
          }
        }
      },
      "cell_type": "code",
      "source": [
        "train.first()"
      ],
      "execution_count": 25,
      "outputs": [
        {
          "output_type": "execute_result",
          "data": {
            "text/plain": [
              "['id',\n",
              " 'gender',\n",
              " 'age',\n",
              " 'hypertension',\n",
              " 'heart_disease',\n",
              " 'ever_married',\n",
              " 'work_type',\n",
              " 'Residence_type',\n",
              " 'avg_glucose_level',\n",
              " 'bmi',\n",
              " 'smoking_status',\n",
              " 'stroke']"
            ]
          },
          "metadata": {
            "tags": []
          },
          "execution_count": 25
        }
      ]
    },
    {
      "metadata": {
        "id": "QlwNv5v3uluZ",
        "colab_type": "code",
        "colab": {
          "autoexec": {
            "startup": false,
            "wait_interval": 0
          },
          "base_uri": "https://localhost:8080/",
          "height": 433
        },
        "outputId": "a9cdaa58-14eb-4487-8c95-8eb887c9b3ed",
        "executionInfo": {
          "status": "ok",
          "timestamp": 1529937488017,
          "user_tz": -330,
          "elapsed": 911,
          "user": {
            "displayName": "Monalisa Das",
            "photoUrl": "https://lh3.googleusercontent.com/a/default-user=s128",
            "userId": "110048119645175492762"
          }
        }
      },
      "cell_type": "code",
      "source": [
        "train.top(2)"
      ],
      "execution_count": 169,
      "outputs": [
        {
          "output_type": "execute_result",
          "data": {
            "text/plain": [
              "[['id',\n",
              "  'gender',\n",
              "  'age',\n",
              "  'hypertension',\n",
              "  'heart_disease',\n",
              "  'ever_married',\n",
              "  'work_type',\n",
              "  'Residence_type',\n",
              "  'avg_glucose_level',\n",
              "  'bmi',\n",
              "  'smoking_status',\n",
              "  'stroke'],\n",
              " ['9998',\n",
              "  'Male',\n",
              "  '55',\n",
              "  '0',\n",
              "  '0',\n",
              "  'Yes',\n",
              "  'Govt_job',\n",
              "  'Urban',\n",
              "  '250.28',\n",
              "  '38.6',\n",
              "  'never smoked',\n",
              "  '0']]"
            ]
          },
          "metadata": {
            "tags": []
          },
          "execution_count": 169
        }
      ]
    },
    {
      "metadata": {
        "id": "WFQRHs_LYaVK",
        "colab_type": "text"
      },
      "cell_type": "markdown",
      "source": [
        "# Converting to Dataframe"
      ]
    },
    {
      "metadata": {
        "id": "7ykpI7XuwKkQ",
        "colab_type": "code",
        "colab": {
          "autoexec": {
            "startup": false,
            "wait_interval": 0
          },
          "base_uri": "https://localhost:8080/",
          "height": 37
        },
        "outputId": "03bde36c-1d13-4750-d487-660c2b8b323f",
        "executionInfo": {
          "status": "ok",
          "timestamp": 1529927593782,
          "user_tz": -330,
          "elapsed": 1003,
          "user": {
            "displayName": "Monalisa Das",
            "photoUrl": "https://lh3.googleusercontent.com/a/default-user=s128",
            "userId": "110048119645175492762"
          }
        }
      },
      "cell_type": "code",
      "source": [
        "from pyspark.sql import Row"
      ],
      "execution_count": 26,
      "outputs": []
    },
    {
      "metadata": {
        "id": "4iVY59gDwKnP",
        "colab_type": "code",
        "colab": {
          "autoexec": {
            "startup": false,
            "wait_interval": 0
          },
          "base_uri": "https://localhost:8080/",
          "height": 37
        },
        "outputId": "9c84e1a8-adb8-44bd-ed90-3572dbbb592b",
        "executionInfo": {
          "status": "ok",
          "timestamp": 1529927597184,
          "user_tz": -330,
          "elapsed": 2503,
          "user": {
            "displayName": "Monalisa Das",
            "photoUrl": "https://lh3.googleusercontent.com/a/default-user=s128",
            "userId": "110048119645175492762"
          }
        }
      },
      "cell_type": "code",
      "source": [
        "train_df=train.map(lambda line: Row(id=line[0],\n",
        "                                     gender =line[1],\n",
        "                                    age=line[2],\n",
        "                                    hypertension=line[3],\n",
        "                                    heart_disease=line[4],\n",
        "                                    ever_married=line[5],\n",
        "                                    work_type=line[6],\n",
        "                                    Residence_type=line[7],\n",
        "                                    avg_glucose_level=line[8],\n",
        "                                    bmi=line[9],\n",
        "                                    smoking_status=line[10],\n",
        "                                    stroke=line[11])).toDF()"
      ],
      "execution_count": 27,
      "outputs": []
    },
    {
      "metadata": {
        "id": "L_SZBbe8yMZj",
        "colab_type": "code",
        "colab": {
          "autoexec": {
            "startup": false,
            "wait_interval": 0
          },
          "base_uri": "https://localhost:8080/",
          "height": 193
        },
        "outputId": "6e14fc4b-9827-4972-d6ac-97e7f820ad64",
        "executionInfo": {
          "status": "ok",
          "timestamp": 1529927604036,
          "user_tz": -330,
          "elapsed": 1012,
          "user": {
            "displayName": "Monalisa Das",
            "photoUrl": "https://lh3.googleusercontent.com/a/default-user=s128",
            "userId": "110048119645175492762"
          }
        }
      },
      "cell_type": "code",
      "source": [
        "train_df.show(3)"
      ],
      "execution_count": 30,
      "outputs": [
        {
          "output_type": "stream",
          "text": [
            "+--------------+---+-----------------+----+------------+------+-------------+------------+-----+--------------+------+---------+\n",
            "|Residence_type|age|avg_glucose_level| bmi|ever_married|gender|heart_disease|hypertension|   id|smoking_status|stroke|work_type|\n",
            "+--------------+---+-----------------+----+------------+------+-------------+------------+-----+--------------+------+---------+\n",
            "|Residence_type|age|avg_glucose_level| bmi|ever_married|gender|heart_disease|hypertension|   id|smoking_status|stroke|work_type|\n",
            "|         Rural|  3|            95.12|  18|          No|  Male|            0|           0|30669|              |     0| children|\n",
            "|         Urban| 58|            87.96|39.2|         Yes|  Male|            0|           1|30468|  never smoked|     0|  Private|\n",
            "+--------------+---+-----------------+----+------------+------+-------------+------------+-----+--------------+------+---------+\n",
            "only showing top 3 rows\n",
            "\n"
          ],
          "name": "stdout"
        }
      ]
    },
    {
      "metadata": {
        "id": "2947qspXYja6",
        "colab_type": "text"
      },
      "cell_type": "markdown",
      "source": [
        "#Analyze the data type"
      ]
    },
    {
      "metadata": {
        "id": "BBOVisF0DgAq",
        "colab_type": "code",
        "colab": {
          "autoexec": {
            "startup": false,
            "wait_interval": 0
          },
          "base_uri": "https://localhost:8080/",
          "height": 260
        },
        "outputId": "ea461067-2fbd-418f-9e14-a73d08c3fb8b",
        "executionInfo": {
          "status": "ok",
          "timestamp": 1529927614035,
          "user_tz": -330,
          "elapsed": 1092,
          "user": {
            "displayName": "Monalisa Das",
            "photoUrl": "https://lh3.googleusercontent.com/a/default-user=s128",
            "userId": "110048119645175492762"
          }
        }
      },
      "cell_type": "code",
      "source": [
        "train_df.printSchema()"
      ],
      "execution_count": 33,
      "outputs": [
        {
          "output_type": "stream",
          "text": [
            "root\n",
            " |-- Residence_type: string (nullable = true)\n",
            " |-- age: string (nullable = true)\n",
            " |-- avg_glucose_level: string (nullable = true)\n",
            " |-- bmi: string (nullable = true)\n",
            " |-- ever_married: string (nullable = true)\n",
            " |-- gender: string (nullable = true)\n",
            " |-- heart_disease: string (nullable = true)\n",
            " |-- hypertension: string (nullable = true)\n",
            " |-- id: string (nullable = true)\n",
            " |-- smoking_status: string (nullable = true)\n",
            " |-- stroke: string (nullable = true)\n",
            " |-- work_type: string (nullable = true)\n",
            "\n"
          ],
          "name": "stdout"
        }
      ]
    },
    {
      "metadata": {
        "id": "iiFGPIkWUklS",
        "colab_type": "code",
        "colab": {
          "autoexec": {
            "startup": false,
            "wait_interval": 0
          },
          "base_uri": "https://localhost:8080/",
          "height": 211
        },
        "outputId": "800f1e68-113e-4888-9c1f-b1e6925514a5",
        "executionInfo": {
          "status": "ok",
          "timestamp": 1529937655158,
          "user_tz": -330,
          "elapsed": 3272,
          "user": {
            "displayName": "Monalisa Das",
            "photoUrl": "https://lh3.googleusercontent.com/a/default-user=s128",
            "userId": "110048119645175492762"
          }
        }
      },
      "cell_type": "code",
      "source": [
        "train_df.describe().show()"
      ],
      "execution_count": 171,
      "outputs": [
        {
          "output_type": "stream",
          "text": [
            "+-------+--------------+-----------------+------------------+------------------+------------+------+-------------------+-------------------+------------------+--------------+--------------------+---------+\n",
            "|summary|Residence_type|              age| avg_glucose_level|               bmi|ever_married|gender|      heart_disease|       hypertension|                id|smoking_status|              stroke|work_type|\n",
            "+-------+--------------+-----------------+------------------+------------------+------------+------+-------------------+-------------------+------------------+--------------+--------------------+---------+\n",
            "|  count|         41938|            41938|             41938|             41938|       41938| 41938|              41938|              41938|             41938|         41938|               41938|    41938|\n",
            "|   mean|          null|41.83929038099844|103.63264507583138|28.605038386852513|        null|  null|0.04311125947827746|0.08751013400734417|36816.046759502125|          null|0.015332156993657304|     null|\n",
            "| stddev|          null|22.48365958008109|  42.2298142058113| 7.770020492343954|        null|  null|0.20310997628534916| 0.2825845263814553| 20916.47802851323|          null|  0.1228716482753566|     null|\n",
            "|    min|         Rural|             0.08|              55.0|              10.1|          No|Female|                0.0|                0.0|               1.0|              |                 0.0| Govt_job|\n",
            "|    max|         Urban|             82.0|            291.05|              97.6|         Yes| Other|                1.0|                1.0|           72943.0|        smokes|                 1.0| children|\n",
            "+-------+--------------+-----------------+------------------+------------------+------------+------+-------------------+-------------------+------------------+--------------+--------------------+---------+\n",
            "\n"
          ],
          "name": "stdout"
        }
      ]
    },
    {
      "metadata": {
        "id": "MIjoH-GqYxY6",
        "colab_type": "text"
      },
      "cell_type": "markdown",
      "source": [
        "#Typecasting from String to Float"
      ]
    },
    {
      "metadata": {
        "id": "_hpvc7hMDgUc",
        "colab_type": "code",
        "colab": {
          "autoexec": {
            "startup": false,
            "wait_interval": 0
          },
          "base_uri": "https://localhost:8080/",
          "height": 37
        },
        "outputId": "e136d85b-5402-485e-e7e0-d71bc175a98c",
        "executionInfo": {
          "status": "ok",
          "timestamp": 1529927615193,
          "user_tz": -330,
          "elapsed": 981,
          "user": {
            "displayName": "Monalisa Das",
            "photoUrl": "https://lh3.googleusercontent.com/a/default-user=s128",
            "userId": "110048119645175492762"
          }
        }
      },
      "cell_type": "code",
      "source": [
        "from pyspark.sql.types import *\n",
        "train_df = train_df.withColumn(\"age\", train_df[\"age\"].cast(FloatType()))\\\n",
        "                   .withColumn(\"avg_glucose_level\", train_df[\"avg_glucose_level\"].cast(FloatType()))\\\n",
        "                   .withColumn(\"bmi\", train_df[\"bmi\"].cast(FloatType()))\\\n",
        "                   .withColumn(\"heart_disease\", train_df[\"heart_disease\"].cast(FloatType()))\\\n",
        "                   .withColumn(\"hypertension\", train_df[\"hypertension\"].cast(FloatType()))\\\n",
        "                    .withColumn(\"stroke\", train_df[\"stroke\"].cast(FloatType()))\\\n",
        "                    .withColumn(\"id\", train_df[\"id\"].cast(FloatType()))"
      ],
      "execution_count": 34,
      "outputs": []
    },
    {
      "metadata": {
        "id": "ziU7XUQmDf-6",
        "colab_type": "code",
        "colab": {
          "autoexec": {
            "startup": false,
            "wait_interval": 0
          },
          "base_uri": "https://localhost:8080/",
          "height": 260
        },
        "outputId": "16db0b46-54e2-4354-a98c-15fea6c0ae14",
        "executionInfo": {
          "status": "ok",
          "timestamp": 1529927915037,
          "user_tz": -330,
          "elapsed": 1114,
          "user": {
            "displayName": "Monalisa Das",
            "photoUrl": "https://lh3.googleusercontent.com/a/default-user=s128",
            "userId": "110048119645175492762"
          }
        }
      },
      "cell_type": "code",
      "source": [
        "train_df.printSchema()"
      ],
      "execution_count": 61,
      "outputs": [
        {
          "output_type": "stream",
          "text": [
            "root\n",
            " |-- Residence_type: string (nullable = true)\n",
            " |-- age: float (nullable = true)\n",
            " |-- avg_glucose_level: float (nullable = true)\n",
            " |-- bmi: float (nullable = true)\n",
            " |-- ever_married: string (nullable = true)\n",
            " |-- gender: string (nullable = true)\n",
            " |-- heart_disease: float (nullable = true)\n",
            " |-- hypertension: float (nullable = true)\n",
            " |-- id: float (nullable = true)\n",
            " |-- smoking_status: string (nullable = true)\n",
            " |-- stroke: float (nullable = true)\n",
            " |-- work_type: string (nullable = true)\n",
            "\n"
          ],
          "name": "stdout"
        }
      ]
    },
    {
      "metadata": {
        "id": "dGbSF1TDbkRt",
        "colab_type": "text"
      },
      "cell_type": "markdown",
      "source": [
        "#Exploratory Data Analysis(EDA)"
      ]
    },
    {
      "metadata": {
        "id": "U8rpuB3kZZZ_",
        "colab_type": "text"
      },
      "cell_type": "markdown",
      "source": [
        "#Missing value Detection and Imputation"
      ]
    },
    {
      "metadata": {
        "id": "QpN5c5ThDf6T",
        "colab_type": "code",
        "colab": {
          "autoexec": {
            "startup": false,
            "wait_interval": 0
          },
          "base_uri": "https://localhost:8080/",
          "height": 211
        },
        "outputId": "e5592b81-bb14-4728-d768-68310c65abbc",
        "executionInfo": {
          "status": "ok",
          "timestamp": 1529927630556,
          "user_tz": -330,
          "elapsed": 5160,
          "user": {
            "displayName": "Monalisa Das",
            "photoUrl": "https://lh3.googleusercontent.com/a/default-user=s128",
            "userId": "110048119645175492762"
          }
        }
      },
      "cell_type": "code",
      "source": [
        "train_df.describe().show()"
      ],
      "execution_count": 38,
      "outputs": [
        {
          "output_type": "stream",
          "text": [
            "+-------+--------------+------------------+------------------+------------------+------------+------+-------------------+-------------------+------------------+--------------+-------------------+---------+\n",
            "|summary|Residence_type|               age| avg_glucose_level|               bmi|ever_married|gender|      heart_disease|       hypertension|                id|smoking_status|             stroke|work_type|\n",
            "+-------+--------------+------------------+------------------+------------------+------------+------+-------------------+-------------------+------------------+--------------+-------------------+---------+\n",
            "|  count|         43401|             43400|             43400|             41938|       43401| 43401|              43400|              43400|             43400|         43401|              43400|    43401|\n",
            "|   mean|          null| 42.21789400918109|104.48274998273718|28.605038386852513|        null|  null|0.04751152073732719|0.09357142857142857| 36326.14235023042|          null|0.01804147465437788|     null|\n",
            "| stddev|          null|22.519648680565428|43.111750958972756| 7.770020492343954|        null|  null| 0.2127327405020974|0.29123490630939725|21072.134879182842|          null|0.13310292280179156|     null|\n",
            "|    min|Residence_type|              0.08|              55.0|              10.1|          No|Female|                0.0|                0.0|               1.0|              |                0.0| Govt_job|\n",
            "|    max|         Urban|              82.0|            291.05|              97.6|ever_married|gender|                1.0|                1.0|           72943.0|smoking_status|                1.0|work_type|\n",
            "+-------+--------------+------------------+------------------+------------------+------------+------+-------------------+-------------------+------------------+--------------+-------------------+---------+\n",
            "\n"
          ],
          "name": "stdout"
        }
      ]
    },
    {
      "metadata": {
        "id": "SHfgvVWVZgwv",
        "colab_type": "text"
      },
      "cell_type": "markdown",
      "source": [
        "As All other Columns has 43400 observation and bmi has 41938 observation,So Bmi column has 1462 no of missing values. As missing value is only 3% of entire data,dropped these values from the dataset to proceed further."
      ]
    },
    {
      "metadata": {
        "id": "uZ5nYM64M6eH",
        "colab_type": "code",
        "colab": {
          "autoexec": {
            "startup": false,
            "wait_interval": 0
          },
          "base_uri": "https://localhost:8080/",
          "height": 37
        },
        "outputId": "7b65f3f8-b3a9-42f7-ba3c-75a282abe243",
        "executionInfo": {
          "status": "ok",
          "timestamp": 1529927647016,
          "user_tz": -330,
          "elapsed": 1235,
          "user": {
            "displayName": "Monalisa Das",
            "photoUrl": "https://lh3.googleusercontent.com/a/default-user=s128",
            "userId": "110048119645175492762"
          }
        }
      },
      "cell_type": "code",
      "source": [
        "train_df=train_df.na.drop()"
      ],
      "execution_count": 42,
      "outputs": []
    },
    {
      "metadata": {
        "id": "-mfMnpvz0sBR",
        "colab_type": "code",
        "colab": {
          "autoexec": {
            "startup": false,
            "wait_interval": 0
          },
          "base_uri": "https://localhost:8080/",
          "height": 35
        },
        "outputId": "2490bc2c-3682-4b20-83e1-a35d353c1c73",
        "executionInfo": {
          "status": "ok",
          "timestamp": 1529927650871,
          "user_tz": -330,
          "elapsed": 2539,
          "user": {
            "displayName": "Monalisa Das",
            "photoUrl": "https://lh3.googleusercontent.com/a/default-user=s128",
            "userId": "110048119645175492762"
          }
        }
      },
      "cell_type": "code",
      "source": [
        "train_df.count(),test_df.count()"
      ],
      "execution_count": 44,
      "outputs": [
        {
          "output_type": "execute_result",
          "data": {
            "text/plain": [
              "(41938, 18010)"
            ]
          },
          "metadata": {
            "tags": []
          },
          "execution_count": 44
        }
      ]
    },
    {
      "metadata": {
        "id": "_JPGiczabxo8",
        "colab_type": "text"
      },
      "cell_type": "markdown",
      "source": [
        "# Deletion of unwanted column"
      ]
    },
    {
      "metadata": {
        "id": "IiJATag9b2Iu",
        "colab_type": "text"
      },
      "cell_type": "markdown",
      "source": [
        "As ID column contains unique value for each observation,it has no impact on dependant variable,Hence as a part of EDA dropped the column"
      ]
    },
    {
      "metadata": {
        "id": "zvjwIU5D0sGD",
        "colab_type": "code",
        "colab": {
          "autoexec": {
            "startup": false,
            "wait_interval": 0
          },
          "base_uri": "https://localhost:8080/",
          "height": 37
        },
        "outputId": "8716bd19-d3ee-4350-ab52-b862b735ba40",
        "executionInfo": {
          "status": "ok",
          "timestamp": 1529927975783,
          "user_tz": -330,
          "elapsed": 1241,
          "user": {
            "displayName": "Monalisa Das",
            "photoUrl": "https://lh3.googleusercontent.com/a/default-user=s128",
            "userId": "110048119645175492762"
          }
        }
      },
      "cell_type": "code",
      "source": [
        "train_new=train_df.drop(\"id\")"
      ],
      "execution_count": 63,
      "outputs": []
    },
    {
      "metadata": {
        "id": "SNMPzqZM1y2g",
        "colab_type": "code",
        "colab": {
          "autoexec": {
            "startup": false,
            "wait_interval": 0
          },
          "base_uri": "https://localhost:8080/",
          "height": 37
        },
        "outputId": "1af3d3aa-321e-49bf-db91-d575e0841b61",
        "executionInfo": {
          "status": "ok",
          "timestamp": 1529927977056,
          "user_tz": -330,
          "elapsed": 1112,
          "user": {
            "displayName": "Monalisa Das",
            "photoUrl": "https://lh3.googleusercontent.com/a/default-user=s128",
            "userId": "110048119645175492762"
          }
        }
      },
      "cell_type": "code",
      "source": [
        "test_new=test_df.drop(\"id\")"
      ],
      "execution_count": 64,
      "outputs": []
    },
    {
      "metadata": {
        "id": "eOa_HnR70sI-",
        "colab_type": "code",
        "colab": {
          "autoexec": {
            "startup": false,
            "wait_interval": 0
          },
          "base_uri": "https://localhost:8080/",
          "height": 211
        },
        "outputId": "c9395d88-de3c-4019-c02e-b879624eae0a",
        "executionInfo": {
          "status": "ok",
          "timestamp": 1529927980944,
          "user_tz": -330,
          "elapsed": 3587,
          "user": {
            "displayName": "Monalisa Das",
            "photoUrl": "https://lh3.googleusercontent.com/a/default-user=s128",
            "userId": "110048119645175492762"
          }
        }
      },
      "cell_type": "code",
      "source": [
        "train_new.describe().show()"
      ],
      "execution_count": 65,
      "outputs": [
        {
          "output_type": "stream",
          "text": [
            "+-------+--------------+-----------------+------------------+------------------+------------+------+-------------------+-------------------+--------------+--------------------+---------+\n",
            "|summary|Residence_type|              age| avg_glucose_level|               bmi|ever_married|gender|      heart_disease|       hypertension|smoking_status|              stroke|work_type|\n",
            "+-------+--------------+-----------------+------------------+------------------+------------+------+-------------------+-------------------+--------------+--------------------+---------+\n",
            "|  count|         41938|            41938|             41938|             41938|       41938| 41938|              41938|              41938|         41938|               41938|    41938|\n",
            "|   mean|          null|41.83929038099844|103.63264507583138|28.605038386852513|        null|  null|0.04311125947827746|0.08751013400734417|          null|0.015332156993657304|     null|\n",
            "| stddev|          null|22.48365958008109|  42.2298142058113| 7.770020492343954|        null|  null|0.20310997628534916| 0.2825845263814553|          null|  0.1228716482753566|     null|\n",
            "|    min|         Rural|             0.08|              55.0|              10.1|          No|Female|                0.0|                0.0|              |                 0.0| Govt_job|\n",
            "|    max|         Urban|             82.0|            291.05|              97.6|         Yes| Other|                1.0|                1.0|        smokes|                 1.0| children|\n",
            "+-------+--------------+-----------------+------------------+------------------+------------+------+-------------------+-------------------+--------------+--------------------+---------+\n",
            "\n"
          ],
          "name": "stdout"
        }
      ]
    },
    {
      "metadata": {
        "id": "PPIxK_mB0sLt",
        "colab_type": "code",
        "colab": {
          "autoexec": {
            "startup": false,
            "wait_interval": 0
          },
          "base_uri": "https://localhost:8080/",
          "height": 37
        },
        "outputId": "aed92fc1-45b6-44e9-b48e-8c7074cd8a86",
        "executionInfo": {
          "status": "ok",
          "timestamp": 1529927983216,
          "user_tz": -330,
          "elapsed": 979,
          "user": {
            "displayName": "Monalisa Das",
            "photoUrl": "https://lh3.googleusercontent.com/a/default-user=s128",
            "userId": "110048119645175492762"
          }
        }
      },
      "cell_type": "code",
      "source": [
        "from pyspark.ml.feature import StringIndexer"
      ],
      "execution_count": 66,
      "outputs": []
    },
    {
      "metadata": {
        "id": "zd_ZV6XPDvFm",
        "colab_type": "code",
        "colab": {
          "autoexec": {
            "startup": false,
            "wait_interval": 0
          },
          "base_uri": "https://localhost:8080/",
          "height": 37
        },
        "outputId": "6c693433-7fa9-4149-ae34-10fcdf2acae8",
        "executionInfo": {
          "status": "ok",
          "timestamp": 1529927986045,
          "user_tz": -330,
          "elapsed": 2065,
          "user": {
            "displayName": "Monalisa Das",
            "photoUrl": "https://lh3.googleusercontent.com/a/default-user=s128",
            "userId": "110048119645175492762"
          }
        }
      },
      "cell_type": "code",
      "source": [
        "plan_indexer = StringIndexer(inputCol = 'gender', outputCol = 'gender_new')\n",
        "labeller_g= plan_indexer.fit(train_new)\n",
        "Train1 = labeller_g.transform(train_new)"
      ],
      "execution_count": 67,
      "outputs": []
    },
    {
      "metadata": {
        "id": "INiljfnEDvJL",
        "colab_type": "code",
        "colab": {
          "autoexec": {
            "startup": false,
            "wait_interval": 0
          },
          "base_uri": "https://localhost:8080/",
          "height": 211
        },
        "outputId": "37408446-7a4d-4269-bb43-a4d14f348b49",
        "executionInfo": {
          "status": "ok",
          "timestamp": 1529927987018,
          "user_tz": -330,
          "elapsed": 912,
          "user": {
            "displayName": "Monalisa Das",
            "photoUrl": "https://lh3.googleusercontent.com/a/default-user=s128",
            "userId": "110048119645175492762"
          }
        }
      },
      "cell_type": "code",
      "source": [
        "Train1.show(4)"
      ],
      "execution_count": 68,
      "outputs": [
        {
          "output_type": "stream",
          "text": [
            "+--------------+----+-----------------+----+------------+------+-------------+------------+---------------+------+---------+----------+\n",
            "|Residence_type| age|avg_glucose_level| bmi|ever_married|gender|heart_disease|hypertension| smoking_status|stroke|work_type|gender_new|\n",
            "+--------------+----+-----------------+----+------------+------+-------------+------------+---------------+------+---------+----------+\n",
            "|         Rural| 3.0|            95.12|18.0|          No|  Male|          0.0|         0.0|               |   0.0| children|       1.0|\n",
            "|         Urban|58.0|            87.96|39.2|         Yes|  Male|          0.0|         1.0|   never smoked|   0.0|  Private|       1.0|\n",
            "|         Urban| 8.0|           110.89|17.6|          No|Female|          0.0|         0.0|               |   0.0|  Private|       0.0|\n",
            "|         Rural|70.0|            69.04|35.9|         Yes|Female|          0.0|         0.0|formerly smoked|   0.0|  Private|       0.0|\n",
            "+--------------+----+-----------------+----+------------+------+-------------+------------+---------------+------+---------+----------+\n",
            "only showing top 4 rows\n",
            "\n"
          ],
          "name": "stdout"
        }
      ]
    },
    {
      "metadata": {
        "id": "NCPVR4UecSg_",
        "colab_type": "text"
      },
      "cell_type": "markdown",
      "source": [
        "# Dummy Variable Creation for categorical variables"
      ]
    },
    {
      "metadata": {
        "id": "YKSYHKRsDvWD",
        "colab_type": "code",
        "colab": {
          "autoexec": {
            "startup": false,
            "wait_interval": 0
          },
          "base_uri": "https://localhost:8080/",
          "height": 37
        },
        "outputId": "f2254e5b-9db8-4e73-a8ca-11fdb5969f41",
        "executionInfo": {
          "status": "ok",
          "timestamp": 1529927993058,
          "user_tz": -330,
          "elapsed": 2176,
          "user": {
            "displayName": "Monalisa Das",
            "photoUrl": "https://lh3.googleusercontent.com/a/default-user=s128",
            "userId": "110048119645175492762"
          }
        }
      },
      "cell_type": "code",
      "source": [
        "plan_indexer = StringIndexer(inputCol = 'ever_married', outputCol = 'ever_married_new')\n",
        "labeller_m= plan_indexer.fit(Train1)\n",
        "Train1 = labeller_m.transform(Train1)"
      ],
      "execution_count": 69,
      "outputs": []
    },
    {
      "metadata": {
        "id": "xvlGEgXyDvdH",
        "colab_type": "code",
        "colab": {
          "autoexec": {
            "startup": false,
            "wait_interval": 0
          },
          "base_uri": "https://localhost:8080/",
          "height": 211
        },
        "outputId": "b512dbf4-970a-46a8-a05b-56c3fd662091",
        "executionInfo": {
          "status": "ok",
          "timestamp": 1529927996977,
          "user_tz": -330,
          "elapsed": 1177,
          "user": {
            "displayName": "Monalisa Das",
            "photoUrl": "https://lh3.googleusercontent.com/a/default-user=s128",
            "userId": "110048119645175492762"
          }
        }
      },
      "cell_type": "code",
      "source": [
        "Train1.show(4)"
      ],
      "execution_count": 70,
      "outputs": [
        {
          "output_type": "stream",
          "text": [
            "+--------------+----+-----------------+----+------------+------+-------------+------------+---------------+------+---------+----------+----------------+\n",
            "|Residence_type| age|avg_glucose_level| bmi|ever_married|gender|heart_disease|hypertension| smoking_status|stroke|work_type|gender_new|ever_married_new|\n",
            "+--------------+----+-----------------+----+------------+------+-------------+------------+---------------+------+---------+----------+----------------+\n",
            "|         Rural| 3.0|            95.12|18.0|          No|  Male|          0.0|         0.0|               |   0.0| children|       1.0|             1.0|\n",
            "|         Urban|58.0|            87.96|39.2|         Yes|  Male|          0.0|         1.0|   never smoked|   0.0|  Private|       1.0|             0.0|\n",
            "|         Urban| 8.0|           110.89|17.6|          No|Female|          0.0|         0.0|               |   0.0|  Private|       0.0|             1.0|\n",
            "|         Rural|70.0|            69.04|35.9|         Yes|Female|          0.0|         0.0|formerly smoked|   0.0|  Private|       0.0|             0.0|\n",
            "+--------------+----+-----------------+----+------------+------+-------------+------------+---------------+------+---------+----------+----------------+\n",
            "only showing top 4 rows\n",
            "\n"
          ],
          "name": "stdout"
        }
      ]
    },
    {
      "metadata": {
        "id": "cesVARRrDvD6",
        "colab_type": "code",
        "colab": {
          "autoexec": {
            "startup": false,
            "wait_interval": 0
          },
          "base_uri": "https://localhost:8080/",
          "height": 37
        },
        "outputId": "c6758120-800f-4f48-adaa-126c3edcbea6",
        "executionInfo": {
          "status": "ok",
          "timestamp": 1529928003969,
          "user_tz": -330,
          "elapsed": 2361,
          "user": {
            "displayName": "Monalisa Das",
            "photoUrl": "https://lh3.googleusercontent.com/a/default-user=s128",
            "userId": "110048119645175492762"
          }
        }
      },
      "cell_type": "code",
      "source": [
        "plan_indexer = StringIndexer(inputCol = 'Residence_type', outputCol = 'Residence_type_new')\n",
        "labeller_r= plan_indexer.fit(Train1)\n",
        "Train1 = labeller_r.transform(Train1)"
      ],
      "execution_count": 71,
      "outputs": []
    },
    {
      "metadata": {
        "id": "yEgdcXN4GgQ8",
        "colab_type": "code",
        "colab": {
          "autoexec": {
            "startup": false,
            "wait_interval": 0
          },
          "base_uri": "https://localhost:8080/",
          "height": 37
        },
        "outputId": "d4980f1c-9315-45dd-9b82-48babe2512fa",
        "executionInfo": {
          "status": "ok",
          "timestamp": 1529928006527,
          "user_tz": -330,
          "elapsed": 2501,
          "user": {
            "displayName": "Monalisa Das",
            "photoUrl": "https://lh3.googleusercontent.com/a/default-user=s128",
            "userId": "110048119645175492762"
          }
        }
      },
      "cell_type": "code",
      "source": [
        "plan_indexer = StringIndexer(inputCol = 'smoking_status', outputCol = 'smoking_status_new')\n",
        "labeller_s= plan_indexer.fit(Train1)\n",
        "Train1 = labeller_s.transform(Train1)"
      ],
      "execution_count": 72,
      "outputs": []
    },
    {
      "metadata": {
        "id": "uxFzb5JpGggN",
        "colab_type": "code",
        "colab": {
          "autoexec": {
            "startup": false,
            "wait_interval": 0
          },
          "base_uri": "https://localhost:8080/",
          "height": 37
        },
        "outputId": "285d7108-c0ac-41f7-d6ab-8ea46d8f7c9a",
        "executionInfo": {
          "status": "ok",
          "timestamp": 1529928009058,
          "user_tz": -330,
          "elapsed": 2335,
          "user": {
            "displayName": "Monalisa Das",
            "photoUrl": "https://lh3.googleusercontent.com/a/default-user=s128",
            "userId": "110048119645175492762"
          }
        }
      },
      "cell_type": "code",
      "source": [
        "plan_indexer = StringIndexer(inputCol = 'work_type', outputCol = 'work_type_new')\n",
        "labeller_w= plan_indexer.fit(Train1)\n",
        "Train1 = labeller_w.transform(Train1)"
      ],
      "execution_count": 73,
      "outputs": []
    },
    {
      "metadata": {
        "id": "S1rzXQ5BGgNg",
        "colab_type": "code",
        "colab": {
          "autoexec": {
            "startup": false,
            "wait_interval": 0
          },
          "base_uri": "https://localhost:8080/",
          "height": 211
        },
        "outputId": "93938989-3479-4a2f-a5ad-7ed0f6198143",
        "executionInfo": {
          "status": "ok",
          "timestamp": 1529928010146,
          "user_tz": -330,
          "elapsed": 814,
          "user": {
            "displayName": "Monalisa Das",
            "photoUrl": "https://lh3.googleusercontent.com/a/default-user=s128",
            "userId": "110048119645175492762"
          }
        }
      },
      "cell_type": "code",
      "source": [
        "Train1.show(4)"
      ],
      "execution_count": 74,
      "outputs": [
        {
          "output_type": "stream",
          "text": [
            "+--------------+----+-----------------+----+------------+------+-------------+------------+---------------+------+---------+----------+----------------+------------------+------------------+-------------+\n",
            "|Residence_type| age|avg_glucose_level| bmi|ever_married|gender|heart_disease|hypertension| smoking_status|stroke|work_type|gender_new|ever_married_new|Residence_type_new|smoking_status_new|work_type_new|\n",
            "+--------------+----+-----------------+----+------------+------+-------------+------------+---------------+------+---------+----------+----------------+------------------+------------------+-------------+\n",
            "|         Rural| 3.0|            95.12|18.0|          No|  Male|          0.0|         0.0|               |   0.0| children|       1.0|             1.0|               1.0|               1.0|          2.0|\n",
            "|         Urban|58.0|            87.96|39.2|         Yes|  Male|          0.0|         1.0|   never smoked|   0.0|  Private|       1.0|             0.0|               0.0|               0.0|          0.0|\n",
            "|         Urban| 8.0|           110.89|17.6|          No|Female|          0.0|         0.0|               |   0.0|  Private|       0.0|             1.0|               0.0|               1.0|          0.0|\n",
            "|         Rural|70.0|            69.04|35.9|         Yes|Female|          0.0|         0.0|formerly smoked|   0.0|  Private|       0.0|             0.0|               1.0|               2.0|          0.0|\n",
            "+--------------+----+-----------------+----+------------+------+-------------+------------+---------------+------+---------+----------+----------------+------------------+------------------+-------------+\n",
            "only showing top 4 rows\n",
            "\n"
          ],
          "name": "stdout"
        }
      ]
    },
    {
      "metadata": {
        "id": "L3bRx-NXchIt",
        "colab_type": "text"
      },
      "cell_type": "markdown",
      "source": [
        "Dropping the original column after creating dummy variables for categorical variables"
      ]
    },
    {
      "metadata": {
        "id": "0YymSD93GgLK",
        "colab_type": "code",
        "colab": {
          "autoexec": {
            "startup": false,
            "wait_interval": 0
          },
          "base_uri": "https://localhost:8080/",
          "height": 17
        },
        "outputId": "cb79c8bd-ea90-4380-8853-e47840ee8573",
        "executionInfo": {
          "status": "ok",
          "timestamp": 1529928020267,
          "user_tz": -330,
          "elapsed": 1688,
          "user": {
            "displayName": "Monalisa Das",
            "photoUrl": "https://lh3.googleusercontent.com/a/default-user=s128",
            "userId": "110048119645175492762"
          }
        }
      },
      "cell_type": "code",
      "source": [
        "Train1=Train1.drop('Residence_type','ever_married','gender','smoking_status','work_type')"
      ],
      "execution_count": 75,
      "outputs": []
    },
    {
      "metadata": {
        "id": "poqCBdK01s4m",
        "colab_type": "code",
        "colab": {
          "autoexec": {
            "startup": false,
            "wait_interval": 0
          },
          "base_uri": "https://localhost:8080/",
          "height": 193
        },
        "outputId": "c83eae6b-8c7a-4ea0-daba-1e24a1227c21",
        "executionInfo": {
          "status": "ok",
          "timestamp": 1529928418953,
          "user_tz": -330,
          "elapsed": 1361,
          "user": {
            "displayName": "Monalisa Das",
            "photoUrl": "https://lh3.googleusercontent.com/a/default-user=s128",
            "userId": "110048119645175492762"
          }
        }
      },
      "cell_type": "code",
      "source": [
        "Train1.show(3)"
      ],
      "execution_count": 79,
      "outputs": [
        {
          "output_type": "stream",
          "text": [
            "+----+-----------------+----+-------------+------------+------+----------+----------------+------------------+------------------+-------------+\n",
            "| age|avg_glucose_level| bmi|heart_disease|hypertension|stroke|gender_new|ever_married_new|Residence_type_new|smoking_status_new|work_type_new|\n",
            "+----+-----------------+----+-------------+------------+------+----------+----------------+------------------+------------------+-------------+\n",
            "| 3.0|            95.12|18.0|          0.0|         0.0|   0.0|       1.0|             1.0|               1.0|               1.0|          2.0|\n",
            "|58.0|            87.96|39.2|          0.0|         1.0|   0.0|       1.0|             0.0|               0.0|               0.0|          0.0|\n",
            "| 8.0|           110.89|17.6|          0.0|         0.0|   0.0|       0.0|             1.0|               0.0|               1.0|          0.0|\n",
            "+----+-----------------+----+-------------+------------+------+----------+----------------+------------------+------------------+-------------+\n",
            "only showing top 3 rows\n",
            "\n"
          ],
          "name": "stdout"
        }
      ]
    },
    {
      "metadata": {
        "id": "4jwSyoV50P9W",
        "colab_type": "code",
        "colab": {
          "autoexec": {
            "startup": false,
            "wait_interval": 0
          },
          "base_uri": "https://localhost:8080/",
          "height": 211
        },
        "outputId": "0e783680-ae7f-4e44-c52a-590ff97ff9d7",
        "executionInfo": {
          "status": "ok",
          "timestamp": 1529930418143,
          "user_tz": -330,
          "elapsed": 2321,
          "user": {
            "displayName": "Monalisa Das",
            "photoUrl": "https://lh3.googleusercontent.com/a/default-user=s128",
            "userId": "110048119645175492762"
          }
        }
      },
      "cell_type": "code",
      "source": [
        "Train1.describe().show()"
      ],
      "execution_count": 102,
      "outputs": [
        {
          "output_type": "stream",
          "text": [
            "+-------+-----------------+------------------+------------------+-------------------+-------------------+--------------------+-------------------+-------------------+-------------------+------------------+------------------+\n",
            "|summary|              age| avg_glucose_level|               bmi|      heart_disease|       hypertension|              stroke|         gender_new|   ever_married_new| Residence_type_new|smoking_status_new|     work_type_new|\n",
            "+-------+-----------------+------------------+------------------+-------------------+-------------------+--------------------+-------------------+-------------------+-------------------+------------------+------------------+\n",
            "|  count|            41938|             41938|             41938|              41938|              41938|               41938|              41938|              41938|              41938|             41938|             41938|\n",
            "|   mean|41.83929038099844|103.63264507583138|28.605038386852513|0.04311125947827746|0.08751013400734417|0.015332156993657304|0.40536029376698934|0.36134293480852686|0.49916543468930324|1.0907053269111546|0.8352806523916257|\n",
            "| stddev|22.48365958008109|  42.2298142058113| 7.770020492343954|0.20310997628534916| 0.2825845263814553|  0.1228716482753566|0.49130734559644085|0.48039538002675464| 0.5000052647793527|1.0631956679793215|1.1078017045521966|\n",
            "|    min|             0.08|              55.0|              10.1|                0.0|                0.0|                 0.0|                0.0|                0.0|                0.0|               0.0|               0.0|\n",
            "|    max|             82.0|            291.05|              97.6|                1.0|                1.0|                 1.0|                2.0|                1.0|                1.0|               3.0|               4.0|\n",
            "+-------+-----------------+------------------+------------------+-------------------+-------------------+--------------------+-------------------+-------------------+-------------------+------------------+------------------+\n",
            "\n"
          ],
          "name": "stdout"
        }
      ]
    },
    {
      "metadata": {
        "id": "W8Ag0O2vfMeV",
        "colab_type": "code",
        "colab": {
          "autoexec": {
            "startup": false,
            "wait_interval": 0
          }
        }
      },
      "cell_type": "code",
      "source": [
        ""
      ],
      "execution_count": 0,
      "outputs": []
    },
    {
      "metadata": {
        "id": "B4QBditJfOFc",
        "colab_type": "text"
      },
      "cell_type": "markdown",
      "source": [
        "# Selecting the features for Model Building"
      ]
    },
    {
      "metadata": {
        "id": "k62g17L00QAi",
        "colab_type": "code",
        "colab": {
          "autoexec": {
            "startup": false,
            "wait_interval": 0
          },
          "base_uri": "https://localhost:8080/",
          "height": 37
        },
        "outputId": "0f91f281-97aa-43f7-d90d-81c719fe2904",
        "executionInfo": {
          "status": "ok",
          "timestamp": 1529930690997,
          "user_tz": -330,
          "elapsed": 1180,
          "user": {
            "displayName": "Monalisa Das",
            "photoUrl": "https://lh3.googleusercontent.com/a/default-user=s128",
            "userId": "110048119645175492762"
          }
        }
      },
      "cell_type": "code",
      "source": [
        "from pyspark.ml.feature import RFormula"
      ],
      "execution_count": 105,
      "outputs": []
    },
    {
      "metadata": {
        "id": "gYBzNw_-32-j",
        "colab_type": "code",
        "colab": {
          "autoexec": {
            "startup": false,
            "wait_interval": 0
          },
          "base_uri": "https://localhost:8080/",
          "height": 37
        },
        "outputId": "244a0e59-d41d-4e66-f1b2-b8987817d94e",
        "executionInfo": {
          "status": "ok",
          "timestamp": 1529930694305,
          "user_tz": -330,
          "elapsed": 918,
          "user": {
            "displayName": "Monalisa Das",
            "photoUrl": "https://lh3.googleusercontent.com/a/default-user=s128",
            "userId": "110048119645175492762"
          }
        }
      },
      "cell_type": "code",
      "source": [
        "formula=RFormula(formula=\"stroke~age+avg_glucose_level+bmi+heart_disease+hypertension+gender_new+ever_married_new+Residence_type_new+smoking_status_new+work_type_new\",featuresCol=\"features\",labelCol=\"label\")"
      ],
      "execution_count": 106,
      "outputs": []
    },
    {
      "metadata": {
        "id": "Hg7e3P_733Cq",
        "colab_type": "code",
        "colab": {
          "autoexec": {
            "startup": false,
            "wait_interval": 0
          },
          "base_uri": "https://localhost:8080/",
          "height": 37
        },
        "outputId": "b346bc46-5d17-484d-84d6-c0faef898910",
        "executionInfo": {
          "status": "ok",
          "timestamp": 1529930706213,
          "user_tz": -330,
          "elapsed": 997,
          "user": {
            "displayName": "Monalisa Das",
            "photoUrl": "https://lh3.googleusercontent.com/a/default-user=s128",
            "userId": "110048119645175492762"
          }
        }
      },
      "cell_type": "code",
      "source": [
        "t1 = formula.fit(Train1)\n",
        "train1 = t1.transform(Train1)"
      ],
      "execution_count": 107,
      "outputs": []
    },
    {
      "metadata": {
        "id": "Z2jx2Rak327w",
        "colab_type": "code",
        "colab": {
          "autoexec": {
            "startup": false,
            "wait_interval": 0
          },
          "base_uri": "https://localhost:8080/",
          "height": 488
        },
        "outputId": "b58f5653-967a-4a18-8d4f-c3952a6a4765",
        "executionInfo": {
          "status": "ok",
          "timestamp": 1529930710124,
          "user_tz": -330,
          "elapsed": 933,
          "user": {
            "displayName": "Monalisa Das",
            "photoUrl": "https://lh3.googleusercontent.com/a/default-user=s128",
            "userId": "110048119645175492762"
          }
        }
      },
      "cell_type": "code",
      "source": [
        "train1.show()"
      ],
      "execution_count": 108,
      "outputs": [
        {
          "output_type": "stream",
          "text": [
            "+----+-----------------+----+-------------+------------+------+----------+----------------+------------------+------------------+-------------+--------------------+-----+\n",
            "| age|avg_glucose_level| bmi|heart_disease|hypertension|stroke|gender_new|ever_married_new|Residence_type_new|smoking_status_new|work_type_new|            features|label|\n",
            "+----+-----------------+----+-------------+------------+------+----------+----------------+------------------+------------------+-------------+--------------------+-----+\n",
            "| 3.0|            95.12|18.0|          0.0|         0.0|   0.0|       1.0|             1.0|               1.0|               1.0|          2.0|[3.0,95.120002746...|  0.0|\n",
            "|58.0|            87.96|39.2|          0.0|         1.0|   0.0|       1.0|             0.0|               0.0|               0.0|          0.0|(10,[0,1,2,4,5],[...|  0.0|\n",
            "| 8.0|           110.89|17.6|          0.0|         0.0|   0.0|       0.0|             1.0|               0.0|               1.0|          0.0|(10,[0,1,2,6,8],[...|  0.0|\n",
            "|70.0|            69.04|35.9|          0.0|         0.0|   0.0|       0.0|             0.0|               1.0|               2.0|          0.0|(10,[0,1,2,7,8],[...|  0.0|\n",
            "|14.0|           161.28|19.1|          0.0|         0.0|   0.0|       1.0|             1.0|               1.0|               1.0|          4.0|[14.0,161.2799987...|  0.0|\n",
            "|47.0|           210.95|50.1|          0.0|         0.0|   0.0|       0.0|             0.0|               0.0|               1.0|          0.0|(10,[0,1,2,8],[47...|  0.0|\n",
            "|52.0|            77.59|17.7|          0.0|         0.0|   0.0|       0.0|             0.0|               0.0|               2.0|          0.0|(10,[0,1,2,8],[52...|  0.0|\n",
            "|75.0|           243.53|27.0|          1.0|         0.0|   0.0|       0.0|             0.0|               1.0|               0.0|          1.0|[75.0,243.5299987...|  0.0|\n",
            "|32.0|            77.67|32.3|          0.0|         0.0|   0.0|       0.0|             0.0|               1.0|               3.0|          0.0|(10,[0,1,2,7,8],[...|  0.0|\n",
            "|74.0|           205.84|54.6|          0.0|         1.0|   0.0|       0.0|             0.0|               0.0|               0.0|          1.0|(10,[0,1,2,4,9],[...|  0.0|\n",
            "|79.0|            77.08|35.0|          0.0|         0.0|   0.0|       0.0|             0.0|               0.0|               1.0|          3.0|(10,[0,1,2,8,9],[...|  0.0|\n",
            "|79.0|            57.08|22.0|          1.0|         0.0|   0.0|       1.0|             0.0|               0.0|               2.0|          0.0|[79.0,57.08000183...|  0.0|\n",
            "|37.0|           162.96|39.4|          0.0|         0.0|   0.0|       0.0|             0.0|               1.0|               0.0|          0.0|(10,[0,1,2,7],[37...|  0.0|\n",
            "|37.0|             73.5|26.1|          0.0|         0.0|   0.0|       0.0|             0.0|               1.0|               2.0|          0.0|(10,[0,1,2,7,8],[...|  0.0|\n",
            "|40.0|            95.04|42.4|          0.0|         0.0|   0.0|       0.0|             0.0|               1.0|               0.0|          0.0|(10,[0,1,2,7],[40...|  0.0|\n",
            "|35.0|            85.37|33.0|          0.0|         0.0|   0.0|       1.0|             1.0|               1.0|               0.0|          0.0|[35.0,85.37000274...|  0.0|\n",
            "|20.0|            84.62|19.7|          0.0|         0.0|   0.0|       0.0|             1.0|               0.0|               3.0|          0.0|(10,[0,1,2,6,8],[...|  0.0|\n",
            "|42.0|            82.67|22.5|          0.0|         0.0|   0.0|       0.0|             0.0|               1.0|               0.0|          0.0|(10,[0,1,2,7],[42...|  0.0|\n",
            "|44.0|            57.33|24.6|          0.0|         0.0|   0.0|       0.0|             0.0|               0.0|               3.0|          3.0|(10,[0,1,2,8,9],[...|  0.0|\n",
            "|79.0|            67.84|25.2|          1.0|         0.0|   0.0|       0.0|             0.0|               0.0|               3.0|          1.0|[79.0,67.83999633...|  0.0|\n",
            "+----+-----------------+----+-------------+------------+------+----------+----------------+------------------+------------------+-------------+--------------------+-----+\n",
            "only showing top 20 rows\n",
            "\n"
          ],
          "name": "stdout"
        }
      ]
    },
    {
      "metadata": {
        "id": "lzEcnLWufcka",
        "colab_type": "text"
      },
      "cell_type": "markdown",
      "source": [
        "# Standardizing the Data"
      ]
    },
    {
      "metadata": {
        "id": "PF7uxeJ1P3H_",
        "colab_type": "code",
        "colab": {
          "autoexec": {
            "startup": false,
            "wait_interval": 0
          },
          "base_uri": "https://localhost:8080/",
          "height": 17
        },
        "outputId": "20c99a8f-9ab4-4cc4-cc15-388e2dd3e17a",
        "executionInfo": {
          "status": "ok",
          "timestamp": 1529935329050,
          "user_tz": -330,
          "elapsed": 938,
          "user": {
            "displayName": "Monalisa Das",
            "photoUrl": "https://lh3.googleusercontent.com/a/default-user=s128",
            "userId": "110048119645175492762"
          }
        }
      },
      "cell_type": "code",
      "source": [
        "from pyspark.ml.feature import StandardScaler"
      ],
      "execution_count": 144,
      "outputs": []
    },
    {
      "metadata": {
        "id": "5VwIkZRJP5FR",
        "colab_type": "code",
        "colab": {
          "autoexec": {
            "startup": false,
            "wait_interval": 0
          },
          "base_uri": "https://localhost:8080/",
          "height": 37
        },
        "outputId": "6070d8c6-d994-445a-d671-3d551de23328",
        "executionInfo": {
          "status": "ok",
          "timestamp": 1529935454750,
          "user_tz": -330,
          "elapsed": 1129,
          "user": {
            "displayName": "Monalisa Das",
            "photoUrl": "https://lh3.googleusercontent.com/a/default-user=s128",
            "userId": "110048119645175492762"
          }
        }
      },
      "cell_type": "code",
      "source": [
        "scaler = StandardScaler(inputCol=\"features\", outputCol=\"scaledFeatures\",\n",
        "                        withStd=True, withMean=False)"
      ],
      "execution_count": 145,
      "outputs": []
    },
    {
      "metadata": {
        "id": "VmiyTW3JP5AP",
        "colab_type": "code",
        "colab": {
          "autoexec": {
            "startup": false,
            "wait_interval": 0
          },
          "base_uri": "https://localhost:8080/",
          "height": 37
        },
        "outputId": "31ae56a8-a1ae-4e97-924b-4bd31436209b",
        "executionInfo": {
          "status": "ok",
          "timestamp": 1529935489553,
          "user_tz": -330,
          "elapsed": 1951,
          "user": {
            "displayName": "Monalisa Das",
            "photoUrl": "https://lh3.googleusercontent.com/a/default-user=s128",
            "userId": "110048119645175492762"
          }
        }
      },
      "cell_type": "code",
      "source": [
        "scalerModel = scaler.fit(train1)"
      ],
      "execution_count": 146,
      "outputs": []
    },
    {
      "metadata": {
        "id": "p_NrPQNsP3FT",
        "colab_type": "code",
        "colab": {
          "autoexec": {
            "startup": false,
            "wait_interval": 0
          },
          "base_uri": "https://localhost:8080/",
          "height": 37
        },
        "outputId": "df864fed-347e-40e4-db51-cdb1a2c23d91",
        "executionInfo": {
          "status": "ok",
          "timestamp": 1529935512317,
          "user_tz": -330,
          "elapsed": 978,
          "user": {
            "displayName": "Monalisa Das",
            "photoUrl": "https://lh3.googleusercontent.com/a/default-user=s128",
            "userId": "110048119645175492762"
          }
        }
      },
      "cell_type": "code",
      "source": [
        "scaledData = scalerModel.transform(train1)"
      ],
      "execution_count": 147,
      "outputs": []
    },
    {
      "metadata": {
        "id": "AVTZjMmXP2_1",
        "colab_type": "code",
        "colab": {
          "autoexec": {
            "startup": false,
            "wait_interval": 0
          },
          "base_uri": "https://localhost:8080/",
          "height": 488
        },
        "outputId": "ab8a300b-07ec-4c56-b68f-611eb277c1f0",
        "executionInfo": {
          "status": "ok",
          "timestamp": 1529935529596,
          "user_tz": -330,
          "elapsed": 1237,
          "user": {
            "displayName": "Monalisa Das",
            "photoUrl": "https://lh3.googleusercontent.com/a/default-user=s128",
            "userId": "110048119645175492762"
          }
        }
      },
      "cell_type": "code",
      "source": [
        "scaledData.show()"
      ],
      "execution_count": 148,
      "outputs": [
        {
          "output_type": "stream",
          "text": [
            "+----+-----------------+----+-------------+------------+------+----------+----------------+------------------+------------------+-------------+--------------------+-----+--------------------+\n",
            "| age|avg_glucose_level| bmi|heart_disease|hypertension|stroke|gender_new|ever_married_new|Residence_type_new|smoking_status_new|work_type_new|            features|label|      scaledFeatures|\n",
            "+----+-----------------+----+-------------+------------+------+----------+----------------+------------------+------------------+-------------+--------------------+-----+--------------------+\n",
            "| 3.0|            95.12|18.0|          0.0|         0.0|   0.0|       1.0|             1.0|               1.0|               1.0|          2.0|[3.0,95.120002746...|  0.0|[0.13343023582592...|\n",
            "|58.0|            87.96|39.2|          0.0|         1.0|   0.0|       1.0|             0.0|               0.0|               0.0|          0.0|(10,[0,1,2,4,5],[...|  0.0|(10,[0,1,2,4,5],[...|\n",
            "| 8.0|           110.89|17.6|          0.0|         0.0|   0.0|       0.0|             1.0|               0.0|               1.0|          0.0|(10,[0,1,2,6,8],[...|  0.0|(10,[0,1,2,6,8],[...|\n",
            "|70.0|            69.04|35.9|          0.0|         0.0|   0.0|       0.0|             0.0|               1.0|               2.0|          0.0|(10,[0,1,2,7,8],[...|  0.0|(10,[0,1,2,7,8],[...|\n",
            "|14.0|           161.28|19.1|          0.0|         0.0|   0.0|       1.0|             1.0|               1.0|               1.0|          4.0|[14.0,161.2799987...|  0.0|[0.62267443385430...|\n",
            "|47.0|           210.95|50.1|          0.0|         0.0|   0.0|       0.0|             0.0|               0.0|               1.0|          0.0|(10,[0,1,2,8],[47...|  0.0|(10,[0,1,2,8],[2....|\n",
            "|52.0|            77.59|17.7|          0.0|         0.0|   0.0|       0.0|             0.0|               0.0|               2.0|          0.0|(10,[0,1,2,8],[52...|  0.0|(10,[0,1,2,8],[2....|\n",
            "|75.0|           243.53|27.0|          1.0|         0.0|   0.0|       0.0|             0.0|               1.0|               0.0|          1.0|[75.0,243.5299987...|  0.0|[3.33575589564808...|\n",
            "|32.0|            77.67|32.3|          0.0|         0.0|   0.0|       0.0|             0.0|               1.0|               3.0|          0.0|(10,[0,1,2,7,8],[...|  0.0|(10,[0,1,2,7,8],[...|\n",
            "|74.0|           205.84|54.6|          0.0|         1.0|   0.0|       0.0|             0.0|               0.0|               0.0|          1.0|(10,[0,1,2,4,9],[...|  0.0|(10,[0,1,2,4,9],[...|\n",
            "|79.0|            77.08|35.0|          0.0|         0.0|   0.0|       0.0|             0.0|               0.0|               1.0|          3.0|(10,[0,1,2,8,9],[...|  0.0|(10,[0,1,2,8,9],[...|\n",
            "|79.0|            57.08|22.0|          1.0|         0.0|   0.0|       1.0|             0.0|               0.0|               2.0|          0.0|[79.0,57.08000183...|  0.0|[3.51366287674931...|\n",
            "|37.0|           162.96|39.4|          0.0|         0.0|   0.0|       0.0|             0.0|               1.0|               0.0|          0.0|(10,[0,1,2,7],[37...|  0.0|(10,[0,1,2,7],[1....|\n",
            "|37.0|             73.5|26.1|          0.0|         0.0|   0.0|       0.0|             0.0|               1.0|               2.0|          0.0|(10,[0,1,2,7,8],[...|  0.0|(10,[0,1,2,7,8],[...|\n",
            "|40.0|            95.04|42.4|          0.0|         0.0|   0.0|       0.0|             0.0|               1.0|               0.0|          0.0|(10,[0,1,2,7],[40...|  0.0|(10,[0,1,2,7],[1....|\n",
            "|35.0|            85.37|33.0|          0.0|         0.0|   0.0|       1.0|             1.0|               1.0|               0.0|          0.0|[35.0,85.37000274...|  0.0|[1.55668608463577...|\n",
            "|20.0|            84.62|19.7|          0.0|         0.0|   0.0|       0.0|             1.0|               0.0|               3.0|          0.0|(10,[0,1,2,6,8],[...|  0.0|(10,[0,1,2,6,8],[...|\n",
            "|42.0|            82.67|22.5|          0.0|         0.0|   0.0|       0.0|             0.0|               1.0|               0.0|          0.0|(10,[0,1,2,7],[42...|  0.0|(10,[0,1,2,7],[1....|\n",
            "|44.0|            57.33|24.6|          0.0|         0.0|   0.0|       0.0|             0.0|               0.0|               3.0|          3.0|(10,[0,1,2,8,9],[...|  0.0|(10,[0,1,2,8,9],[...|\n",
            "|79.0|            67.84|25.2|          1.0|         0.0|   0.0|       0.0|             0.0|               0.0|               3.0|          1.0|[79.0,67.83999633...|  0.0|[3.51366287674931...|\n",
            "+----+-----------------+----+-------------+------------+------+----------+----------------+------------------+------------------+-------------+--------------------+-----+--------------------+\n",
            "only showing top 20 rows\n",
            "\n"
          ],
          "name": "stdout"
        }
      ]
    },
    {
      "metadata": {
        "id": "wpR7POabRErA",
        "colab_type": "code",
        "colab": {
          "autoexec": {
            "startup": false,
            "wait_interval": 0
          },
          "base_uri": "https://localhost:8080/",
          "height": 919
        },
        "outputId": "6e475d0b-709e-4a9d-d066-659d0b7bcb64",
        "executionInfo": {
          "status": "ok",
          "timestamp": 1529935682657,
          "user_tz": -330,
          "elapsed": 976,
          "user": {
            "displayName": "Monalisa Das",
            "photoUrl": "https://lh3.googleusercontent.com/a/default-user=s128",
            "userId": "110048119645175492762"
          }
        }
      },
      "cell_type": "code",
      "source": [
        "scaledData.select('scaledFeatures').show()\n",
        "scaledData.select('label').show()"
      ],
      "execution_count": 150,
      "outputs": [
        {
          "output_type": "stream",
          "text": [
            "+--------------------+\n",
            "|      scaledFeatures|\n",
            "+--------------------+\n",
            "|[0.13343023582592...|\n",
            "|(10,[0,1,2,4,5],[...|\n",
            "|(10,[0,1,2,6,8],[...|\n",
            "|(10,[0,1,2,7,8],[...|\n",
            "|[0.62267443385430...|\n",
            "|(10,[0,1,2,8],[2....|\n",
            "|(10,[0,1,2,8],[2....|\n",
            "|[3.33575589564808...|\n",
            "|(10,[0,1,2,7,8],[...|\n",
            "|(10,[0,1,2,4,9],[...|\n",
            "|(10,[0,1,2,8,9],[...|\n",
            "|[3.51366287674931...|\n",
            "|(10,[0,1,2,7],[1....|\n",
            "|(10,[0,1,2,7,8],[...|\n",
            "|(10,[0,1,2,7],[1....|\n",
            "|[1.55668608463577...|\n",
            "|(10,[0,1,2,6,8],[...|\n",
            "|(10,[0,1,2,7],[1....|\n",
            "|(10,[0,1,2,8,9],[...|\n",
            "|[3.51366287674931...|\n",
            "+--------------------+\n",
            "only showing top 20 rows\n",
            "\n",
            "+-----+\n",
            "|label|\n",
            "+-----+\n",
            "|  0.0|\n",
            "|  0.0|\n",
            "|  0.0|\n",
            "|  0.0|\n",
            "|  0.0|\n",
            "|  0.0|\n",
            "|  0.0|\n",
            "|  0.0|\n",
            "|  0.0|\n",
            "|  0.0|\n",
            "|  0.0|\n",
            "|  0.0|\n",
            "|  0.0|\n",
            "|  0.0|\n",
            "|  0.0|\n",
            "|  0.0|\n",
            "|  0.0|\n",
            "|  0.0|\n",
            "|  0.0|\n",
            "|  0.0|\n",
            "+-----+\n",
            "only showing top 20 rows\n",
            "\n"
          ],
          "name": "stdout"
        }
      ]
    },
    {
      "metadata": {
        "id": "h7r-8bWufo9x",
        "colab_type": "text"
      },
      "cell_type": "markdown",
      "source": [
        "\n",
        "###Spliting The Data into training set and test set"
      ]
    },
    {
      "metadata": {
        "id": "ds8n1LS1R2eD",
        "colab_type": "code",
        "colab": {
          "autoexec": {
            "startup": false,
            "wait_interval": 0
          },
          "base_uri": "https://localhost:8080/",
          "height": 37
        },
        "outputId": "2dba3e0e-913f-4354-9c2c-d7f5d7cbdd27",
        "executionInfo": {
          "status": "ok",
          "timestamp": 1529935821224,
          "user_tz": -330,
          "elapsed": 957,
          "user": {
            "displayName": "Monalisa Das",
            "photoUrl": "https://lh3.googleusercontent.com/a/default-user=s128",
            "userId": "110048119645175492762"
          }
        }
      },
      "cell_type": "code",
      "source": [
        "(train_st, test_st) = scaledData.randomSplit([0.7, 0.3])"
      ],
      "execution_count": 153,
      "outputs": []
    },
    {
      "metadata": {
        "id": "skvSoU7cgH13",
        "colab_type": "text"
      },
      "cell_type": "markdown",
      "source": [
        "# Applying various Model On Standardized data\n"
      ]
    },
    {
      "metadata": {
        "id": "pg-LwQaBgRJA",
        "colab_type": "text"
      },
      "cell_type": "markdown",
      "source": [
        "####Decission Tree Classifier"
      ]
    },
    {
      "metadata": {
        "id": "bZUCoNPcRE0L",
        "colab_type": "code",
        "colab": {
          "autoexec": {
            "startup": false,
            "wait_interval": 0
          },
          "base_uri": "https://localhost:8080/",
          "height": 37
        },
        "outputId": "2af6eba1-799f-4658-f0d6-396619fbbfd6",
        "executionInfo": {
          "status": "ok",
          "timestamp": 1529935829097,
          "user_tz": -330,
          "elapsed": 1257,
          "user": {
            "displayName": "Monalisa Das",
            "photoUrl": "https://lh3.googleusercontent.com/a/default-user=s128",
            "userId": "110048119645175492762"
          }
        }
      },
      "cell_type": "code",
      "source": [
        "from pyspark.ml.classification import DecisionTreeClassifier"
      ],
      "execution_count": 154,
      "outputs": []
    },
    {
      "metadata": {
        "id": "m71VDHNiRExH",
        "colab_type": "code",
        "colab": {
          "autoexec": {
            "startup": false,
            "wait_interval": 0
          },
          "base_uri": "https://localhost:8080/",
          "height": 37
        },
        "outputId": "7d78ddd2-4062-4810-a304-bde4604c5c7c",
        "executionInfo": {
          "status": "ok",
          "timestamp": 1529935830059,
          "user_tz": -330,
          "elapsed": 779,
          "user": {
            "displayName": "Monalisa Das",
            "photoUrl": "https://lh3.googleusercontent.com/a/default-user=s128",
            "userId": "110048119645175492762"
          }
        }
      },
      "cell_type": "code",
      "source": [
        "dt = DecisionTreeClassifier(labelCol=\"label\", featuresCol=\"scaledFeatures\", maxDepth=3)"
      ],
      "execution_count": 155,
      "outputs": []
    },
    {
      "metadata": {
        "id": "UUOu4OuIREku",
        "colab_type": "code",
        "colab": {
          "autoexec": {
            "startup": false,
            "wait_interval": 0
          },
          "base_uri": "https://localhost:8080/",
          "height": 17
        },
        "outputId": "bfac1207-2343-4d5b-cdc2-cdc7ecdd4394",
        "executionInfo": {
          "status": "ok",
          "timestamp": 1529935902859,
          "user_tz": -330,
          "elapsed": 8940,
          "user": {
            "displayName": "Monalisa Das",
            "photoUrl": "https://lh3.googleusercontent.com/a/default-user=s128",
            "userId": "110048119645175492762"
          }
        }
      },
      "cell_type": "code",
      "source": [
        "dtModel = dt.fit(train_st)"
      ],
      "execution_count": 157,
      "outputs": []
    },
    {
      "metadata": {
        "id": "8uimgvsoSL0c",
        "colab_type": "code",
        "colab": {
          "autoexec": {
            "startup": false,
            "wait_interval": 0
          },
          "base_uri": "https://localhost:8080/",
          "height": 37
        },
        "outputId": "339b72b0-4549-4184-9896-112aab7709bd",
        "executionInfo": {
          "status": "ok",
          "timestamp": 1529935926648,
          "user_tz": -330,
          "elapsed": 1224,
          "user": {
            "displayName": "Monalisa Das",
            "photoUrl": "https://lh3.googleusercontent.com/a/default-user=s128",
            "userId": "110048119645175492762"
          }
        }
      },
      "cell_type": "code",
      "source": [
        "predictions = dtModel.transform(test_st)"
      ],
      "execution_count": 158,
      "outputs": []
    },
    {
      "metadata": {
        "id": "-xkErsZUSLxb",
        "colab_type": "code",
        "colab": {
          "autoexec": {
            "startup": false,
            "wait_interval": 0
          },
          "base_uri": "https://localhost:8080/",
          "height": 35
        },
        "outputId": "262c46e0-fe9d-43fc-c9d4-ebd0e68df749",
        "executionInfo": {
          "status": "ok",
          "timestamp": 1529935956353,
          "user_tz": -330,
          "elapsed": 5120,
          "user": {
            "displayName": "Monalisa Das",
            "photoUrl": "https://lh3.googleusercontent.com/a/default-user=s128",
            "userId": "110048119645175492762"
          }
        }
      },
      "cell_type": "code",
      "source": [
        "from pyspark.ml.evaluation import BinaryClassificationEvaluator\n",
        "# Evaluate model\n",
        "evaluator = BinaryClassificationEvaluator()\n",
        "evaluator.evaluate(predictions)"
      ],
      "execution_count": 159,
      "outputs": [
        {
          "output_type": "execute_result",
          "data": {
            "text/plain": [
              "0.7176300432439026"
            ]
          },
          "metadata": {
            "tags": []
          },
          "execution_count": 159
        }
      ]
    },
    {
      "metadata": {
        "id": "bfP0dznLga8j",
        "colab_type": "text"
      },
      "cell_type": "markdown",
      "source": [
        "Obtained Accuracy is 71.7% "
      ]
    },
    {
      "metadata": {
        "id": "sez-9b1NglHi",
        "colab_type": "text"
      },
      "cell_type": "markdown",
      "source": [
        "###Random Tree Classifier"
      ]
    },
    {
      "metadata": {
        "id": "6CarBIFDSLtn",
        "colab_type": "code",
        "colab": {
          "autoexec": {
            "startup": false,
            "wait_interval": 0
          },
          "base_uri": "https://localhost:8080/",
          "height": 35
        },
        "outputId": "e47807e6-f398-4f9d-cd46-990e2e70a5fc",
        "executionInfo": {
          "status": "ok",
          "timestamp": 1529936113547,
          "user_tz": -330,
          "elapsed": 18521,
          "user": {
            "displayName": "Monalisa Das",
            "photoUrl": "https://lh3.googleusercontent.com/a/default-user=s128",
            "userId": "110048119645175492762"
          }
        }
      },
      "cell_type": "code",
      "source": [
        "from pyspark.ml.classification import RandomForestClassifier\n",
        "\n",
        "rf = RandomForestClassifier(labelCol=\"label\", featuresCol=\"scaledFeatures\")\n",
        "\n",
        "rfModel = rf.fit(train_st)\n",
        "\n",
        "predictions = rfModel.transform(test_st)\n",
        "\n",
        "evaluator.evaluate(predictions)"
      ],
      "execution_count": 161,
      "outputs": [
        {
          "output_type": "execute_result",
          "data": {
            "text/plain": [
              "0.848359330050939"
            ]
          },
          "metadata": {
            "tags": []
          },
          "execution_count": 161
        }
      ]
    },
    {
      "metadata": {
        "id": "i5_RItlDgrGx",
        "colab_type": "text"
      },
      "cell_type": "markdown",
      "source": [
        "Obtained Accuracy is 84.8%"
      ]
    },
    {
      "metadata": {
        "id": "pFGtTg0pgxLu",
        "colab_type": "text"
      },
      "cell_type": "markdown",
      "source": [
        "####Logistic Regression Model"
      ]
    },
    {
      "metadata": {
        "id": "ErzO4VQuS3Wn",
        "colab_type": "code",
        "colab": {
          "autoexec": {
            "startup": false,
            "wait_interval": 0
          },
          "base_uri": "https://localhost:8080/",
          "height": 35
        },
        "outputId": "7969a568-16b9-43a2-b8b1-9e3abf474e1c",
        "executionInfo": {
          "status": "ok",
          "timestamp": 1529936254413,
          "user_tz": -330,
          "elapsed": 4835,
          "user": {
            "displayName": "Monalisa Das",
            "photoUrl": "https://lh3.googleusercontent.com/a/default-user=s128",
            "userId": "110048119645175492762"
          }
        }
      },
      "cell_type": "code",
      "source": [
        "from pyspark.ml.classification import LogisticRegression\n",
        "lr = LogisticRegression(labelCol=\"label\", featuresCol=\"scaledFeatures\", maxIter=10)\n",
        "lrModel = lr.fit(train_st)\n",
        "predictions = lrModel.transform(test_st)\n",
        "evaluator.evaluate(predictions)"
      ],
      "execution_count": 162,
      "outputs": [
        {
          "output_type": "execute_result",
          "data": {
            "text/plain": [
              "0.8265003018147066"
            ]
          },
          "metadata": {
            "tags": []
          },
          "execution_count": 162
        }
      ]
    },
    {
      "metadata": {
        "id": "58cfWIzBS3gd",
        "colab_type": "code",
        "colab": {
          "autoexec": {
            "startup": false,
            "wait_interval": 0
          }
        }
      },
      "cell_type": "code",
      "source": [
        "Obtained Accuracy is 84.8%"
      ],
      "execution_count": 0,
      "outputs": []
    },
    {
      "metadata": {
        "id": "KF35AZLgg49S",
        "colab_type": "text"
      },
      "cell_type": "markdown",
      "source": [
        ""
      ]
    },
    {
      "metadata": {
        "id": "imTIv4jyS3Si",
        "colab_type": "code",
        "colab": {
          "autoexec": {
            "startup": false,
            "wait_interval": 0
          }
        }
      },
      "cell_type": "code",
      "source": [
        "Obtained Accuracy is 82.6%"
      ],
      "execution_count": 0,
      "outputs": []
    },
    {
      "metadata": {
        "id": "39ubbZYhhB8D",
        "colab_type": "text"
      },
      "cell_type": "markdown",
      "source": [
        "# Applying Model on Non-Standardized Data"
      ]
    },
    {
      "metadata": {
        "id": "LsscT60w326D",
        "colab_type": "code",
        "colab": {
          "autoexec": {
            "startup": false,
            "wait_interval": 0
          },
          "base_uri": "https://localhost:8080/",
          "height": 919
        },
        "outputId": "5102d07d-4ff7-4038-c9d8-57334856671d",
        "executionInfo": {
          "status": "ok",
          "timestamp": 1529930721402,
          "user_tz": -330,
          "elapsed": 952,
          "user": {
            "displayName": "Monalisa Das",
            "photoUrl": "https://lh3.googleusercontent.com/a/default-user=s128",
            "userId": "110048119645175492762"
          }
        }
      },
      "cell_type": "code",
      "source": [
        "train1.select('features').show()\n",
        "train1.select('label').show()"
      ],
      "execution_count": 109,
      "outputs": [
        {
          "output_type": "stream",
          "text": [
            "+--------------------+\n",
            "|            features|\n",
            "+--------------------+\n",
            "|[3.0,95.120002746...|\n",
            "|(10,[0,1,2,4,5],[...|\n",
            "|(10,[0,1,2,6,8],[...|\n",
            "|(10,[0,1,2,7,8],[...|\n",
            "|[14.0,161.2799987...|\n",
            "|(10,[0,1,2,8],[47...|\n",
            "|(10,[0,1,2,8],[52...|\n",
            "|[75.0,243.5299987...|\n",
            "|(10,[0,1,2,7,8],[...|\n",
            "|(10,[0,1,2,4,9],[...|\n",
            "|(10,[0,1,2,8,9],[...|\n",
            "|[79.0,57.08000183...|\n",
            "|(10,[0,1,2,7],[37...|\n",
            "|(10,[0,1,2,7,8],[...|\n",
            "|(10,[0,1,2,7],[40...|\n",
            "|[35.0,85.37000274...|\n",
            "|(10,[0,1,2,6,8],[...|\n",
            "|(10,[0,1,2,7],[42...|\n",
            "|(10,[0,1,2,8,9],[...|\n",
            "|[79.0,67.83999633...|\n",
            "+--------------------+\n",
            "only showing top 20 rows\n",
            "\n",
            "+-----+\n",
            "|label|\n",
            "+-----+\n",
            "|  0.0|\n",
            "|  0.0|\n",
            "|  0.0|\n",
            "|  0.0|\n",
            "|  0.0|\n",
            "|  0.0|\n",
            "|  0.0|\n",
            "|  0.0|\n",
            "|  0.0|\n",
            "|  0.0|\n",
            "|  0.0|\n",
            "|  0.0|\n",
            "|  0.0|\n",
            "|  0.0|\n",
            "|  0.0|\n",
            "|  0.0|\n",
            "|  0.0|\n",
            "|  0.0|\n",
            "|  0.0|\n",
            "|  0.0|\n",
            "+-----+\n",
            "only showing top 20 rows\n",
            "\n"
          ],
          "name": "stdout"
        }
      ]
    },
    {
      "metadata": {
        "id": "fBfSjau_hak4",
        "colab_type": "text"
      },
      "cell_type": "markdown",
      "source": [
        "###Spliting The Data into training set and test set"
      ]
    },
    {
      "metadata": {
        "id": "f5xKoe9r0QDR",
        "colab_type": "code",
        "colab": {
          "autoexec": {
            "startup": false,
            "wait_interval": 0
          },
          "base_uri": "https://localhost:8080/",
          "height": 37
        },
        "outputId": "c975cc2b-d032-47e3-8b95-20bf5a579138",
        "executionInfo": {
          "status": "ok",
          "timestamp": 1529930840528,
          "user_tz": -330,
          "elapsed": 2327,
          "user": {
            "displayName": "Monalisa Das",
            "photoUrl": "https://lh3.googleusercontent.com/a/default-user=s128",
            "userId": "110048119645175492762"
          }
        }
      },
      "cell_type": "code",
      "source": [
        "(train_cv, test_cv) = train1.randomSplit([0.7, 0.3])"
      ],
      "execution_count": 112,
      "outputs": []
    },
    {
      "metadata": {
        "id": "CQ1D5AHihuiE",
        "colab_type": "text"
      },
      "cell_type": "markdown",
      "source": [
        "#Applying Various Classificatioon Model"
      ]
    },
    {
      "metadata": {
        "id": "bXUtYsjWiKRr",
        "colab_type": "text"
      },
      "cell_type": "markdown",
      "source": [
        "####Applying  DEcission tree Classifier"
      ]
    },
    {
      "metadata": {
        "id": "yEmpWR0p7isJ",
        "colab_type": "code",
        "colab": {
          "autoexec": {
            "startup": false,
            "wait_interval": 0
          },
          "base_uri": "https://localhost:8080/",
          "height": 37
        },
        "outputId": "12caa978-9e00-436e-c3c8-b671a44b1837",
        "executionInfo": {
          "status": "ok",
          "timestamp": 1529930440098,
          "user_tz": -330,
          "elapsed": 938,
          "user": {
            "displayName": "Monalisa Das",
            "photoUrl": "https://lh3.googleusercontent.com/a/default-user=s128",
            "userId": "110048119645175492762"
          }
        }
      },
      "cell_type": "code",
      "source": [
        "\n",
        "from pyspark.ml.classification import DecisionTreeClassifier\n"
      ],
      "execution_count": 103,
      "outputs": []
    },
    {
      "metadata": {
        "id": "MSQMUd4l-07s",
        "colab_type": "code",
        "colab": {
          "autoexec": {
            "startup": false,
            "wait_interval": 0
          },
          "base_uri": "https://localhost:8080/",
          "height": 37
        },
        "outputId": "46da02c0-1dad-400d-a17b-01585b5ee154",
        "executionInfo": {
          "status": "ok",
          "timestamp": 1529930801949,
          "user_tz": -330,
          "elapsed": 1130,
          "user": {
            "displayName": "Monalisa Das",
            "photoUrl": "https://lh3.googleusercontent.com/a/default-user=s128",
            "userId": "110048119645175492762"
          }
        }
      },
      "cell_type": "code",
      "source": [
        "dt = DecisionTreeClassifier(labelCol=\"label\", featuresCol=\"features\", maxDepth=3)"
      ],
      "execution_count": 111,
      "outputs": []
    },
    {
      "metadata": {
        "id": "FxT3zAWu-0_p",
        "colab_type": "code",
        "colab": {
          "autoexec": {
            "startup": false,
            "wait_interval": 0
          },
          "base_uri": "https://localhost:8080/",
          "height": 37
        },
        "outputId": "7aaf621d-1162-48e0-8b15-9f59f621d858",
        "executionInfo": {
          "status": "ok",
          "timestamp": 1529930859120,
          "user_tz": -330,
          "elapsed": 7854,
          "user": {
            "displayName": "Monalisa Das",
            "photoUrl": "https://lh3.googleusercontent.com/a/default-user=s128",
            "userId": "110048119645175492762"
          }
        }
      },
      "cell_type": "code",
      "source": [
        "dtModel = dt.fit(train_cv)"
      ],
      "execution_count": 113,
      "outputs": []
    },
    {
      "metadata": {
        "id": "xsS9sjOx-05Z",
        "colab_type": "code",
        "colab": {
          "autoexec": {
            "startup": false,
            "wait_interval": 0
          },
          "base_uri": "https://localhost:8080/",
          "height": 37
        },
        "outputId": "8efe0dcd-bf5d-4a2e-ac6f-aac4ff743950",
        "executionInfo": {
          "status": "ok",
          "timestamp": 1529930880806,
          "user_tz": -330,
          "elapsed": 946,
          "user": {
            "displayName": "Monalisa Das",
            "photoUrl": "https://lh3.googleusercontent.com/a/default-user=s128",
            "userId": "110048119645175492762"
          }
        }
      },
      "cell_type": "code",
      "source": [
        "predictions = dtModel.transform(test_cv)"
      ],
      "execution_count": 114,
      "outputs": []
    },
    {
      "metadata": {
        "id": "dCYUzlGp_O66",
        "colab_type": "code",
        "colab": {
          "autoexec": {
            "startup": false,
            "wait_interval": 0
          },
          "base_uri": "https://localhost:8080/",
          "height": 329
        },
        "outputId": "12d65d9d-7f6f-4042-abc6-19742211e8f5",
        "executionInfo": {
          "status": "ok",
          "timestamp": 1529930909761,
          "user_tz": -330,
          "elapsed": 939,
          "user": {
            "displayName": "Monalisa Das",
            "photoUrl": "https://lh3.googleusercontent.com/a/default-user=s128",
            "userId": "110048119645175492762"
          }
        }
      },
      "cell_type": "code",
      "source": [
        "predictions.printSchema()"
      ],
      "execution_count": 115,
      "outputs": [
        {
          "output_type": "stream",
          "text": [
            "root\n",
            " |-- age: float (nullable = true)\n",
            " |-- avg_glucose_level: float (nullable = true)\n",
            " |-- bmi: float (nullable = true)\n",
            " |-- heart_disease: float (nullable = true)\n",
            " |-- hypertension: float (nullable = true)\n",
            " |-- stroke: float (nullable = true)\n",
            " |-- gender_new: double (nullable = true)\n",
            " |-- ever_married_new: double (nullable = true)\n",
            " |-- Residence_type_new: double (nullable = true)\n",
            " |-- smoking_status_new: double (nullable = true)\n",
            " |-- work_type_new: double (nullable = true)\n",
            " |-- features: vector (nullable = true)\n",
            " |-- label: double (nullable = true)\n",
            " |-- rawPrediction: vector (nullable = true)\n",
            " |-- probability: vector (nullable = true)\n",
            " |-- prediction: double (nullable = true)\n",
            "\n"
          ],
          "name": "stdout"
        }
      ]
    },
    {
      "metadata": {
        "id": "vgVcT0XY_PH_",
        "colab_type": "code",
        "colab": {
          "autoexec": {
            "startup": false,
            "wait_interval": 0
          },
          "base_uri": "https://localhost:8080/",
          "height": 35
        },
        "outputId": "936024d4-fe09-42ec-df93-af47fa13081f",
        "executionInfo": {
          "status": "ok",
          "timestamp": 1529930962803,
          "user_tz": -330,
          "elapsed": 2202,
          "user": {
            "displayName": "Monalisa Das",
            "photoUrl": "https://lh3.googleusercontent.com/a/default-user=s128",
            "userId": "110048119645175492762"
          }
        }
      },
      "cell_type": "code",
      "source": [
        "from pyspark.ml.evaluation import BinaryClassificationEvaluator\n",
        "# Evaluate model\n",
        "evaluator = BinaryClassificationEvaluator()\n",
        "evaluator.evaluate(predictions)"
      ],
      "execution_count": 116,
      "outputs": [
        {
          "output_type": "execute_result",
          "data": {
            "text/plain": [
              "0.8000428886226838"
            ]
          },
          "metadata": {
            "tags": []
          },
          "execution_count": 116
        }
      ]
    },
    {
      "metadata": {
        "id": "ml0PiWW1iPsO",
        "colab_type": "text"
      },
      "cell_type": "markdown",
      "source": [
        "Obtained 80% accuracy"
      ]
    },
    {
      "metadata": {
        "id": "Sveiby6F_POS",
        "colab_type": "code",
        "colab": {
          "autoexec": {
            "startup": false,
            "wait_interval": 0
          },
          "base_uri": "https://localhost:8080/",
          "height": 37
        },
        "outputId": "e910b6ad-4883-4f32-e113-f4ae2559ff38",
        "executionInfo": {
          "status": "ok",
          "timestamp": 1529931234442,
          "user_tz": -330,
          "elapsed": 1130,
          "user": {
            "displayName": "Monalisa Das",
            "photoUrl": "https://lh3.googleusercontent.com/a/default-user=s128",
            "userId": "110048119645175492762"
          }
        }
      },
      "cell_type": "code",
      "source": [
        "from pyspark.ml.tuning import ParamGridBuilder, CrossValidator\n",
        "paramGrid = (ParamGridBuilder()\n",
        "             .addGrid(dt.maxDepth, [1, 2, 6, 10])\n",
        "             .addGrid(dt.maxBins, [20, 40, 80])\n",
        "             .build())"
      ],
      "execution_count": 117,
      "outputs": []
    },
    {
      "metadata": {
        "id": "RGJzwvXo_PS6",
        "colab_type": "code",
        "colab": {
          "autoexec": {
            "startup": false,
            "wait_interval": 0
          },
          "base_uri": "https://localhost:8080/",
          "height": 37
        },
        "outputId": "5bbbecda-aef9-4d4a-81b1-c29b6f1ceaa1",
        "executionInfo": {
          "status": "ok",
          "timestamp": 1529931253820,
          "user_tz": -330,
          "elapsed": 1227,
          "user": {
            "displayName": "Monalisa Das",
            "photoUrl": "https://lh3.googleusercontent.com/a/default-user=s128",
            "userId": "110048119645175492762"
          }
        }
      },
      "cell_type": "code",
      "source": [
        "cv = CrossValidator(estimator=dt, estimatorParamMaps=paramGrid, evaluator=evaluator, numFolds=5)"
      ],
      "execution_count": 118,
      "outputs": []
    },
    {
      "metadata": {
        "id": "8d_1RHg8_Pa3",
        "colab_type": "code",
        "colab": {
          "autoexec": {
            "startup": false,
            "wait_interval": 0
          },
          "base_uri": "https://localhost:8080/",
          "height": 37
        },
        "outputId": "6d83fa54-1224-48cf-84e8-fcdbcc900405",
        "executionInfo": {
          "status": "ok",
          "timestamp": 1529931742426,
          "user_tz": -330,
          "elapsed": 455784,
          "user": {
            "displayName": "Monalisa Das",
            "photoUrl": "https://lh3.googleusercontent.com/a/default-user=s128",
            "userId": "110048119645175492762"
          }
        }
      },
      "cell_type": "code",
      "source": [
        "cvModel = cv.fit(train_cv)"
      ],
      "execution_count": 119,
      "outputs": []
    },
    {
      "metadata": {
        "id": "hWJdty5P_PL9",
        "colab_type": "code",
        "colab": {
          "autoexec": {
            "startup": false,
            "wait_interval": 0
          },
          "base_uri": "https://localhost:8080/",
          "height": 52
        },
        "outputId": "5848398b-ff69-4649-f31a-85a8cbed48a0",
        "executionInfo": {
          "status": "ok",
          "timestamp": 1529933166776,
          "user_tz": -330,
          "elapsed": 1187,
          "user": {
            "displayName": "Monalisa Das",
            "photoUrl": "https://lh3.googleusercontent.com/a/default-user=s128",
            "userId": "110048119645175492762"
          }
        }
      },
      "cell_type": "code",
      "source": [
        "print(\"numNodes = \", cvModel.bestModel.numNodes)\n",
        "print(\"depth = \", cvModel.bestModel.depth)"
      ],
      "execution_count": 122,
      "outputs": [
        {
          "output_type": "stream",
          "text": [
            "numNodes =  7\n",
            "depth =  2\n"
          ],
          "name": "stdout"
        }
      ]
    },
    {
      "metadata": {
        "id": "jyb1Y03y_O3i",
        "colab_type": "code",
        "colab": {
          "autoexec": {
            "startup": false,
            "wait_interval": 0
          },
          "base_uri": "https://localhost:8080/",
          "height": 37
        },
        "outputId": "be7d4ab8-a136-42c4-9b2a-afbfaa9677c0",
        "executionInfo": {
          "status": "ok",
          "timestamp": 1529933155278,
          "user_tz": -330,
          "elapsed": 1081,
          "user": {
            "displayName": "Monalisa Das",
            "photoUrl": "https://lh3.googleusercontent.com/a/default-user=s128",
            "userId": "110048119645175492762"
          }
        }
      },
      "cell_type": "code",
      "source": [
        "predictions = cvModel.transform(test_cv)"
      ],
      "execution_count": 120,
      "outputs": []
    },
    {
      "metadata": {
        "id": "jSfl8lEy_O1X",
        "colab_type": "code",
        "colab": {
          "autoexec": {
            "startup": false,
            "wait_interval": 0
          },
          "base_uri": "https://localhost:8080/",
          "height": 35
        },
        "outputId": "ed6f7deb-e07f-48f1-9c77-795720e92b51",
        "executionInfo": {
          "status": "ok",
          "timestamp": 1529933157695,
          "user_tz": -330,
          "elapsed": 1965,
          "user": {
            "displayName": "Monalisa Das",
            "photoUrl": "https://lh3.googleusercontent.com/a/default-user=s128",
            "userId": "110048119645175492762"
          }
        }
      },
      "cell_type": "code",
      "source": [
        "evaluator.evaluate(predictions)\n"
      ],
      "execution_count": 121,
      "outputs": [
        {
          "output_type": "execute_result",
          "data": {
            "text/plain": [
              "0.8202848396113405"
            ]
          },
          "metadata": {
            "tags": []
          },
          "execution_count": 121
        }
      ]
    },
    {
      "metadata": {
        "id": "5V1ky0qBiVG6",
        "colab_type": "text"
      },
      "cell_type": "markdown",
      "source": [
        "Using Cross validation obtained 82% accuracy"
      ]
    },
    {
      "metadata": {
        "id": "7vJd-Zh1ib9B",
        "colab_type": "text"
      },
      "cell_type": "markdown",
      "source": [
        "####Applying RandomForest Classifier"
      ]
    },
    {
      "metadata": {
        "id": "DiKZ14-DBJUY",
        "colab_type": "code",
        "colab": {
          "autoexec": {
            "startup": false,
            "wait_interval": 0
          },
          "base_uri": "https://localhost:8080/",
          "height": 37
        },
        "outputId": "364dbb6b-07d2-450a-fbe7-4f85b8b7919b",
        "executionInfo": {
          "status": "ok",
          "timestamp": 1529933218485,
          "user_tz": -330,
          "elapsed": 955,
          "user": {
            "displayName": "Monalisa Das",
            "photoUrl": "https://lh3.googleusercontent.com/a/default-user=s128",
            "userId": "110048119645175492762"
          }
        }
      },
      "cell_type": "code",
      "source": [
        "from pyspark.ml.classification import RandomForestClassifier"
      ],
      "execution_count": 124,
      "outputs": []
    },
    {
      "metadata": {
        "id": "sgOrP0_qBJe7",
        "colab_type": "code",
        "colab": {
          "autoexec": {
            "startup": false,
            "wait_interval": 0
          },
          "base_uri": "https://localhost:8080/",
          "height": 37
        },
        "outputId": "4af1374b-99e9-4993-f5a1-7daf6151716c",
        "executionInfo": {
          "status": "ok",
          "timestamp": 1529933221227,
          "user_tz": -330,
          "elapsed": 1117,
          "user": {
            "displayName": "Monalisa Das",
            "photoUrl": "https://lh3.googleusercontent.com/a/default-user=s128",
            "userId": "110048119645175492762"
          }
        }
      },
      "cell_type": "code",
      "source": [
        "rf = RandomForestClassifier(labelCol=\"label\", featuresCol=\"features\")\n"
      ],
      "execution_count": 125,
      "outputs": []
    },
    {
      "metadata": {
        "id": "LFmgqeplBJND",
        "colab_type": "code",
        "colab": {
          "autoexec": {
            "startup": false,
            "wait_interval": 0
          },
          "base_uri": "https://localhost:8080/",
          "height": 37
        },
        "outputId": "3a292655-c820-4a59-9b4f-d702363d9c7d",
        "executionInfo": {
          "status": "ok",
          "timestamp": 1529933229053,
          "user_tz": -330,
          "elapsed": 7446,
          "user": {
            "displayName": "Monalisa Das",
            "photoUrl": "https://lh3.googleusercontent.com/a/default-user=s128",
            "userId": "110048119645175492762"
          }
        }
      },
      "cell_type": "code",
      "source": [
        "rfModel = rf.fit(train_cv)"
      ],
      "execution_count": 126,
      "outputs": []
    },
    {
      "metadata": {
        "id": "sV4-Fnh__OtA",
        "colab_type": "code",
        "colab": {
          "autoexec": {
            "startup": false,
            "wait_interval": 0
          },
          "base_uri": "https://localhost:8080/",
          "height": 37
        },
        "outputId": "271c2635-de3c-4e01-cc68-6ae78359288e",
        "executionInfo": {
          "status": "ok",
          "timestamp": 1529933230004,
          "user_tz": -330,
          "elapsed": 849,
          "user": {
            "displayName": "Monalisa Das",
            "photoUrl": "https://lh3.googleusercontent.com/a/default-user=s128",
            "userId": "110048119645175492762"
          }
        }
      },
      "cell_type": "code",
      "source": [
        "predictions = rfModel.transform(test_cv)"
      ],
      "execution_count": 127,
      "outputs": []
    },
    {
      "metadata": {
        "id": "ZQFOH2m9IKuK",
        "colab_type": "code",
        "colab": {
          "autoexec": {
            "startup": false,
            "wait_interval": 0
          },
          "base_uri": "https://localhost:8080/",
          "height": 35
        },
        "outputId": "4347b24d-b8f0-4507-a4c9-92af68509d9c",
        "executionInfo": {
          "status": "ok",
          "timestamp": 1529933251757,
          "user_tz": -330,
          "elapsed": 2264,
          "user": {
            "displayName": "Monalisa Das",
            "photoUrl": "https://lh3.googleusercontent.com/a/default-user=s128",
            "userId": "110048119645175492762"
          }
        }
      },
      "cell_type": "code",
      "source": [
        "evaluator.evaluate(predictions)"
      ],
      "execution_count": 128,
      "outputs": [
        {
          "output_type": "execute_result",
          "data": {
            "text/plain": [
              "0.8594144224085631"
            ]
          },
          "metadata": {
            "tags": []
          },
          "execution_count": 128
        }
      ]
    },
    {
      "metadata": {
        "id": "XoAC2wvIikJh",
        "colab_type": "text"
      },
      "cell_type": "markdown",
      "source": [
        "Obtained 85.9% Accuracy"
      ]
    },
    {
      "metadata": {
        "id": "W-ru5F7cIKq_",
        "colab_type": "code",
        "colab": {
          "autoexec": {
            "startup": false,
            "wait_interval": 0
          },
          "base_uri": "https://localhost:8080/",
          "height": 37
        },
        "outputId": "bcc8a37e-cf47-424d-d0db-4bc80ae432a0",
        "executionInfo": {
          "status": "ok",
          "timestamp": 1529934189829,
          "user_tz": -330,
          "elapsed": 952,
          "user": {
            "displayName": "Monalisa Das",
            "photoUrl": "https://lh3.googleusercontent.com/a/default-user=s128",
            "userId": "110048119645175492762"
          }
        }
      },
      "cell_type": "code",
      "source": [
        "paramGrid = (ParamGridBuilder()\n",
        "             .addGrid(rf.maxDepth, [2, 4, 6])\n",
        "             .addGrid(rf.maxBins, [20, 60])\n",
        "             .addGrid(rf.numTrees, [5, 20])\n",
        "             .build())"
      ],
      "execution_count": 138,
      "outputs": []
    },
    {
      "metadata": {
        "id": "lgCDIzmlLr5Q",
        "colab_type": "code",
        "colab": {
          "autoexec": {
            "startup": false,
            "wait_interval": 0
          },
          "base_uri": "https://localhost:8080/",
          "height": 37
        },
        "outputId": "87522ae3-3327-4f80-ee42-706bc9bda405",
        "executionInfo": {
          "status": "ok",
          "timestamp": 1529934231987,
          "user_tz": -330,
          "elapsed": 995,
          "user": {
            "displayName": "Monalisa Das",
            "photoUrl": "https://lh3.googleusercontent.com/a/default-user=s128",
            "userId": "110048119645175492762"
          }
        }
      },
      "cell_type": "code",
      "source": [
        "cv = CrossValidator(estimator=rf, estimatorParamMaps=paramGrid, evaluator=evaluator, numFolds=5)"
      ],
      "execution_count": 139,
      "outputs": []
    },
    {
      "metadata": {
        "id": "ky52wdOKLsEu",
        "colab_type": "code",
        "colab": {
          "autoexec": {
            "startup": false,
            "wait_interval": 0
          },
          "base_uri": "https://localhost:8080/",
          "height": 37
        },
        "outputId": "a34d66b2-52a2-4532-9270-87c480cfc7fc",
        "executionInfo": {
          "status": "ok",
          "timestamp": 1529934706840,
          "user_tz": -330,
          "elapsed": 474540,
          "user": {
            "displayName": "Monalisa Das",
            "photoUrl": "https://lh3.googleusercontent.com/a/default-user=s128",
            "userId": "110048119645175492762"
          }
        }
      },
      "cell_type": "code",
      "source": [
        "cvModel = cv.fit(train_cv)"
      ],
      "execution_count": 140,
      "outputs": []
    },
    {
      "metadata": {
        "id": "IthOS1NrLsB2",
        "colab_type": "code",
        "colab": {
          "autoexec": {
            "startup": false,
            "wait_interval": 0
          },
          "base_uri": "https://localhost:8080/",
          "height": 37
        },
        "outputId": "3e4faefa-b225-4922-b7ec-6f6728117350",
        "executionInfo": {
          "status": "ok",
          "timestamp": 1529934708510,
          "user_tz": -330,
          "elapsed": 1535,
          "user": {
            "displayName": "Monalisa Das",
            "photoUrl": "https://lh3.googleusercontent.com/a/default-user=s128",
            "userId": "110048119645175492762"
          }
        }
      },
      "cell_type": "code",
      "source": [
        "predictions = cvModel.transform(test_cv)"
      ],
      "execution_count": 141,
      "outputs": []
    },
    {
      "metadata": {
        "id": "4L6i6xtULr-X",
        "colab_type": "code",
        "colab": {
          "autoexec": {
            "startup": false,
            "wait_interval": 0
          },
          "base_uri": "https://localhost:8080/",
          "height": 35
        },
        "outputId": "945cc072-b549-42bd-b319-4de811e6ec3a",
        "executionInfo": {
          "status": "ok",
          "timestamp": 1529934711106,
          "user_tz": -330,
          "elapsed": 2496,
          "user": {
            "displayName": "Monalisa Das",
            "photoUrl": "https://lh3.googleusercontent.com/a/default-user=s128",
            "userId": "110048119645175492762"
          }
        }
      },
      "cell_type": "code",
      "source": [
        "evaluator.evaluate(predictions)"
      ],
      "execution_count": 142,
      "outputs": [
        {
          "output_type": "execute_result",
          "data": {
            "text/plain": [
              "0.8563364242720017"
            ]
          },
          "metadata": {
            "tags": []
          },
          "execution_count": 142
        }
      ]
    },
    {
      "metadata": {
        "id": "6iEA26W5io87",
        "colab_type": "text"
      },
      "cell_type": "markdown",
      "source": [
        "Using cross validation obtained 85.6% accuracy"
      ]
    },
    {
      "metadata": {
        "id": "l1nbJUNWixck",
        "colab_type": "text"
      },
      "cell_type": "markdown",
      "source": [
        ""
      ]
    },
    {
      "metadata": {
        "id": "GsbFQDC1iyX8",
        "colab_type": "text"
      },
      "cell_type": "markdown",
      "source": [
        "# Applying Logistic Model"
      ]
    },
    {
      "metadata": {
        "id": "our0pfkvIKn_",
        "colab_type": "code",
        "colab": {
          "autoexec": {
            "startup": false,
            "wait_interval": 0
          },
          "base_uri": "https://localhost:8080/",
          "height": 37
        },
        "outputId": "0c018b73-1034-4f73-bfb4-da84710c0bb5",
        "executionInfo": {
          "status": "ok",
          "timestamp": 1529933374056,
          "user_tz": -330,
          "elapsed": 1431,
          "user": {
            "displayName": "Monalisa Das",
            "photoUrl": "https://lh3.googleusercontent.com/a/default-user=s128",
            "userId": "110048119645175492762"
          }
        }
      },
      "cell_type": "code",
      "source": [
        "from pyspark.ml.classification import LogisticRegression"
      ],
      "execution_count": 130,
      "outputs": []
    },
    {
      "metadata": {
        "id": "iJPAyn9wIuK9",
        "colab_type": "code",
        "colab": {
          "autoexec": {
            "startup": false,
            "wait_interval": 0
          },
          "base_uri": "https://localhost:8080/",
          "height": 37
        },
        "outputId": "a2453a42-5c72-4f22-cfd7-bf2ca3a02a45",
        "executionInfo": {
          "status": "ok",
          "timestamp": 1529933394887,
          "user_tz": -330,
          "elapsed": 1025,
          "user": {
            "displayName": "Monalisa Das",
            "photoUrl": "https://lh3.googleusercontent.com/a/default-user=s128",
            "userId": "110048119645175492762"
          }
        }
      },
      "cell_type": "code",
      "source": [
        "lr = LogisticRegression(labelCol=\"label\", featuresCol=\"features\", maxIter=10)"
      ],
      "execution_count": 131,
      "outputs": []
    },
    {
      "metadata": {
        "id": "XTH2tb_HIuHe",
        "colab_type": "code",
        "colab": {
          "autoexec": {
            "startup": false,
            "wait_interval": 0
          },
          "base_uri": "https://localhost:8080/",
          "height": 17
        },
        "outputId": "11da5bb5-098b-4030-ad79-ee965b947d3f",
        "executionInfo": {
          "status": "ok",
          "timestamp": 1529933895769,
          "user_tz": -330,
          "elapsed": 3577,
          "user": {
            "displayName": "Monalisa Das",
            "photoUrl": "https://lh3.googleusercontent.com/a/default-user=s128",
            "userId": "110048119645175492762"
          }
        }
      },
      "cell_type": "code",
      "source": [
        "lrModel = lr.fit(train_cv)"
      ],
      "execution_count": 135,
      "outputs": []
    },
    {
      "metadata": {
        "id": "vAR69es9IuEs",
        "colab_type": "code",
        "colab": {
          "autoexec": {
            "startup": false,
            "wait_interval": 0
          },
          "base_uri": "https://localhost:8080/",
          "height": 37
        },
        "outputId": "f76ae468-f874-44b8-e295-68d7728c5366",
        "executionInfo": {
          "status": "ok",
          "timestamp": 1529933961086,
          "user_tz": -330,
          "elapsed": 962,
          "user": {
            "displayName": "Monalisa Das",
            "photoUrl": "https://lh3.googleusercontent.com/a/default-user=s128",
            "userId": "110048119645175492762"
          }
        }
      },
      "cell_type": "code",
      "source": [
        "predictions = lrModel.transform(test_cv)"
      ],
      "execution_count": 136,
      "outputs": []
    },
    {
      "metadata": {
        "id": "VGFWnfPMIuBk",
        "colab_type": "code",
        "colab": {
          "autoexec": {
            "startup": false,
            "wait_interval": 0
          },
          "base_uri": "https://localhost:8080/",
          "height": 35
        },
        "outputId": "10678889-4d80-4834-a868-3d300ed31cb3",
        "executionInfo": {
          "status": "ok",
          "timestamp": 1529933977619,
          "user_tz": -330,
          "elapsed": 2179,
          "user": {
            "displayName": "Monalisa Das",
            "photoUrl": "https://lh3.googleusercontent.com/a/default-user=s128",
            "userId": "110048119645175492762"
          }
        }
      },
      "cell_type": "code",
      "source": [
        "evaluator.evaluate(predictions)"
      ],
      "execution_count": 137,
      "outputs": [
        {
          "output_type": "execute_result",
          "data": {
            "text/plain": [
              "0.8351708889775997"
            ]
          },
          "metadata": {
            "tags": []
          },
          "execution_count": 137
        }
      ]
    },
    {
      "metadata": {
        "id": "49mr1ch-i7KS",
        "colab_type": "text"
      },
      "cell_type": "markdown",
      "source": [
        "Obtained 83.5% accuracy"
      ]
    },
    {
      "metadata": {
        "id": "5O25Q-hIjJtH",
        "colab_type": "text"
      },
      "cell_type": "markdown",
      "source": [
        "# Conclusion"
      ]
    },
    {
      "metadata": {
        "id": "FrjbMgvrjNk4",
        "colab_type": "text"
      },
      "cell_type": "markdown",
      "source": [
        "Out of 3 classification model used here I obtained maximum accuracy(85.9%) using Random forest classification model"
      ]
    }
  ]
}