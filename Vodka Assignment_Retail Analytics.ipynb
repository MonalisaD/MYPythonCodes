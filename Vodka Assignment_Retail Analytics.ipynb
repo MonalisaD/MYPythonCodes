{
 "cells": [
  {
   "cell_type": "markdown",
   "metadata": {},
   "source": [
    "# Sagar patil\n",
    "# Bhushan Savarkar\n",
    "# Prarthana Saikia\n",
    "# Monalisa das\n",
    "# Soham Chowdhari"
   ]
  },
  {
   "cell_type": "code",
   "execution_count": 1,
   "metadata": {},
   "outputs": [],
   "source": [
    "import numpy as np\n",
    "import pandas as pd\n",
    "import matplotlib.pyplot as plt\n",
    "%matplotlib inline"
   ]
  },
  {
   "cell_type": "code",
   "execution_count": 2,
   "metadata": {},
   "outputs": [],
   "source": [
    "import statsmodels.formula.api as sm"
   ]
  },
  {
   "cell_type": "code",
   "execution_count": 3,
   "metadata": {
    "scrolled": true
   },
   "outputs": [
    {
     "data": {
      "text/html": [
       "<div>\n",
       "<style>\n",
       "    .dataframe thead tr:only-child th {\n",
       "        text-align: right;\n",
       "    }\n",
       "\n",
       "    .dataframe thead th {\n",
       "        text-align: left;\n",
       "    }\n",
       "\n",
       "    .dataframe tbody tr th {\n",
       "        vertical-align: top;\n",
       "    }\n",
       "</style>\n",
       "<table border=\"1\" class=\"dataframe\">\n",
       "  <thead>\n",
       "    <tr style=\"text-align: right;\">\n",
       "      <th></th>\n",
       "      <th>Resp No</th>\n",
       "      <th>PANEL</th>\n",
       "      <th>CENTRE</th>\n",
       "      <th>MAIN_BRND</th>\n",
       "      <th>AGE</th>\n",
       "      <th>AGES</th>\n",
       "      <th>Plcmnt_Ordr</th>\n",
       "      <th>Prod</th>\n",
       "      <th>Q2A</th>\n",
       "      <th>Q2B</th>\n",
       "      <th>...</th>\n",
       "      <th>Q5A_att5</th>\n",
       "      <th>Q5A_att6</th>\n",
       "      <th>Q5A_att7</th>\n",
       "      <th>Q5A_att8</th>\n",
       "      <th>Q5B_att1</th>\n",
       "      <th>Q5B_att2</th>\n",
       "      <th>Q5B_att3</th>\n",
       "      <th>Q5B_att4</th>\n",
       "      <th>Q5B_att5</th>\n",
       "      <th>Q6_Int_p (Y=1,N=2)</th>\n",
       "    </tr>\n",
       "  </thead>\n",
       "  <tbody>\n",
       "    <tr>\n",
       "      <th>0</th>\n",
       "      <td>1</td>\n",
       "      <td>2</td>\n",
       "      <td>1</td>\n",
       "      <td>2</td>\n",
       "      <td>34</td>\n",
       "      <td>2</td>\n",
       "      <td>1</td>\n",
       "      <td>2</td>\n",
       "      <td>7</td>\n",
       "      <td>3</td>\n",
       "      <td>...</td>\n",
       "      <td>7</td>\n",
       "      <td>7</td>\n",
       "      <td>7</td>\n",
       "      <td>7</td>\n",
       "      <td>3</td>\n",
       "      <td>4</td>\n",
       "      <td>4</td>\n",
       "      <td>4</td>\n",
       "      <td>3</td>\n",
       "      <td>2</td>\n",
       "    </tr>\n",
       "    <tr>\n",
       "      <th>1</th>\n",
       "      <td>1</td>\n",
       "      <td>2</td>\n",
       "      <td>1</td>\n",
       "      <td>2</td>\n",
       "      <td>34</td>\n",
       "      <td>2</td>\n",
       "      <td>2</td>\n",
       "      <td>3</td>\n",
       "      <td>8</td>\n",
       "      <td>5</td>\n",
       "      <td>...</td>\n",
       "      <td>8</td>\n",
       "      <td>7</td>\n",
       "      <td>8</td>\n",
       "      <td>8</td>\n",
       "      <td>5</td>\n",
       "      <td>5</td>\n",
       "      <td>5</td>\n",
       "      <td>5</td>\n",
       "      <td>3</td>\n",
       "      <td>2</td>\n",
       "    </tr>\n",
       "    <tr>\n",
       "      <th>2</th>\n",
       "      <td>1</td>\n",
       "      <td>2</td>\n",
       "      <td>1</td>\n",
       "      <td>2</td>\n",
       "      <td>34</td>\n",
       "      <td>2</td>\n",
       "      <td>3</td>\n",
       "      <td>1</td>\n",
       "      <td>4</td>\n",
       "      <td>5</td>\n",
       "      <td>...</td>\n",
       "      <td>7</td>\n",
       "      <td>7</td>\n",
       "      <td>6</td>\n",
       "      <td>7</td>\n",
       "      <td>5</td>\n",
       "      <td>5</td>\n",
       "      <td>3</td>\n",
       "      <td>5</td>\n",
       "      <td>5</td>\n",
       "      <td>2</td>\n",
       "    </tr>\n",
       "    <tr>\n",
       "      <th>3</th>\n",
       "      <td>2</td>\n",
       "      <td>3</td>\n",
       "      <td>1</td>\n",
       "      <td>2</td>\n",
       "      <td>26</td>\n",
       "      <td>1</td>\n",
       "      <td>1</td>\n",
       "      <td>3</td>\n",
       "      <td>7</td>\n",
       "      <td>4</td>\n",
       "      <td>...</td>\n",
       "      <td>7</td>\n",
       "      <td>8</td>\n",
       "      <td>10</td>\n",
       "      <td>8</td>\n",
       "      <td>3</td>\n",
       "      <td>3</td>\n",
       "      <td>3</td>\n",
       "      <td>3</td>\n",
       "      <td>3</td>\n",
       "      <td>1</td>\n",
       "    </tr>\n",
       "    <tr>\n",
       "      <th>4</th>\n",
       "      <td>2</td>\n",
       "      <td>3</td>\n",
       "      <td>1</td>\n",
       "      <td>2</td>\n",
       "      <td>26</td>\n",
       "      <td>1</td>\n",
       "      <td>2</td>\n",
       "      <td>1</td>\n",
       "      <td>9</td>\n",
       "      <td>2</td>\n",
       "      <td>...</td>\n",
       "      <td>9</td>\n",
       "      <td>10</td>\n",
       "      <td>10</td>\n",
       "      <td>9</td>\n",
       "      <td>3</td>\n",
       "      <td>3</td>\n",
       "      <td>4</td>\n",
       "      <td>4</td>\n",
       "      <td>3</td>\n",
       "      <td>1</td>\n",
       "    </tr>\n",
       "  </tbody>\n",
       "</table>\n",
       "<p>5 rows × 26 columns</p>\n",
       "</div>"
      ],
      "text/plain": [
       "   Resp No  PANEL  CENTRE  MAIN_BRND  AGE  AGES  Plcmnt_Ordr  Prod  Q2A  Q2B  \\\n",
       "0        1      2       1          2   34     2            1     2    7    3   \n",
       "1        1      2       1          2   34     2            2     3    8    5   \n",
       "2        1      2       1          2   34     2            3     1    4    5   \n",
       "3        2      3       1          2   26     1            1     3    7    4   \n",
       "4        2      3       1          2   26     1            2     1    9    2   \n",
       "\n",
       "          ...          Q5A_att5  Q5A_att6  Q5A_att7  Q5A_att8  Q5B_att1  \\\n",
       "0         ...                 7         7         7         7         3   \n",
       "1         ...                 8         7         8         8         5   \n",
       "2         ...                 7         7         6         7         5   \n",
       "3         ...                 7         8        10         8         3   \n",
       "4         ...                 9        10        10         9         3   \n",
       "\n",
       "   Q5B_att2  Q5B_att3  Q5B_att4  Q5B_att5  Q6_Int_p (Y=1,N=2)  \n",
       "0         4         4         4         3                   2  \n",
       "1         5         5         5         3                   2  \n",
       "2         5         3         5         5                   2  \n",
       "3         3         3         3         3                   1  \n",
       "4         3         4         4         3                   1  \n",
       "\n",
       "[5 rows x 26 columns]"
      ]
     },
     "execution_count": 3,
     "metadata": {},
     "output_type": "execute_result"
    }
   ],
   "source": [
    "data = pd.read_csv(\"E:\\\\Praxis\\\\Customer Analytics\\\\Blend test\\\\FINALdatablindtest.csv\")\n",
    "data.head()"
   ]
  },
  {
   "cell_type": "code",
   "execution_count": 4,
   "metadata": {},
   "outputs": [
    {
     "name": "stdout",
     "output_type": "stream",
     "text": [
      "                            OLS Regression Results                            \n",
      "==============================================================================\n",
      "Dep. Variable:               Q5A_att1   R-squared:                       0.523\n",
      "Model:                            OLS   Adj. R-squared:                  0.523\n",
      "Method:                 Least Squares   F-statistic:                     2496.\n",
      "Date:                Wed, 13 Jun 2018   Prob (F-statistic):               0.00\n",
      "Time:                        21:25:51   Log-Likelihood:                -3593.1\n",
      "No. Observations:                2280   AIC:                             7190.\n",
      "Df Residuals:                    2278   BIC:                             7202.\n",
      "Df Model:                           1                                         \n",
      "Covariance Type:            nonrobust                                         \n",
      "==============================================================================\n",
      "                 coef    std err          t      P>|t|      [0.025      0.975]\n",
      "------------------------------------------------------------------------------\n",
      "Intercept      2.6425      0.102     25.888      0.000       2.442       2.843\n",
      "Q5A_att2       0.6655      0.013     49.960      0.000       0.639       0.692\n",
      "==============================================================================\n",
      "Omnibus:                      322.314   Durbin-Watson:                   1.774\n",
      "Prob(Omnibus):                  0.000   Jarque-Bera (JB):             1964.772\n",
      "Skew:                          -0.508   Prob(JB):                         0.00\n",
      "Kurtosis:                       7.433   Cond. No.                         32.4\n",
      "==============================================================================\n",
      "\n",
      "Warnings:\n",
      "[1] Standard Errors assume that the covariance matrix of the errors is correctly specified.\n"
     ]
    }
   ],
   "source": [
    "result = sm.ols(formula=\"Q5A_att1~Q5A_att2\",data=data).fit()\n",
    "print(result.summary())"
   ]
  },
  {
   "cell_type": "code",
   "execution_count": 5,
   "metadata": {},
   "outputs": [
    {
     "name": "stdout",
     "output_type": "stream",
     "text": [
      "                            OLS Regression Results                            \n",
      "==============================================================================\n",
      "Dep. Variable:               Q5A_att1   R-squared:                       0.775\n",
      "Model:                            OLS   Adj. R-squared:                  0.774\n",
      "Method:                 Least Squares   F-statistic:                     1117.\n",
      "Date:                Wed, 13 Jun 2018   Prob (F-statistic):               0.00\n",
      "Time:                        21:25:54   Log-Likelihood:                -2736.5\n",
      "No. Observations:                2280   AIC:                             5489.\n",
      "Df Residuals:                    2272   BIC:                             5535.\n",
      "Df Model:                           7                                         \n",
      "Covariance Type:            nonrobust                                         \n",
      "==============================================================================\n",
      "                 coef    std err          t      P>|t|      [0.025      0.975]\n",
      "------------------------------------------------------------------------------\n",
      "Intercept      0.5755      0.082      7.042      0.000       0.415       0.736\n",
      "Q5A_att2       0.1593      0.014     11.493      0.000       0.132       0.186\n",
      "Q5A_att3       0.2821      0.019     14.529      0.000       0.244       0.320\n",
      "Q5A_att4       0.1072      0.017      6.181      0.000       0.073       0.141\n",
      "Q5A_att5       0.0783      0.018      4.454      0.000       0.044       0.113\n",
      "Q5A_att6       0.0871      0.018      4.721      0.000       0.051       0.123\n",
      "Q5A_att7       0.0347      0.020      1.730      0.084      -0.005       0.074\n",
      "Q5A_att8       0.1890      0.021      9.070      0.000       0.148       0.230\n",
      "==============================================================================\n",
      "Omnibus:                      144.565   Durbin-Watson:                   1.753\n",
      "Prob(Omnibus):                  0.000   Jarque-Bera (JB):              500.205\n",
      "Skew:                          -0.238   Prob(JB):                    2.41e-109\n",
      "Kurtosis:                       5.245   Cond. No.                         98.2\n",
      "==============================================================================\n",
      "\n",
      "Warnings:\n",
      "[1] Standard Errors assume that the covariance matrix of the errors is correctly specified.\n"
     ]
    }
   ],
   "source": [
    "result = sm.ols(formula=\"Q5A_att1~Q5A_att2+Q5A_att3+Q5A_att4+Q5A_att5+Q5A_att6+Q5A_att7+Q5A_att8\",data=data).fit()\n",
    "print(result.summary())"
   ]
  },
  {
   "cell_type": "markdown",
   "metadata": {},
   "source": [
    "Q5A_att7 which is after-taste is not significant as its p-value is > 0.05"
   ]
  },
  {
   "cell_type": "code",
   "execution_count": 6,
   "metadata": {},
   "outputs": [
    {
     "name": "stdout",
     "output_type": "stream",
     "text": [
      "                            OLS Regression Results                            \n",
      "==============================================================================\n",
      "Dep. Variable:               Q5A_att1   R-squared:                       0.775\n",
      "Model:                            OLS   Adj. R-squared:                  0.774\n",
      "Method:                 Least Squares   F-statistic:                     1302.\n",
      "Date:                Wed, 13 Jun 2018   Prob (F-statistic):               0.00\n",
      "Time:                        21:25:56   Log-Likelihood:                -2738.0\n",
      "No. Observations:                2280   AIC:                             5490.\n",
      "Df Residuals:                    2273   BIC:                             5530.\n",
      "Df Model:                           6                                         \n",
      "Covariance Type:            nonrobust                                         \n",
      "==============================================================================\n",
      "                 coef    std err          t      P>|t|      [0.025      0.975]\n",
      "------------------------------------------------------------------------------\n",
      "Intercept      0.5892      0.081      7.241      0.000       0.430       0.749\n",
      "Q5A_att2       0.1604      0.014     11.583      0.000       0.133       0.188\n",
      "Q5A_att3       0.2880      0.019     15.049      0.000       0.250       0.325\n",
      "Q5A_att4       0.1102      0.017      6.383      0.000       0.076       0.144\n",
      "Q5A_att5       0.0835      0.017      4.814      0.000       0.049       0.117\n",
      "Q5A_att6       0.0937      0.018      5.183      0.000       0.058       0.129\n",
      "Q5A_att8       0.2005      0.020     10.146      0.000       0.162       0.239\n",
      "==============================================================================\n",
      "Omnibus:                      143.007   Durbin-Watson:                   1.755\n",
      "Prob(Omnibus):                  0.000   Jarque-Bera (JB):              488.447\n",
      "Skew:                          -0.238   Prob(JB):                    8.61e-107\n",
      "Kurtosis:                       5.217   Cond. No.                         90.5\n",
      "==============================================================================\n",
      "\n",
      "Warnings:\n",
      "[1] Standard Errors assume that the covariance matrix of the errors is correctly specified.\n"
     ]
    }
   ],
   "source": [
    "result_2 = sm.ols(formula=\"Q5A_att1~Q5A_att2+Q5A_att3+Q5A_att4+Q5A_att5+Q5A_att6+Q5A_att8\",data=data).fit()\n",
    "print(result_2.summary())"
   ]
  },
  {
   "cell_type": "markdown",
   "metadata": {},
   "source": [
    "Now all variables are significant as each one is having a p-value < 0.05.\n",
    "\n",
    "\n"
   ]
  },
  {
   "cell_type": "markdown",
   "metadata": {},
   "source": [
    "R2 and Adj. R2 have not reduced significantly.\n"
   ]
  },
  {
   "cell_type": "markdown",
   "metadata": {},
   "source": [
    "Overall model is significant as p-value of F statistic is almost equal to zero."
   ]
  },
  {
   "cell_type": "markdown",
   "metadata": {},
   "source": [
    "Equation to predict overall likebility:"
   ]
  },
  {
   "cell_type": "markdown",
   "metadata": {},
   "source": [
    "overall likebility = 0.5892 + 0.1604(Aroma) + 0.2880(Taste) + 0.1102(Smoothness) + 0.0835(Flavour) + 0.0937(Throat_feel) + 0.2005(Mouth-feel)"
   ]
  },
  {
   "cell_type": "code",
   "execution_count": 7,
   "metadata": {},
   "outputs": [],
   "source": [
    "from sklearn.decomposition import FactorAnalysis, PCA\n",
    "from scipy.linalg import eig\n",
    "from sklearn import preprocessing"
   ]
  },
  {
   "cell_type": "markdown",
   "metadata": {},
   "source": [
    " Extracting required predictors in separate dataframe"
   ]
  },
  {
   "cell_type": "code",
   "execution_count": 8,
   "metadata": {},
   "outputs": [],
   "source": [
    "data_new = data.loc[:,'Q5A_att2':'Q5A_att8']"
   ]
  },
  {
   "cell_type": "code",
   "execution_count": 9,
   "metadata": {
    "scrolled": false
   },
   "outputs": [
    {
     "data": {
      "text/html": [
       "<div>\n",
       "<style>\n",
       "    .dataframe thead tr:only-child th {\n",
       "        text-align: right;\n",
       "    }\n",
       "\n",
       "    .dataframe thead th {\n",
       "        text-align: left;\n",
       "    }\n",
       "\n",
       "    .dataframe tbody tr th {\n",
       "        vertical-align: top;\n",
       "    }\n",
       "</style>\n",
       "<table border=\"1\" class=\"dataframe\">\n",
       "  <thead>\n",
       "    <tr style=\"text-align: right;\">\n",
       "      <th></th>\n",
       "      <th>Q5A_att2</th>\n",
       "      <th>Q5A_att3</th>\n",
       "      <th>Q5A_att4</th>\n",
       "      <th>Q5A_att5</th>\n",
       "      <th>Q5A_att6</th>\n",
       "      <th>Q5A_att7</th>\n",
       "      <th>Q5A_att8</th>\n",
       "    </tr>\n",
       "  </thead>\n",
       "  <tbody>\n",
       "    <tr>\n",
       "      <th>Q5A_att2</th>\n",
       "      <td>1.000000</td>\n",
       "      <td>0.699165</td>\n",
       "      <td>0.650235</td>\n",
       "      <td>0.699211</td>\n",
       "      <td>0.644325</td>\n",
       "      <td>0.658032</td>\n",
       "      <td>0.652336</td>\n",
       "    </tr>\n",
       "    <tr>\n",
       "      <th>Q5A_att3</th>\n",
       "      <td>0.699165</td>\n",
       "      <td>1.000000</td>\n",
       "      <td>0.777731</td>\n",
       "      <td>0.783251</td>\n",
       "      <td>0.749416</td>\n",
       "      <td>0.790696</td>\n",
       "      <td>0.796745</td>\n",
       "    </tr>\n",
       "    <tr>\n",
       "      <th>Q5A_att4</th>\n",
       "      <td>0.650235</td>\n",
       "      <td>0.777731</td>\n",
       "      <td>1.000000</td>\n",
       "      <td>0.730227</td>\n",
       "      <td>0.783715</td>\n",
       "      <td>0.758622</td>\n",
       "      <td>0.761744</td>\n",
       "    </tr>\n",
       "    <tr>\n",
       "      <th>Q5A_att5</th>\n",
       "      <td>0.699211</td>\n",
       "      <td>0.783251</td>\n",
       "      <td>0.730227</td>\n",
       "      <td>1.000000</td>\n",
       "      <td>0.742777</td>\n",
       "      <td>0.772320</td>\n",
       "      <td>0.768208</td>\n",
       "    </tr>\n",
       "    <tr>\n",
       "      <th>Q5A_att6</th>\n",
       "      <td>0.644325</td>\n",
       "      <td>0.749416</td>\n",
       "      <td>0.783715</td>\n",
       "      <td>0.742777</td>\n",
       "      <td>1.000000</td>\n",
       "      <td>0.795996</td>\n",
       "      <td>0.814465</td>\n",
       "    </tr>\n",
       "    <tr>\n",
       "      <th>Q5A_att7</th>\n",
       "      <td>0.658032</td>\n",
       "      <td>0.790696</td>\n",
       "      <td>0.758622</td>\n",
       "      <td>0.772320</td>\n",
       "      <td>0.795996</td>\n",
       "      <td>1.000000</td>\n",
       "      <td>0.830628</td>\n",
       "    </tr>\n",
       "    <tr>\n",
       "      <th>Q5A_att8</th>\n",
       "      <td>0.652336</td>\n",
       "      <td>0.796745</td>\n",
       "      <td>0.761744</td>\n",
       "      <td>0.768208</td>\n",
       "      <td>0.814465</td>\n",
       "      <td>0.830628</td>\n",
       "      <td>1.000000</td>\n",
       "    </tr>\n",
       "  </tbody>\n",
       "</table>\n",
       "</div>"
      ],
      "text/plain": [
       "          Q5A_att2  Q5A_att3  Q5A_att4  Q5A_att5  Q5A_att6  Q5A_att7  Q5A_att8\n",
       "Q5A_att2  1.000000  0.699165  0.650235  0.699211  0.644325  0.658032  0.652336\n",
       "Q5A_att3  0.699165  1.000000  0.777731  0.783251  0.749416  0.790696  0.796745\n",
       "Q5A_att4  0.650235  0.777731  1.000000  0.730227  0.783715  0.758622  0.761744\n",
       "Q5A_att5  0.699211  0.783251  0.730227  1.000000  0.742777  0.772320  0.768208\n",
       "Q5A_att6  0.644325  0.749416  0.783715  0.742777  1.000000  0.795996  0.814465\n",
       "Q5A_att7  0.658032  0.790696  0.758622  0.772320  0.795996  1.000000  0.830628\n",
       "Q5A_att8  0.652336  0.796745  0.761744  0.768208  0.814465  0.830628  1.000000"
      ]
     },
     "execution_count": 9,
     "metadata": {},
     "output_type": "execute_result"
    }
   ],
   "source": [
    "data_new.corr()"
   ]
  },
  {
   "cell_type": "code",
   "execution_count": 10,
   "metadata": {},
   "outputs": [],
   "source": [
    "from scipy.stats import bartlett as bar"
   ]
  },
  {
   "cell_type": "markdown",
   "metadata": {},
   "source": [
    "Standardizing the data"
   ]
  },
  {
   "cell_type": "code",
   "execution_count": 11,
   "metadata": {},
   "outputs": [],
   "source": [
    "data_std = pd.DataFrame(preprocessing.scale(data_new))"
   ]
  },
  {
   "cell_type": "markdown",
   "metadata": {},
   "source": [
    "# PCA"
   ]
  },
  {
   "cell_type": "code",
   "execution_count": 18,
   "metadata": {},
   "outputs": [],
   "source": [
    "pca = PCA(n_components=3)"
   ]
  },
  {
   "cell_type": "markdown",
   "metadata": {},
   "source": [
    "3 principal components are extracted which are explaining approximately 88% of variance"
   ]
  },
  {
   "cell_type": "code",
   "execution_count": 19,
   "metadata": {},
   "outputs": [],
   "source": [
    "pc = pd.DataFrame(pca.fit_transform(data_std))"
   ]
  },
  {
   "cell_type": "code",
   "execution_count": 20,
   "metadata": {
    "scrolled": true
   },
   "outputs": [
    {
     "data": {
      "text/plain": [
       "array([ 0.78316344,  0.06156255,  0.03938998])"
      ]
     },
     "execution_count": 20,
     "metadata": {},
     "output_type": "execute_result"
    }
   ],
   "source": [
    "pca.explained_variance_ratio_"
   ]
  },
  {
   "cell_type": "code",
   "execution_count": 21,
   "metadata": {
    "scrolled": false
   },
   "outputs": [
    {
     "data": {
      "text/plain": [
       "array([ 5.48454962,  0.43112695,  0.27585087])"
      ]
     },
     "execution_count": 21,
     "metadata": {},
     "output_type": "execute_result"
    }
   ],
   "source": [
    "pca.explained_variance_"
   ]
  },
  {
   "cell_type": "markdown",
   "metadata": {},
   "source": [
    "These are the Eigen values."
   ]
  },
  {
   "cell_type": "code",
   "execution_count": 22,
   "metadata": {},
   "outputs": [
    {
     "data": {
      "text/html": [
       "<div>\n",
       "<style>\n",
       "    .dataframe thead tr:only-child th {\n",
       "        text-align: right;\n",
       "    }\n",
       "\n",
       "    .dataframe thead th {\n",
       "        text-align: left;\n",
       "    }\n",
       "\n",
       "    .dataframe tbody tr th {\n",
       "        vertical-align: top;\n",
       "    }\n",
       "</style>\n",
       "<table border=\"1\" class=\"dataframe\">\n",
       "  <thead>\n",
       "    <tr style=\"text-align: right;\">\n",
       "      <th></th>\n",
       "      <th>0</th>\n",
       "      <th>1</th>\n",
       "      <th>2</th>\n",
       "    </tr>\n",
       "  </thead>\n",
       "  <tbody>\n",
       "    <tr>\n",
       "      <th>0</th>\n",
       "      <td>-0.342547</td>\n",
       "      <td>-0.865037</td>\n",
       "      <td>-0.196473</td>\n",
       "    </tr>\n",
       "    <tr>\n",
       "      <th>1</th>\n",
       "      <td>-0.386484</td>\n",
       "      <td>-0.036997</td>\n",
       "      <td>0.128842</td>\n",
       "    </tr>\n",
       "    <tr>\n",
       "      <th>2</th>\n",
       "      <td>-0.377017</td>\n",
       "      <td>0.172262</td>\n",
       "      <td>-0.687332</td>\n",
       "    </tr>\n",
       "    <tr>\n",
       "      <th>3</th>\n",
       "      <td>-0.379144</td>\n",
       "      <td>-0.137822</td>\n",
       "      <td>0.536239</td>\n",
       "    </tr>\n",
       "    <tr>\n",
       "      <th>4</th>\n",
       "      <td>-0.382102</td>\n",
       "      <td>0.294623</td>\n",
       "      <td>-0.276010</td>\n",
       "    </tr>\n",
       "    <tr>\n",
       "      <th>5</th>\n",
       "      <td>-0.387534</td>\n",
       "      <td>0.217187</td>\n",
       "      <td>0.265839</td>\n",
       "    </tr>\n",
       "    <tr>\n",
       "      <th>6</th>\n",
       "      <td>-0.388863</td>\n",
       "      <td>0.260194</td>\n",
       "      <td>0.194854</td>\n",
       "    </tr>\n",
       "  </tbody>\n",
       "</table>\n",
       "</div>"
      ],
      "text/plain": [
       "          0         1         2\n",
       "0 -0.342547 -0.865037 -0.196473\n",
       "1 -0.386484 -0.036997  0.128842\n",
       "2 -0.377017  0.172262 -0.687332\n",
       "3 -0.379144 -0.137822  0.536239\n",
       "4 -0.382102  0.294623 -0.276010\n",
       "5 -0.387534  0.217187  0.265839\n",
       "6 -0.388863  0.260194  0.194854"
      ]
     },
     "execution_count": 22,
     "metadata": {},
     "output_type": "execute_result"
    }
   ],
   "source": [
    "components = pd.DataFrame(pca.components_).T\n",
    "components"
   ]
  },
  {
   "cell_type": "code",
   "execution_count": 25,
   "metadata": {},
   "outputs": [],
   "source": [
    "cov_mat = data_std.cov()"
   ]
  },
  {
   "cell_type": "code",
   "execution_count": 26,
   "metadata": {
    "scrolled": true
   },
   "outputs": [
    {
     "data": {
      "text/plain": [
       "array([[ 0.34254692,  0.86503651,  0.1964729 , -0.29343641,  0.07394761,\n",
       "         0.04988682, -0.04135178],\n",
       "       [ 0.3864845 ,  0.036997  , -0.12884179,  0.48868823,  0.53533552,\n",
       "        -0.35198195,  0.42821624],\n",
       "       [ 0.37701679, -0.17226206,  0.68733232,  0.44690016, -0.10998941,\n",
       "         0.23825389, -0.29525593],\n",
       "       [ 0.37914438,  0.13782232, -0.53623914,  0.34068545, -0.65438562,\n",
       "         0.06650644, -0.03149456],\n",
       "       [ 0.38210157, -0.29462349,  0.2760099 , -0.45995263, -0.36931219,\n",
       "        -0.43338598,  0.39400837],\n",
       "       [ 0.38753427, -0.21718663, -0.26583937, -0.24740552,  0.27192487,\n",
       "        -0.29736679, -0.7130196 ],\n",
       "       [ 0.38886347, -0.26019379, -0.19485387, -0.29415411,  0.23936331,\n",
       "         0.7322442 ,  0.25122373]])"
      ]
     },
     "execution_count": 26,
     "metadata": {},
     "output_type": "execute_result"
    }
   ],
   "source": [
    "eig_vector = eig(cov_mat)[1]\n",
    "eig_value = eig(cov_mat)[0]\n",
    "eig_vector"
   ]
  },
  {
   "cell_type": "code",
   "execution_count": 27,
   "metadata": {},
   "outputs": [
    {
     "data": {
      "text/plain": [
       "array([ 5.48454962+0.j,  0.43112695+0.j,  0.27585087+0.j,  0.25232410+0.j,\n",
       "        0.22033185+0.j,  0.15978157+0.j,  0.17910657+0.j])"
      ]
     },
     "execution_count": 27,
     "metadata": {},
     "output_type": "execute_result"
    }
   ],
   "source": [
    "eig_value"
   ]
  },
  {
   "cell_type": "markdown",
   "metadata": {},
   "source": [
    "# Factor Analysis with 3 factor solution"
   ]
  },
  {
   "cell_type": "code",
   "execution_count": 31,
   "metadata": {},
   "outputs": [],
   "source": [
    "%load_ext rpy2.ipython"
   ]
  },
  {
   "cell_type": "code",
   "execution_count": 32,
   "metadata": {},
   "outputs": [],
   "source": [
    "import rpy2\n",
    "import warnings\n",
    "warnings.filterwarnings('ignore')"
   ]
  },
  {
   "cell_type": "code",
   "execution_count": 33,
   "metadata": {},
   "outputs": [],
   "source": [
    "%R -i data_std"
   ]
  },
  {
   "cell_type": "code",
   "execution_count": 34,
   "metadata": {},
   "outputs": [
    {
     "data": {
      "text/html": [
       "\n",
       "    <span>ListVector with 30 elements.</span>\n",
       "    <table>\n",
       "      <tbody>\n",
       "      \n",
       "      <tr>\n",
       "      <th>\n",
       "        values\n",
       "      </th>\n",
       "      <td>\n",
       "        \n",
       "    <span>FloatVector with 7 elements.</span>\n",
       "    <table>\n",
       "      <tbody>\n",
       "      <tr>\n",
       "      \n",
       "      <td>\n",
       "        5.482144\n",
       "      </td>\n",
       "      \n",
       "      <td>\n",
       "        0.430938\n",
       "      </td>\n",
       "      \n",
       "      <td>\n",
       "        0.275730\n",
       "      </td>\n",
       "      \n",
       "      <td>\n",
       "        0.252213\n",
       "      </td>\n",
       "      \n",
       "      <td>\n",
       "        0.220235\n",
       "      </td>\n",
       "      \n",
       "      <td>\n",
       "        0.179028\n",
       "      </td>\n",
       "      \n",
       "      <td>\n",
       "        0.159711\n",
       "      </td>\n",
       "      \n",
       "      </tr>\n",
       "      </tbody>\n",
       "    </table>\n",
       "    \n",
       "      </td>\n",
       "      </tr>\n",
       "      \n",
       "      <tr>\n",
       "      <th>\n",
       "        rotation\n",
       "      </th>\n",
       "      <td>\n",
       "        \n",
       "    <span>StrVector with 1 elements.</span>\n",
       "    <table>\n",
       "      <tbody>\n",
       "      <tr>\n",
       "      \n",
       "      <td>\n",
       "        'varimax'\n",
       "      </td>\n",
       "      \n",
       "      </tr>\n",
       "      </tbody>\n",
       "    </table>\n",
       "    \n",
       "      </td>\n",
       "      </tr>\n",
       "      \n",
       "      <tr>\n",
       "      <th>\n",
       "        n.obs\n",
       "      </th>\n",
       "      <td>\n",
       "        \n",
       "    <span>IntVector with 1 elements.</span>\n",
       "    <table>\n",
       "      <tbody>\n",
       "      <tr>\n",
       "      \n",
       "      <td>\n",
       "        2,280\n",
       "      </td>\n",
       "      \n",
       "      </tr>\n",
       "      </tbody>\n",
       "    </table>\n",
       "    \n",
       "      </td>\n",
       "      </tr>\n",
       "      \n",
       "      <tr>\n",
       "      <th>\n",
       "        ...\n",
       "      </th>\n",
       "      <td>\n",
       "        ...\n",
       "      </td>\n",
       "      </tr>\n",
       "      \n",
       "      <tr>\n",
       "      <th>\n",
       "        Vaccounted\n",
       "      </th>\n",
       "      <td>\n",
       "        \n",
       "    <span>Matrix with 15 elements.</span>\n",
       "    <table>\n",
       "      <tbody>\n",
       "      <tr>\n",
       "      \n",
       "      <td>\n",
       "        2.593077\n",
       "      </td>\n",
       "      \n",
       "      <td>\n",
       "        0.370440\n",
       "      </td>\n",
       "      \n",
       "      <td>\n",
       "        0.370440\n",
       "      </td>\n",
       "      \n",
       "      <td>\n",
       "        0.418994\n",
       "      </td>\n",
       "      \n",
       "      <td>\n",
       "        ...\n",
       "      </td>\n",
       "      \n",
       "      <td>\n",
       "        0.212871\n",
       "      </td>\n",
       "      \n",
       "      <td>\n",
       "        0.884116\n",
       "      </td>\n",
       "      \n",
       "      <td>\n",
       "        0.240772\n",
       "      </td>\n",
       "      \n",
       "      <td>\n",
       "        1.000000\n",
       "      </td>\n",
       "      \n",
       "      </tr>\n",
       "      </tbody>\n",
       "    </table>\n",
       "    \n",
       "      </td>\n",
       "      </tr>\n",
       "      \n",
       "      <tr>\n",
       "      <th>\n",
       "        Structure\n",
       "      </th>\n",
       "      <td>\n",
       "        \n",
       "    <span>Matrix with 21 elements.</span>\n",
       "    <table>\n",
       "      <tbody>\n",
       "      <tr>\n",
       "      \n",
       "      <td>\n",
       "        0.328115\n",
       "      </td>\n",
       "      \n",
       "      <td>\n",
       "        0.644848\n",
       "      </td>\n",
       "      \n",
       "      <td>\n",
       "        0.358657\n",
       "      </td>\n",
       "      \n",
       "      <td>\n",
       "        0.769445\n",
       "      </td>\n",
       "      \n",
       "      <td>\n",
       "        ...\n",
       "      </td>\n",
       "      \n",
       "      <td>\n",
       "        0.446708\n",
       "      </td>\n",
       "      \n",
       "      <td>\n",
       "        0.261051\n",
       "      </td>\n",
       "      \n",
       "      <td>\n",
       "        0.271301\n",
       "      </td>\n",
       "      \n",
       "      <td>\n",
       "        0.253222\n",
       "      </td>\n",
       "      \n",
       "      </tr>\n",
       "      </tbody>\n",
       "    </table>\n",
       "    \n",
       "      </td>\n",
       "      </tr>\n",
       "      \n",
       "      <tr>\n",
       "      <th>\n",
       "        scores\n",
       "      </th>\n",
       "      <td>\n",
       "        \n",
       "    <span>Matrix with 6840 elements.</span>\n",
       "    <table>\n",
       "      <tbody>\n",
       "      <tr>\n",
       "      \n",
       "      <td>\n",
       "        0.042954\n",
       "      </td>\n",
       "      \n",
       "      <td>\n",
       "        0.273118\n",
       "      </td>\n",
       "      \n",
       "      <td>\n",
       "        -0.685239\n",
       "      </td>\n",
       "      \n",
       "      <td>\n",
       "        0.375637\n",
       "      </td>\n",
       "      \n",
       "      <td>\n",
       "        ...\n",
       "      </td>\n",
       "      \n",
       "      <td>\n",
       "        -1.150503\n",
       "      </td>\n",
       "      \n",
       "      <td>\n",
       "        0.275628\n",
       "      </td>\n",
       "      \n",
       "      <td>\n",
       "        0.291286\n",
       "      </td>\n",
       "      \n",
       "      <td>\n",
       "        -1.150503\n",
       "      </td>\n",
       "      \n",
       "      </tr>\n",
       "      </tbody>\n",
       "    </table>\n",
       "    \n",
       "      </td>\n",
       "      </tr>\n",
       "      \n",
       "      </tbody>\n",
       "    </table>\n",
       "    "
      ],
      "text/plain": [
       "R object with classes: ('psych', 'principal') mapped to:\n",
       "<ListVector - Python:0x000002160310D248 / R:0x0000021603E073D0>\n",
       "[FloatVector, StrVector, IntVector, FloatVector, ..., Matrix, Matrix, Matrix, Matrix]\n",
       "  values: <class 'rpy2.robjects.vectors.FloatVector'>\n",
       "  R object with classes: ('numeric',) mapped to:\n",
       "<FloatVector - Python:0x000002160129DA88 / R:0x0000021603291C10>\n",
       "[5.482144, 0.430938, 0.275730, 0.252213, 0.220235, 0.179028, 0.159711]\n",
       "  rotation: <class 'rpy2.robjects.vectors.StrVector'>\n",
       "  R object with classes: ('character',) mapped to:\n",
       "<StrVector - Python:0x0000021603119748 / R:0x0000021603B2E3E0>\n",
       "['varimax']\n",
       "  n.obs: <class 'rpy2.robjects.vectors.IntVector'>\n",
       "  R object with classes: ('integer',) mapped to:\n",
       "<IntVector - Python:0x0000021603119EC8 / R:0x0000021603D38B98>\n",
       "[2,280]\n",
       "  communality: <class 'rpy2.robjects.vectors.FloatVector'>\n",
       "  R object with classes: ('numeric',) mapped to:\n",
       "<FloatVector - Python:0x0000021603119C08 / R:0x0000021603285138>\n",
       "[0.976375, 0.824036, 0.922291, 0.875533, 0.858814, 0.863137, 0.868625]\n",
       "...\n",
       "  fit: <class 'rpy2.robjects.vectors.Matrix'>\n",
       "  R object with classes: ('matrix',) mapped to:\n",
       "<Matrix - Python:0x0000021603119448 / R:0x0000021602A37898>\n",
       "[0.665929, -0.234049, -0.708350, 0.458581, ..., 0.141227, 0.588423, -0.418883, 0.691589]\n",
       "  fit.off: <class 'rpy2.robjects.vectors.Matrix'>\n",
       "  R object with classes: ('matrix',) mapped to:\n",
       "<Matrix - Python:0x00000216030A5208 / R:0x00000216029E7CD0>\n",
       "[2.593077, 0.370440, 0.370440, 0.418994, ..., 0.212871, 0.884116, 0.240772, 1.000000]\n",
       "  fn: <class 'rpy2.robjects.vectors.Matrix'>\n",
       "  R object with classes: ('loadings',) mapped to:\n",
       "<Matrix - Python:0x0000021603119A48 / R:0x00000216025B97F0>\n",
       "[0.328115, 0.644848, 0.358657, 0.769445, ..., 0.446708, 0.261051, 0.271301, 0.253222]\n",
       "  Call: <class 'rpy2.robjects.vectors.Matrix'>\n",
       "  R object with classes: ('matrix',) mapped to:\n",
       "<Matrix - Python:0x0000021603119408 / R:0x0000021603F54068>\n",
       "[0.042954, 0.273118, -0.685239, 0.375637, ..., -1.150503, 0.275628, 0.291286, -1.150503]"
      ]
     },
     "execution_count": 34,
     "metadata": {},
     "output_type": "execute_result"
    }
   ],
   "source": [
    "%R require(psych)\n",
    "%R pca1 = principal(data_std,nfactors=3,scores=TRUE)"
   ]
  },
  {
   "cell_type": "code",
   "execution_count": 35,
   "metadata": {
    "scrolled": true
   },
   "outputs": [
    {
     "data": {
      "text/plain": [
       "array([ 5.48214411,  0.43093786,  0.27572989,  0.25221344,  0.22023521,\n",
       "        0.17902801,  0.15971149])"
      ]
     },
     "execution_count": 35,
     "metadata": {},
     "output_type": "execute_result"
    }
   ],
   "source": [
    "%R pca1$values"
   ]
  },
  {
   "cell_type": "code",
   "execution_count": 36,
   "metadata": {
    "scrolled": true
   },
   "outputs": [
    {
     "data": {
      "text/html": [
       "<div>\n",
       "<style>\n",
       "    .dataframe thead tr:only-child th {\n",
       "        text-align: right;\n",
       "    }\n",
       "\n",
       "    .dataframe thead th {\n",
       "        text-align: left;\n",
       "    }\n",
       "\n",
       "    .dataframe tbody tr th {\n",
       "        vertical-align: top;\n",
       "    }\n",
       "</style>\n",
       "<table border=\"1\" class=\"dataframe\">\n",
       "  <thead>\n",
       "    <tr style=\"text-align: right;\">\n",
       "      <th></th>\n",
       "      <th>F1</th>\n",
       "      <th>F2</th>\n",
       "      <th>F3</th>\n",
       "    </tr>\n",
       "  </thead>\n",
       "  <tbody>\n",
       "    <tr>\n",
       "      <th>Q5A_att2</th>\n",
       "      <td>0.328115</td>\n",
       "      <td>0.305421</td>\n",
       "      <td>0.880587</td>\n",
       "    </tr>\n",
       "    <tr>\n",
       "      <th>Q5A_att3</th>\n",
       "      <td>0.644848</td>\n",
       "      <td>0.475510</td>\n",
       "      <td>0.426730</td>\n",
       "    </tr>\n",
       "    <tr>\n",
       "      <th>Q5A_att4</th>\n",
       "      <td>0.358657</td>\n",
       "      <td>0.816404</td>\n",
       "      <td>0.356568</td>\n",
       "    </tr>\n",
       "    <tr>\n",
       "      <th>Q5A_att5</th>\n",
       "      <td>0.769445</td>\n",
       "      <td>0.289724</td>\n",
       "      <td>0.446708</td>\n",
       "    </tr>\n",
       "    <tr>\n",
       "      <th>Q5A_att6</th>\n",
       "      <td>0.538378</td>\n",
       "      <td>0.707683</td>\n",
       "      <td>0.261051</td>\n",
       "    </tr>\n",
       "    <tr>\n",
       "      <th>Q5A_att7</th>\n",
       "      <td>0.736495</td>\n",
       "      <td>0.497100</td>\n",
       "      <td>0.271301</td>\n",
       "    </tr>\n",
       "    <tr>\n",
       "      <th>Q5A_att8</th>\n",
       "      <td>0.718772</td>\n",
       "      <td>0.536536</td>\n",
       "      <td>0.253222</td>\n",
       "    </tr>\n",
       "  </tbody>\n",
       "</table>\n",
       "</div>"
      ],
      "text/plain": [
       "                F1        F2        F3\n",
       "Q5A_att2  0.328115  0.305421  0.880587\n",
       "Q5A_att3  0.644848  0.475510  0.426730\n",
       "Q5A_att4  0.358657  0.816404  0.356568\n",
       "Q5A_att5  0.769445  0.289724  0.446708\n",
       "Q5A_att6  0.538378  0.707683  0.261051\n",
       "Q5A_att7  0.736495  0.497100  0.271301\n",
       "Q5A_att8  0.718772  0.536536  0.253222"
      ]
     },
     "execution_count": 36,
     "metadata": {},
     "output_type": "execute_result"
    }
   ],
   "source": [
    "fa = %R pca1$Structure\n",
    "fa = pd.DataFrame(fa,columns=['F1','F2','F3'], index=data_new.columns)\n",
    "fa"
   ]
  },
  {
   "cell_type": "markdown",
   "metadata": {},
   "source": [
    "- \"fa\" is the Rotated Component Matrix\n",
    "- Every attribute is strongly correlated with one or other factor as follows:\n",
    "- Q5A_att2-F3\n",
    "- Q5A_att3-F1\n",
    "- Q5A_att4-F2\n",
    "- Q5A_att5-F1\n",
    "- Q5A_att6-F2\n",
    "- Q5A_att7-F1\n",
    "- Q5A_att8-F1\n",
    "\n",
    "- so we can interpret these as factors as:\n",
    "- factor 1- combination of taste,flavour,after-taste,mouth-feel\n",
    "- factor 2- combination of smootheness,throat-feel\n",
    "- factor 3- aroma\n",
    "\n",
    "- Now, we will use these factors to do regression."
   ]
  },
  {
   "cell_type": "code",
   "execution_count": 37,
   "metadata": {},
   "outputs": [],
   "source": [
    "PCs = %R pca1$scores"
   ]
  },
  {
   "cell_type": "code",
   "execution_count": 38,
   "metadata": {},
   "outputs": [
    {
     "data": {
      "text/html": [
       "<div>\n",
       "<style>\n",
       "    .dataframe thead tr:only-child th {\n",
       "        text-align: right;\n",
       "    }\n",
       "\n",
       "    .dataframe thead th {\n",
       "        text-align: left;\n",
       "    }\n",
       "\n",
       "    .dataframe tbody tr th {\n",
       "        vertical-align: top;\n",
       "    }\n",
       "</style>\n",
       "<table border=\"1\" class=\"dataframe\">\n",
       "  <thead>\n",
       "    <tr style=\"text-align: right;\">\n",
       "      <th></th>\n",
       "      <th>PC1</th>\n",
       "      <th>PC2</th>\n",
       "      <th>PC3</th>\n",
       "      <th>Q5A_att1</th>\n",
       "    </tr>\n",
       "  </thead>\n",
       "  <tbody>\n",
       "    <tr>\n",
       "      <th>0</th>\n",
       "      <td>0.042954</td>\n",
       "      <td>-0.052273</td>\n",
       "      <td>-0.821272</td>\n",
       "      <td>7</td>\n",
       "    </tr>\n",
       "    <tr>\n",
       "      <th>1</th>\n",
       "      <td>0.273118</td>\n",
       "      <td>-0.169071</td>\n",
       "      <td>0.346631</td>\n",
       "      <td>8</td>\n",
       "    </tr>\n",
       "    <tr>\n",
       "      <th>2</th>\n",
       "      <td>-0.685239</td>\n",
       "      <td>0.623113</td>\n",
       "      <td>-0.642846</td>\n",
       "      <td>7</td>\n",
       "    </tr>\n",
       "    <tr>\n",
       "      <th>3</th>\n",
       "      <td>0.375637</td>\n",
       "      <td>0.441877</td>\n",
       "      <td>-0.175951</td>\n",
       "      <td>10</td>\n",
       "    </tr>\n",
       "    <tr>\n",
       "      <th>4</th>\n",
       "      <td>0.812690</td>\n",
       "      <td>0.824105</td>\n",
       "      <td>0.257039</td>\n",
       "      <td>9</td>\n",
       "    </tr>\n",
       "  </tbody>\n",
       "</table>\n",
       "</div>"
      ],
      "text/plain": [
       "        PC1       PC2       PC3  Q5A_att1\n",
       "0  0.042954 -0.052273 -0.821272         7\n",
       "1  0.273118 -0.169071  0.346631         8\n",
       "2 -0.685239  0.623113 -0.642846         7\n",
       "3  0.375637  0.441877 -0.175951        10\n",
       "4  0.812690  0.824105  0.257039         9"
      ]
     },
     "execution_count": 38,
     "metadata": {},
     "output_type": "execute_result"
    }
   ],
   "source": [
    "PCs = pd.DataFrame(PCs, columns=['PC1','PC2','PC3'])\n",
    "PCs.loc[:,\"Q5A_att1\"] = data['Q5A_att1']\n",
    "PCs.head()"
   ]
  },
  {
   "cell_type": "code",
   "execution_count": 39,
   "metadata": {},
   "outputs": [
    {
     "name": "stdout",
     "output_type": "stream",
     "text": [
      "                            OLS Regression Results                            \n",
      "==============================================================================\n",
      "Dep. Variable:               Q5A_att1   R-squared:                       0.767\n",
      "Model:                            OLS   Adj. R-squared:                  0.766\n",
      "Method:                 Least Squares   F-statistic:                     2493.\n",
      "Date:                Wed, 13 Jun 2018   Prob (F-statistic):               0.00\n",
      "Time:                        21:37:35   Log-Likelihood:                -2777.3\n",
      "No. Observations:                2280   AIC:                             5563.\n",
      "Df Residuals:                    2276   BIC:                             5586.\n",
      "Df Model:                           3                                         \n",
      "Covariance Type:            nonrobust                                         \n",
      "==============================================================================\n",
      "                 coef    std err          t      P>|t|      [0.025      0.975]\n",
      "------------------------------------------------------------------------------\n",
      "Intercept      7.5930      0.017    442.810      0.000       7.559       7.627\n",
      "PC1            0.9637      0.017     56.191      0.000       0.930       0.997\n",
      "PC2            0.8464      0.017     49.348      0.000       0.813       0.880\n",
      "PC3            0.7451      0.017     43.444      0.000       0.711       0.779\n",
      "==============================================================================\n",
      "Omnibus:                      143.861   Durbin-Watson:                   1.723\n",
      "Prob(Omnibus):                  0.000   Jarque-Bera (JB):              495.069\n",
      "Skew:                          -0.238   Prob(JB):                    3.14e-108\n",
      "Kurtosis:                       5.233   Cond. No.                         1.00\n",
      "==============================================================================\n",
      "\n",
      "Warnings:\n",
      "[1] Standard Errors assume that the covariance matrix of the errors is correctly specified.\n"
     ]
    }
   ],
   "source": [
    "m = sm.ols(formula=\"Q5A_att1~PC1+PC2+PC3\", data=PCs)\n",
    "M = m.fit()\n",
    "print(M.summary())"
   ]
  },
  {
   "cell_type": "code",
   "execution_count": null,
   "metadata": {},
   "outputs": [],
   "source": []
  }
 ],
 "metadata": {
  "kernelspec": {
   "display_name": "Python 3",
   "language": "python",
   "name": "python3"
  },
  "language_info": {
   "codemirror_mode": {
    "name": "ipython",
    "version": 3
   },
   "file_extension": ".py",
   "mimetype": "text/x-python",
   "name": "python",
   "nbconvert_exporter": "python",
   "pygments_lexer": "ipython3",
   "version": "3.6.3"
  }
 },
 "nbformat": 4,
 "nbformat_minor": 2
}
