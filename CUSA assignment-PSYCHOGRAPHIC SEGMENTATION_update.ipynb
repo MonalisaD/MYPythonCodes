{
 "cells": [
  {
   "cell_type": "code",
   "execution_count": 2,
   "metadata": {},
   "outputs": [],
   "source": [
    "import numpy as np\n",
    "import pandas as pd\n",
    "import matplotlib.pyplot as plt\n",
    "%matplotlib inline\n",
    "\n",
    "from sklearn.metrics import silhouette_score\n",
    "from sklearn.cluster import KMeans\n",
    "from scipy.cluster.hierarchy import linkage, dendrogram, cut_tree"
   ]
  },
  {
   "cell_type": "code",
   "execution_count": 3,
   "metadata": {},
   "outputs": [],
   "source": [
    "data = pd.read_excel(r\"D:\\DataCUSAAssgn1.xls\")\n",
    "data = data.drop('Srl No',1)"
   ]
  },
  {
   "cell_type": "code",
   "execution_count": 4,
   "metadata": {
    "scrolled": true
   },
   "outputs": [
    {
     "data": {
      "text/html": [
       "<div>\n",
       "<style scoped>\n",
       "    .dataframe tbody tr th:only-of-type {\n",
       "        vertical-align: middle;\n",
       "    }\n",
       "\n",
       "    .dataframe tbody tr th {\n",
       "        vertical-align: top;\n",
       "    }\n",
       "\n",
       "    .dataframe thead th {\n",
       "        text-align: right;\n",
       "    }\n",
       "</style>\n",
       "<table border=\"1\" class=\"dataframe\">\n",
       "  <thead>\n",
       "    <tr style=\"text-align: right;\">\n",
       "      <th></th>\n",
       "      <th>V1 - I plan my expenses…</th>\n",
       "      <th>V2 - I always use new brands…</th>\n",
       "      <th>V3 - Weekends at home with family…</th>\n",
       "      <th>V4 - Buy more by impulse while shopping…</th>\n",
       "      <th>V5 - Watch online rather than TV shows</th>\n",
       "      <th>V6 - Prefer reading, music rather than sports wctivities</th>\n",
       "      <th>V7 - Watch movies in first few days of release</th>\n",
       "      <th>V8 - I order for everyone while eating out</th>\n",
       "      <th>V9 - Some physical exercise everyday</th>\n",
       "      <th>V10 - Prefer light, sober colours</th>\n",
       "      <th>...</th>\n",
       "      <th>Q2 - Mobile Phn Brand</th>\n",
       "      <th>Q3 - Favourite Soft Drink</th>\n",
       "      <th>Q4 - Newspaper read</th>\n",
       "      <th>Q5 - Shower Gel</th>\n",
       "      <th>Q6 - Hand sanitizers</th>\n",
       "      <th>Q7 - Face washes</th>\n",
       "      <th>Q8 - Hair conditioner</th>\n",
       "      <th>Q9 - Tea_Coffee</th>\n",
       "      <th>Q10 - Gender</th>\n",
       "      <th>Q11 - Occupation</th>\n",
       "    </tr>\n",
       "  </thead>\n",
       "  <tbody>\n",
       "    <tr>\n",
       "      <th>0</th>\n",
       "      <td>4</td>\n",
       "      <td>9</td>\n",
       "      <td>4</td>\n",
       "      <td>6</td>\n",
       "      <td>9</td>\n",
       "      <td>8</td>\n",
       "      <td>9</td>\n",
       "      <td>8</td>\n",
       "      <td>8</td>\n",
       "      <td>8</td>\n",
       "      <td>...</td>\n",
       "      <td>Samsung</td>\n",
       "      <td>Cola</td>\n",
       "      <td>Economic Times</td>\n",
       "      <td>3</td>\n",
       "      <td>4</td>\n",
       "      <td>4</td>\n",
       "      <td>3</td>\n",
       "      <td>1</td>\n",
       "      <td>1</td>\n",
       "      <td>1</td>\n",
       "    </tr>\n",
       "    <tr>\n",
       "      <th>1</th>\n",
       "      <td>9</td>\n",
       "      <td>6</td>\n",
       "      <td>9</td>\n",
       "      <td>1</td>\n",
       "      <td>5</td>\n",
       "      <td>9</td>\n",
       "      <td>8</td>\n",
       "      <td>8</td>\n",
       "      <td>9</td>\n",
       "      <td>5</td>\n",
       "      <td>...</td>\n",
       "      <td>Others</td>\n",
       "      <td>Orange</td>\n",
       "      <td>The Hindu</td>\n",
       "      <td>1</td>\n",
       "      <td>2</td>\n",
       "      <td>2</td>\n",
       "      <td>3</td>\n",
       "      <td>1</td>\n",
       "      <td>1</td>\n",
       "      <td>1</td>\n",
       "    </tr>\n",
       "    <tr>\n",
       "      <th>2</th>\n",
       "      <td>4</td>\n",
       "      <td>6</td>\n",
       "      <td>5</td>\n",
       "      <td>7</td>\n",
       "      <td>6</td>\n",
       "      <td>5</td>\n",
       "      <td>0</td>\n",
       "      <td>5</td>\n",
       "      <td>3</td>\n",
       "      <td>7</td>\n",
       "      <td>...</td>\n",
       "      <td>HTC</td>\n",
       "      <td>Fruit flavour</td>\n",
       "      <td>Times of India</td>\n",
       "      <td>2</td>\n",
       "      <td>3</td>\n",
       "      <td>4</td>\n",
       "      <td>3</td>\n",
       "      <td>2</td>\n",
       "      <td>1</td>\n",
       "      <td>1</td>\n",
       "    </tr>\n",
       "    <tr>\n",
       "      <th>3</th>\n",
       "      <td>6</td>\n",
       "      <td>9</td>\n",
       "      <td>5</td>\n",
       "      <td>10</td>\n",
       "      <td>10</td>\n",
       "      <td>5</td>\n",
       "      <td>6</td>\n",
       "      <td>5</td>\n",
       "      <td>4</td>\n",
       "      <td>6</td>\n",
       "      <td>...</td>\n",
       "      <td>Others</td>\n",
       "      <td>I do not consume soft drinks at all</td>\n",
       "      <td>The Hindu</td>\n",
       "      <td>3</td>\n",
       "      <td>3</td>\n",
       "      <td>4</td>\n",
       "      <td>3</td>\n",
       "      <td>1</td>\n",
       "      <td>2</td>\n",
       "      <td>1</td>\n",
       "    </tr>\n",
       "    <tr>\n",
       "      <th>4</th>\n",
       "      <td>8</td>\n",
       "      <td>1</td>\n",
       "      <td>9</td>\n",
       "      <td>7</td>\n",
       "      <td>8</td>\n",
       "      <td>9</td>\n",
       "      <td>1</td>\n",
       "      <td>1</td>\n",
       "      <td>7</td>\n",
       "      <td>9</td>\n",
       "      <td>...</td>\n",
       "      <td>Others</td>\n",
       "      <td>Fruit flavour</td>\n",
       "      <td>Economic Times</td>\n",
       "      <td>2</td>\n",
       "      <td>3</td>\n",
       "      <td>2</td>\n",
       "      <td>2</td>\n",
       "      <td>1</td>\n",
       "      <td>1</td>\n",
       "      <td>1</td>\n",
       "    </tr>\n",
       "  </tbody>\n",
       "</table>\n",
       "<p>5 rows × 25 columns</p>\n",
       "</div>"
      ],
      "text/plain": [
       "   V1 - I plan my expenses…  V2 - I always use new brands…  \\\n",
       "0                         4                              9   \n",
       "1                         9                              6   \n",
       "2                         4                              6   \n",
       "3                         6                              9   \n",
       "4                         8                              1   \n",
       "\n",
       "   V3 - Weekends at home with family…  \\\n",
       "0                                   4   \n",
       "1                                   9   \n",
       "2                                   5   \n",
       "3                                   5   \n",
       "4                                   9   \n",
       "\n",
       "   V4 - Buy more by impulse while shopping…  \\\n",
       "0                                         6   \n",
       "1                                         1   \n",
       "2                                         7   \n",
       "3                                        10   \n",
       "4                                         7   \n",
       "\n",
       "   V5 - Watch online rather than TV shows  \\\n",
       "0                                       9   \n",
       "1                                       5   \n",
       "2                                       6   \n",
       "3                                      10   \n",
       "4                                       8   \n",
       "\n",
       "   V6 - Prefer reading, music rather than sports wctivities  \\\n",
       "0                                                  8          \n",
       "1                                                  9          \n",
       "2                                                  5          \n",
       "3                                                  5          \n",
       "4                                                  9          \n",
       "\n",
       "   V7 - Watch movies in first few days of release  \\\n",
       "0                                               9   \n",
       "1                                               8   \n",
       "2                                               0   \n",
       "3                                               6   \n",
       "4                                               1   \n",
       "\n",
       "   V8 - I order for everyone while eating out  \\\n",
       "0                                           8   \n",
       "1                                           8   \n",
       "2                                           5   \n",
       "3                                           5   \n",
       "4                                           1   \n",
       "\n",
       "   V9 - Some physical exercise everyday  V10 - Prefer light, sober colours  \\\n",
       "0                                     8                                  8   \n",
       "1                                     9                                  5   \n",
       "2                                     3                                  7   \n",
       "3                                     4                                  6   \n",
       "4                                     7                                  9   \n",
       "\n",
       "         ...         Q2 - Mobile Phn Brand  \\\n",
       "0        ...                       Samsung   \n",
       "1        ...                        Others   \n",
       "2        ...                           HTC   \n",
       "3        ...                        Others   \n",
       "4        ...                        Others   \n",
       "\n",
       "             Q3 - Favourite Soft Drink  Q4 - Newspaper read  Q5 - Shower Gel  \\\n",
       "0                                 Cola       Economic Times                3   \n",
       "1                               Orange            The Hindu                1   \n",
       "2                        Fruit flavour       Times of India                2   \n",
       "3  I do not consume soft drinks at all            The Hindu                3   \n",
       "4                        Fruit flavour       Economic Times                2   \n",
       "\n",
       "   Q6 - Hand sanitizers Q7 - Face washes Q8 - Hair conditioner  \\\n",
       "0                     4                4                     3   \n",
       "1                     2                2                     3   \n",
       "2                     3                4                     3   \n",
       "3                     3                4                     3   \n",
       "4                     3                2                     2   \n",
       "\n",
       "  Q9 - Tea_Coffee  Q10 - Gender  Q11 - Occupation  \n",
       "0               1             1                 1  \n",
       "1               1             1                 1  \n",
       "2               2             1                 1  \n",
       "3               1             2                 1  \n",
       "4               1             1                 1  \n",
       "\n",
       "[5 rows x 25 columns]"
      ]
     },
     "execution_count": 4,
     "metadata": {},
     "output_type": "execute_result"
    }
   ],
   "source": [
    "data.head()"
   ]
  },
  {
   "cell_type": "code",
   "execution_count": 5,
   "metadata": {},
   "outputs": [
    {
     "data": {
      "text/plain": [
       "Index(['V1 - I plan my expenses…', 'V2 - I always use new brands…',\n",
       "       'V3 - Weekends at home with family…',\n",
       "       'V4 - Buy more by impulse while shopping…',\n",
       "       'V5 - Watch online rather than TV shows',\n",
       "       'V6 - Prefer reading, music rather than sports wctivities',\n",
       "       'V7 - Watch movies in first few days of release',\n",
       "       'V8 - I order for everyone while eating out',\n",
       "       'V9 - Some physical exercise everyday',\n",
       "       'V10 - Prefer light, sober colours',\n",
       "       'V11 - I discuss my problem, rather than keeping them to myself',\n",
       "       'V12 - I like performing on a stage in front of a huge crowd',\n",
       "       'V13 - At parties, I like mingling with new people rather than sticking to my close circle',\n",
       "       'V14 - Math Science were my favourite subjects in school',\n",
       "       'V15 - When I see a new, interesting ad I most often end up buying the brand',\n",
       "       'Q2 - Mobile Phn Brand', 'Q3 - Favourite Soft Drink',\n",
       "       'Q4 - Newspaper read', 'Q5 - Shower Gel', 'Q6 - Hand sanitizers',\n",
       "       'Q7 - Face washes', 'Q8 - Hair conditioner', 'Q9 - Tea_Coffee',\n",
       "       'Q10 - Gender', 'Q11 - Occupation'],\n",
       "      dtype='object')"
      ]
     },
     "execution_count": 5,
     "metadata": {},
     "output_type": "execute_result"
    }
   ],
   "source": [
    "data.columns"
   ]
  },
  {
   "cell_type": "code",
   "execution_count": 6,
   "metadata": {},
   "outputs": [],
   "source": [
    "cluster = data.loc[:,'V1 - I plan my expenses…':'V15 - When I see a new, interesting ad I most often end up buying the brand']"
   ]
  },
  {
   "cell_type": "code",
   "execution_count": 7,
   "metadata": {},
   "outputs": [
    {
     "data": {
      "text/html": [
       "<div>\n",
       "<style scoped>\n",
       "    .dataframe tbody tr th:only-of-type {\n",
       "        vertical-align: middle;\n",
       "    }\n",
       "\n",
       "    .dataframe tbody tr th {\n",
       "        vertical-align: top;\n",
       "    }\n",
       "\n",
       "    .dataframe thead th {\n",
       "        text-align: right;\n",
       "    }\n",
       "</style>\n",
       "<table border=\"1\" class=\"dataframe\">\n",
       "  <thead>\n",
       "    <tr style=\"text-align: right;\">\n",
       "      <th></th>\n",
       "      <th>V1 - I plan my expenses…</th>\n",
       "      <th>V2 - I always use new brands…</th>\n",
       "      <th>V3 - Weekends at home with family…</th>\n",
       "      <th>V4 - Buy more by impulse while shopping…</th>\n",
       "      <th>V5 - Watch online rather than TV shows</th>\n",
       "      <th>V6 - Prefer reading, music rather than sports wctivities</th>\n",
       "      <th>V7 - Watch movies in first few days of release</th>\n",
       "      <th>V8 - I order for everyone while eating out</th>\n",
       "      <th>V9 - Some physical exercise everyday</th>\n",
       "      <th>V10 - Prefer light, sober colours</th>\n",
       "      <th>V11 - I discuss my problem, rather than keeping them to myself</th>\n",
       "      <th>V12 - I like performing on a stage in front of a huge crowd</th>\n",
       "      <th>V13 - At parties, I like mingling with new people rather than sticking to my close circle</th>\n",
       "      <th>V14 - Math Science were my favourite subjects in school</th>\n",
       "      <th>V15 - When I see a new, interesting ad I most often end up buying the brand</th>\n",
       "    </tr>\n",
       "  </thead>\n",
       "  <tbody>\n",
       "    <tr>\n",
       "      <th>0</th>\n",
       "      <td>4</td>\n",
       "      <td>9</td>\n",
       "      <td>4</td>\n",
       "      <td>6</td>\n",
       "      <td>9</td>\n",
       "      <td>8</td>\n",
       "      <td>9</td>\n",
       "      <td>8</td>\n",
       "      <td>8</td>\n",
       "      <td>8</td>\n",
       "      <td>8</td>\n",
       "      <td>4</td>\n",
       "      <td>6</td>\n",
       "      <td>7</td>\n",
       "      <td>7</td>\n",
       "    </tr>\n",
       "    <tr>\n",
       "      <th>1</th>\n",
       "      <td>9</td>\n",
       "      <td>6</td>\n",
       "      <td>9</td>\n",
       "      <td>1</td>\n",
       "      <td>5</td>\n",
       "      <td>9</td>\n",
       "      <td>8</td>\n",
       "      <td>8</td>\n",
       "      <td>9</td>\n",
       "      <td>5</td>\n",
       "      <td>2</td>\n",
       "      <td>8</td>\n",
       "      <td>1</td>\n",
       "      <td>8</td>\n",
       "      <td>2</td>\n",
       "    </tr>\n",
       "    <tr>\n",
       "      <th>2</th>\n",
       "      <td>4</td>\n",
       "      <td>6</td>\n",
       "      <td>5</td>\n",
       "      <td>7</td>\n",
       "      <td>6</td>\n",
       "      <td>5</td>\n",
       "      <td>0</td>\n",
       "      <td>5</td>\n",
       "      <td>3</td>\n",
       "      <td>7</td>\n",
       "      <td>0</td>\n",
       "      <td>4</td>\n",
       "      <td>3</td>\n",
       "      <td>7</td>\n",
       "      <td>3</td>\n",
       "    </tr>\n",
       "    <tr>\n",
       "      <th>3</th>\n",
       "      <td>6</td>\n",
       "      <td>9</td>\n",
       "      <td>5</td>\n",
       "      <td>10</td>\n",
       "      <td>10</td>\n",
       "      <td>5</td>\n",
       "      <td>6</td>\n",
       "      <td>5</td>\n",
       "      <td>4</td>\n",
       "      <td>6</td>\n",
       "      <td>5</td>\n",
       "      <td>7</td>\n",
       "      <td>6</td>\n",
       "      <td>10</td>\n",
       "      <td>6</td>\n",
       "    </tr>\n",
       "    <tr>\n",
       "      <th>4</th>\n",
       "      <td>8</td>\n",
       "      <td>1</td>\n",
       "      <td>9</td>\n",
       "      <td>7</td>\n",
       "      <td>8</td>\n",
       "      <td>9</td>\n",
       "      <td>1</td>\n",
       "      <td>1</td>\n",
       "      <td>7</td>\n",
       "      <td>9</td>\n",
       "      <td>6</td>\n",
       "      <td>1</td>\n",
       "      <td>7</td>\n",
       "      <td>8</td>\n",
       "      <td>2</td>\n",
       "    </tr>\n",
       "  </tbody>\n",
       "</table>\n",
       "</div>"
      ],
      "text/plain": [
       "   V1 - I plan my expenses…  V2 - I always use new brands…  \\\n",
       "0                         4                              9   \n",
       "1                         9                              6   \n",
       "2                         4                              6   \n",
       "3                         6                              9   \n",
       "4                         8                              1   \n",
       "\n",
       "   V3 - Weekends at home with family…  \\\n",
       "0                                   4   \n",
       "1                                   9   \n",
       "2                                   5   \n",
       "3                                   5   \n",
       "4                                   9   \n",
       "\n",
       "   V4 - Buy more by impulse while shopping…  \\\n",
       "0                                         6   \n",
       "1                                         1   \n",
       "2                                         7   \n",
       "3                                        10   \n",
       "4                                         7   \n",
       "\n",
       "   V5 - Watch online rather than TV shows  \\\n",
       "0                                       9   \n",
       "1                                       5   \n",
       "2                                       6   \n",
       "3                                      10   \n",
       "4                                       8   \n",
       "\n",
       "   V6 - Prefer reading, music rather than sports wctivities  \\\n",
       "0                                                  8          \n",
       "1                                                  9          \n",
       "2                                                  5          \n",
       "3                                                  5          \n",
       "4                                                  9          \n",
       "\n",
       "   V7 - Watch movies in first few days of release  \\\n",
       "0                                               9   \n",
       "1                                               8   \n",
       "2                                               0   \n",
       "3                                               6   \n",
       "4                                               1   \n",
       "\n",
       "   V8 - I order for everyone while eating out  \\\n",
       "0                                           8   \n",
       "1                                           8   \n",
       "2                                           5   \n",
       "3                                           5   \n",
       "4                                           1   \n",
       "\n",
       "   V9 - Some physical exercise everyday  V10 - Prefer light, sober colours  \\\n",
       "0                                     8                                  8   \n",
       "1                                     9                                  5   \n",
       "2                                     3                                  7   \n",
       "3                                     4                                  6   \n",
       "4                                     7                                  9   \n",
       "\n",
       "   V11 - I discuss my problem, rather than keeping them to myself  \\\n",
       "0                                                  8                \n",
       "1                                                  2                \n",
       "2                                                  0                \n",
       "3                                                  5                \n",
       "4                                                  6                \n",
       "\n",
       "   V12 - I like performing on a stage in front of a huge crowd  \\\n",
       "0                                                  4             \n",
       "1                                                  8             \n",
       "2                                                  4             \n",
       "3                                                  7             \n",
       "4                                                  1             \n",
       "\n",
       "   V13 - At parties, I like mingling with new people rather than sticking to my close circle  \\\n",
       "0                                                  6                                           \n",
       "1                                                  1                                           \n",
       "2                                                  3                                           \n",
       "3                                                  6                                           \n",
       "4                                                  7                                           \n",
       "\n",
       "   V14 - Math Science were my favourite subjects in school  \\\n",
       "0                                                  7         \n",
       "1                                                  8         \n",
       "2                                                  7         \n",
       "3                                                 10         \n",
       "4                                                  8         \n",
       "\n",
       "   V15 - When I see a new, interesting ad I most often end up buying the brand  \n",
       "0                                                  7                            \n",
       "1                                                  2                            \n",
       "2                                                  3                            \n",
       "3                                                  6                            \n",
       "4                                                  2                            "
      ]
     },
     "execution_count": 7,
     "metadata": {},
     "output_type": "execute_result"
    }
   ],
   "source": [
    "cluster.head()"
   ]
  },
  {
   "cell_type": "code",
   "execution_count": 77,
   "metadata": {
    "scrolled": false
   },
   "outputs": [],
   "source": [
    "##pd.DataFrame(cluster.corr())"
   ]
  },
  {
   "cell_type": "markdown",
   "metadata": {},
   "source": [
    "it seems there is no correlation between variables."
   ]
  },
  {
   "cell_type": "code",
   "execution_count": 8,
   "metadata": {},
   "outputs": [],
   "source": [
    "from sklearn import preprocessing\n",
    "from sklearn.decomposition import PCA"
   ]
  },
  {
   "cell_type": "code",
   "execution_count": 9,
   "metadata": {},
   "outputs": [],
   "source": [
    "pca = PCA(n_components=15)"
   ]
  },
  {
   "cell_type": "code",
   "execution_count": 10,
   "metadata": {},
   "outputs": [],
   "source": [
    "PC =pd.DataFrame(pca.fit_transform(cluster))"
   ]
  },
  {
   "cell_type": "code",
   "execution_count": 11,
   "metadata": {},
   "outputs": [
    {
     "data": {
      "text/plain": [
       "0.7988266537231514"
      ]
     },
     "execution_count": 11,
     "metadata": {},
     "output_type": "execute_result"
    }
   ],
   "source": [
    "pca.explained_variance_ratio_[:10].sum()"
   ]
  },
  {
   "cell_type": "code",
   "execution_count": 12,
   "metadata": {},
   "outputs": [],
   "source": [
    "cluster_pca = pd.DataFrame(PC.loc[:,0:10])"
   ]
  },
  {
   "cell_type": "code",
   "execution_count": 13,
   "metadata": {},
   "outputs": [
    {
     "data": {
      "text/plain": [
       "(400, 11)"
      ]
     },
     "execution_count": 13,
     "metadata": {},
     "output_type": "execute_result"
    }
   ],
   "source": [
    "cluster_pca.shape"
   ]
  },
  {
   "cell_type": "code",
   "execution_count": 14,
   "metadata": {},
   "outputs": [
    {
     "name": "stdout",
     "output_type": "stream",
     "text": [
      "31159.889982246998\n"
     ]
    }
   ],
   "source": [
    "TSS = []\n",
    "for k in range(1,8):\n",
    "    Km = KMeans(n_clusters=k,n_init=50,random_state=42)\n",
    "    ss = Km.fit(cluster_pca).inertia_\n",
    "    TSS.append(ss)\n",
    "print(min(TSS))"
   ]
  },
  {
   "cell_type": "markdown",
   "metadata": {},
   "source": [
    "we have tried different values of k (no of clusters) and tried to find at which point we are getting minimum error."
   ]
  },
  {
   "cell_type": "code",
   "execution_count": 15,
   "metadata": {
    "scrolled": true
   },
   "outputs": [
    {
     "data": {
      "image/png": "[encoded data removed]",
      "text/plain": [
       "<matplotlib.figure.Figure at 0x1ca7f1191d0>"
      ]
     },
     "metadata": {},
     "output_type": "display_data"
    }
   ],
   "source": [
    "plt.plot(range(1,8),TSS)\n",
    "\n",
    "plt.show()"
   ]
  },
  {
   "cell_type": "markdown",
   "metadata": {},
   "source": [
    "we are getting elbow point at k =3, so will take no of cluster as 4 in our further analysis."
   ]
  },
  {
   "cell_type": "code",
   "execution_count": 16,
   "metadata": {},
   "outputs": [],
   "source": [
    "km =KMeans(n_clusters=3,n_init=50,random_state=42)\n",
    "fit = km.fit(cluster_pca)"
   ]
  },
  {
   "cell_type": "code",
   "execution_count": 17,
   "metadata": {},
   "outputs": [
    {
     "data": {
      "text/plain": [
       "KMeans(algorithm='auto', copy_x=True, init='k-means++', max_iter=300,\n",
       "    n_clusters=3, n_init=50, n_jobs=1, precompute_distances='auto',\n",
       "    random_state=42, tol=0.0001, verbose=0)"
      ]
     },
     "execution_count": 17,
     "metadata": {},
     "output_type": "execute_result"
    }
   ],
   "source": [
    "fit"
   ]
  },
  {
   "cell_type": "code",
   "execution_count": 18,
   "metadata": {
    "scrolled": true
   },
   "outputs": [
    {
     "data": {
      "text/html": [
       "<div>\n",
       "<style scoped>\n",
       "    .dataframe tbody tr th:only-of-type {\n",
       "        vertical-align: middle;\n",
       "    }\n",
       "\n",
       "    .dataframe tbody tr th {\n",
       "        vertical-align: top;\n",
       "    }\n",
       "\n",
       "    .dataframe thead th {\n",
       "        text-align: right;\n",
       "    }\n",
       "</style>\n",
       "<table border=\"1\" class=\"dataframe\">\n",
       "  <thead>\n",
       "    <tr style=\"text-align: right;\">\n",
       "      <th></th>\n",
       "      <th>0</th>\n",
       "      <th>1</th>\n",
       "      <th>2</th>\n",
       "    </tr>\n",
       "  </thead>\n",
       "  <tbody>\n",
       "    <tr>\n",
       "      <th>0</th>\n",
       "      <td>1.434603</td>\n",
       "      <td>3.438989</td>\n",
       "      <td>-4.325039</td>\n",
       "    </tr>\n",
       "    <tr>\n",
       "      <th>1</th>\n",
       "      <td>-3.619562</td>\n",
       "      <td>3.385683</td>\n",
       "      <td>0.917698</td>\n",
       "    </tr>\n",
       "    <tr>\n",
       "      <th>2</th>\n",
       "      <td>-1.036967</td>\n",
       "      <td>0.395440</td>\n",
       "      <td>0.738944</td>\n",
       "    </tr>\n",
       "    <tr>\n",
       "      <th>3</th>\n",
       "      <td>0.113699</td>\n",
       "      <td>-0.018723</td>\n",
       "      <td>-0.101435</td>\n",
       "    </tr>\n",
       "    <tr>\n",
       "      <th>4</th>\n",
       "      <td>-0.133156</td>\n",
       "      <td>0.646145</td>\n",
       "      <td>-0.398416</td>\n",
       "    </tr>\n",
       "    <tr>\n",
       "      <th>5</th>\n",
       "      <td>-0.220907</td>\n",
       "      <td>0.441306</td>\n",
       "      <td>-0.138435</td>\n",
       "    </tr>\n",
       "    <tr>\n",
       "      <th>6</th>\n",
       "      <td>0.153110</td>\n",
       "      <td>-0.033780</td>\n",
       "      <td>-0.129495</td>\n",
       "    </tr>\n",
       "    <tr>\n",
       "      <th>7</th>\n",
       "      <td>-0.081342</td>\n",
       "      <td>0.501974</td>\n",
       "      <td>-0.332255</td>\n",
       "    </tr>\n",
       "    <tr>\n",
       "      <th>8</th>\n",
       "      <td>-0.170230</td>\n",
       "      <td>0.093300</td>\n",
       "      <td>0.097788</td>\n",
       "    </tr>\n",
       "    <tr>\n",
       "      <th>9</th>\n",
       "      <td>0.181021</td>\n",
       "      <td>-0.144996</td>\n",
       "      <td>-0.066054</td>\n",
       "    </tr>\n",
       "    <tr>\n",
       "      <th>10</th>\n",
       "      <td>-0.016440</td>\n",
       "      <td>-0.118193</td>\n",
       "      <td>0.114841</td>\n",
       "    </tr>\n",
       "  </tbody>\n",
       "</table>\n",
       "</div>"
      ],
      "text/plain": [
       "           0         1         2\n",
       "0   1.434603  3.438989 -4.325039\n",
       "1  -3.619562  3.385683  0.917698\n",
       "2  -1.036967  0.395440  0.738944\n",
       "3   0.113699 -0.018723 -0.101435\n",
       "4  -0.133156  0.646145 -0.398416\n",
       "5  -0.220907  0.441306 -0.138435\n",
       "6   0.153110 -0.033780 -0.129495\n",
       "7  -0.081342  0.501974 -0.332255\n",
       "8  -0.170230  0.093300  0.097788\n",
       "9   0.181021 -0.144996 -0.066054\n",
       "10 -0.016440 -0.118193  0.114841"
      ]
     },
     "execution_count": 18,
     "metadata": {},
     "output_type": "execute_result"
    }
   ],
   "source": [
    "score = pd.DataFrame(fit.cluster_centers_).T\n",
    "score"
   ]
  },
  {
   "cell_type": "code",
   "execution_count": 19,
   "metadata": {
    "scrolled": true
   },
   "outputs": [
    {
     "data": {
      "text/plain": [
       "0.09530190558867516"
      ]
     },
     "execution_count": 19,
     "metadata": {},
     "output_type": "execute_result"
    }
   ],
   "source": [
    "silhouette_score(X=cluster_pca, labels=fit.labels_)"
   ]
  },
  {
   "cell_type": "code",
   "execution_count": 40,
   "metadata": {
    "scrolled": true
   },
   "outputs": [
    {
     "data": {
      "text/plain": [
       "array([2, 1, 0, 2, 0, 2, 1, 1, 0, 1, 0, 0, 2, 2, 1, 0, 0, 1, 2, 2, 2, 2,\n",
       "       2, 0, 2, 0, 0, 1, 2, 1, 1, 0, 0, 2, 0, 0, 0, 1, 2, 1, 2, 1, 1, 1,\n",
       "       2, 1, 2, 2, 2, 1, 2, 2, 0, 0, 2, 2, 2, 2, 1, 1, 2, 2, 2, 1, 2, 1,\n",
       "       2, 0, 0, 2, 0, 0, 1, 0, 2, 2, 1, 2, 1, 1, 2, 2, 2, 0, 0, 2, 0, 0,\n",
       "       0, 1, 0, 2, 2, 0, 2, 2, 2, 2, 0, 0, 0, 2, 2, 2, 2, 2, 0, 0, 2, 0,\n",
       "       2, 2, 1, 1, 2, 0, 2, 2, 0, 2, 2, 0, 0, 0, 0, 2, 0, 0, 0, 2, 1, 1,\n",
       "       0, 1, 2, 1, 0, 1, 0, 0, 1, 0, 0, 1, 1, 0, 2, 0, 0, 2, 2, 2, 1, 2,\n",
       "       1, 1, 0, 1, 2, 0, 2, 0, 1, 1, 0, 1, 0, 1, 0, 1, 0, 2, 2, 2, 2, 2,\n",
       "       0, 2, 0, 2, 0, 2, 1, 2, 2, 2, 2, 0, 1, 2, 1, 0, 1, 0, 0, 0, 2, 0,\n",
       "       1, 2, 2, 2, 2, 1, 2, 2, 0, 2, 1, 2, 0, 0, 0, 0, 1, 0, 0, 1, 1, 0,\n",
       "       0, 1, 0, 0, 2, 0, 1, 2, 2, 2, 2, 2, 1, 2, 1, 2, 1, 2, 2, 0, 2, 0,\n",
       "       1, 0, 1, 2, 1, 0, 2, 2, 0, 2, 2, 0, 2, 0, 1, 1, 2, 2, 1, 0, 0, 1,\n",
       "       1, 2, 1, 2, 1, 1, 1, 1, 0, 0, 2, 2, 1, 1, 1, 0, 1, 1, 2, 2, 1, 1,\n",
       "       1, 0, 0, 1, 1, 1, 1, 2, 0, 0, 2, 1, 1, 0, 2, 0, 1, 0, 0, 1, 0, 0,\n",
       "       0, 0, 0, 1, 2, 1, 0, 1, 2, 2, 2, 0, 0, 0, 0, 0, 0, 2, 1, 0, 0, 1,\n",
       "       1, 2, 1, 0, 1, 1, 2, 0, 0, 2, 2, 0, 2, 2, 0, 0, 1, 0, 0, 2, 2, 1,\n",
       "       1, 0, 0, 2, 2, 0, 0, 0, 0, 0, 0, 2, 2, 1, 0, 2, 2, 0, 2, 1, 0, 1,\n",
       "       1, 0, 1, 0, 1, 0, 1, 2, 1, 0, 1, 1, 1, 0, 1, 1, 0, 2, 1, 1, 1, 2,\n",
       "       0, 0, 0, 0])"
      ]
     },
     "execution_count": 40,
     "metadata": {},
     "output_type": "execute_result"
    }
   ],
   "source": [
    "labels = np.array(fit.labels_)\n",
    "labels"
   ]
  },
  {
   "cell_type": "code",
   "execution_count": 113,
   "metadata": {},
   "outputs": [],
   "source": [
    "km =KMeans(n_clusters=3,n_init=50,random_state=42)\n",
    "fit = km.fit(data.iloc[:,0:15])"
   ]
  },
  {
   "cell_type": "code",
   "execution_count": 114,
   "metadata": {},
   "outputs": [
    {
     "data": {
      "text/plain": [
       "0.07915320093345514"
      ]
     },
     "execution_count": 114,
     "metadata": {},
     "output_type": "execute_result"
    }
   ],
   "source": [
    "silhouette_score(X=data.iloc[:,0:15], labels=fit.labels_)"
   ]
  },
  {
   "cell_type": "code",
   "execution_count": null,
   "metadata": {},
   "outputs": [],
   "source": []
  },
  {
   "cell_type": "code",
   "execution_count": null,
   "metadata": {},
   "outputs": [],
   "source": []
  },
  {
   "cell_type": "code",
   "execution_count": null,
   "metadata": {},
   "outputs": [],
   "source": []
  },
  {
   "cell_type": "markdown",
   "metadata": {},
   "source": [
    "# Hierarchical Clustering"
   ]
  },
  {
   "cell_type": "code",
   "execution_count": 34,
   "metadata": {
    "collapsed": true
   },
   "outputs": [],
   "source": [
    "link = linkage(y=preprocessing.scale(cluster),method='complete')"
   ]
  },
  {
   "cell_type": "code",
   "execution_count": 35,
   "metadata": {},
   "outputs": [
    {
     "data": {
      "image/png": "[encoded data removed]",
      "text/plain": [
       "<matplotlib.figure.Figure at 0x263171b0b38>"
      ]
     },
     "metadata": {},
     "output_type": "display_data"
    }
   ],
   "source": [
    "plt.figure(figsize=(20,10))\n",
    "dendrogram(link)\n",
    "plt.show()"
   ]
  },
  {
   "cell_type": "code",
   "execution_count": 36,
   "metadata": {},
   "outputs": [
    {
     "data": {
      "text/plain": [
       "(400, 1)"
      ]
     },
     "execution_count": 36,
     "metadata": {},
     "output_type": "execute_result"
    }
   ],
   "source": [
    "c = cut_tree(link,height=9)\n",
    "c.shape"
   ]
  },
  {
   "cell_type": "code",
   "execution_count": 37,
   "metadata": {},
   "outputs": [
    {
     "name": "stderr",
     "output_type": "stream",
     "text": [
      "C:\\Users\\Umang\\Anaconda3\\lib\\site-packages\\sklearn\\utils\\validation.py:578: DataConversionWarning: A column-vector y was passed when a 1d array was expected. Please change the shape of y to (n_samples, ), for example using ravel().\n",
      "  y = column_or_1d(y, warn=True)\n"
     ]
    },
    {
     "data": {
      "text/plain": [
       "0.005036846445229155"
      ]
     },
     "execution_count": 37,
     "metadata": {},
     "output_type": "execute_result"
    }
   ],
   "source": [
    "silhouette_score(cluster,c)"
   ]
  },
  {
   "cell_type": "code",
   "execution_count": null,
   "metadata": {
    "collapsed": true
   },
   "outputs": [],
   "source": []
  },
  {
   "cell_type": "code",
   "execution_count": 17,
   "metadata": {},
   "outputs": [
    {
     "data": {
      "text/plain": [
       "(400,)"
      ]
     },
     "execution_count": 17,
     "metadata": {},
     "output_type": "execute_result"
    }
   ],
   "source": [
    "labels.shape"
   ]
  },
  {
   "cell_type": "code",
   "execution_count": 22,
   "metadata": {},
   "outputs": [],
   "source": [
    "data_with_labels = data.copy()"
   ]
  },
  {
   "cell_type": "code",
   "execution_count": 23,
   "metadata": {},
   "outputs": [],
   "source": [
    "data_with_labels.insert(loc=25,column='Cluster',value=labels)"
   ]
  },
  {
   "cell_type": "code",
   "execution_count": 24,
   "metadata": {},
   "outputs": [
    {
     "data": {
      "text/html": [
       "<div>\n",
       "<style scoped>\n",
       "    .dataframe tbody tr th:only-of-type {\n",
       "        vertical-align: middle;\n",
       "    }\n",
       "\n",
       "    .dataframe tbody tr th {\n",
       "        vertical-align: top;\n",
       "    }\n",
       "\n",
       "    .dataframe thead th {\n",
       "        text-align: right;\n",
       "    }\n",
       "</style>\n",
       "<table border=\"1\" class=\"dataframe\">\n",
       "  <thead>\n",
       "    <tr style=\"text-align: right;\">\n",
       "      <th></th>\n",
       "      <th>V1 - I plan my expenses…</th>\n",
       "      <th>V2 - I always use new brands…</th>\n",
       "      <th>V3 - Weekends at home with family…</th>\n",
       "      <th>V4 - Buy more by impulse while shopping…</th>\n",
       "      <th>V5 - Watch online rather than TV shows</th>\n",
       "      <th>V6 - Prefer reading, music rather than sports wctivities</th>\n",
       "      <th>V7 - Watch movies in first few days of release</th>\n",
       "      <th>V8 - I order for everyone while eating out</th>\n",
       "      <th>V9 - Some physical exercise everyday</th>\n",
       "      <th>V10 - Prefer light, sober colours</th>\n",
       "      <th>...</th>\n",
       "      <th>Q3 - Favourite Soft Drink</th>\n",
       "      <th>Q4 - Newspaper read</th>\n",
       "      <th>Q5 - Shower Gel</th>\n",
       "      <th>Q6 - Hand sanitizers</th>\n",
       "      <th>Q7 - Face washes</th>\n",
       "      <th>Q8 - Hair conditioner</th>\n",
       "      <th>Q9 - Tea_Coffee</th>\n",
       "      <th>Q10 - Gender</th>\n",
       "      <th>Q11 - Occupation</th>\n",
       "      <th>Cluster</th>\n",
       "    </tr>\n",
       "  </thead>\n",
       "  <tbody>\n",
       "    <tr>\n",
       "      <th>0</th>\n",
       "      <td>4</td>\n",
       "      <td>9</td>\n",
       "      <td>4</td>\n",
       "      <td>6</td>\n",
       "      <td>9</td>\n",
       "      <td>8</td>\n",
       "      <td>9</td>\n",
       "      <td>8</td>\n",
       "      <td>8</td>\n",
       "      <td>8</td>\n",
       "      <td>...</td>\n",
       "      <td>Cola</td>\n",
       "      <td>Economic Times</td>\n",
       "      <td>3</td>\n",
       "      <td>4</td>\n",
       "      <td>4</td>\n",
       "      <td>3</td>\n",
       "      <td>1</td>\n",
       "      <td>1</td>\n",
       "      <td>1</td>\n",
       "      <td>2</td>\n",
       "    </tr>\n",
       "    <tr>\n",
       "      <th>1</th>\n",
       "      <td>9</td>\n",
       "      <td>6</td>\n",
       "      <td>9</td>\n",
       "      <td>1</td>\n",
       "      <td>5</td>\n",
       "      <td>9</td>\n",
       "      <td>8</td>\n",
       "      <td>8</td>\n",
       "      <td>9</td>\n",
       "      <td>5</td>\n",
       "      <td>...</td>\n",
       "      <td>Orange</td>\n",
       "      <td>The Hindu</td>\n",
       "      <td>1</td>\n",
       "      <td>2</td>\n",
       "      <td>2</td>\n",
       "      <td>3</td>\n",
       "      <td>1</td>\n",
       "      <td>1</td>\n",
       "      <td>1</td>\n",
       "      <td>1</td>\n",
       "    </tr>\n",
       "    <tr>\n",
       "      <th>2</th>\n",
       "      <td>4</td>\n",
       "      <td>6</td>\n",
       "      <td>5</td>\n",
       "      <td>7</td>\n",
       "      <td>6</td>\n",
       "      <td>5</td>\n",
       "      <td>0</td>\n",
       "      <td>5</td>\n",
       "      <td>3</td>\n",
       "      <td>7</td>\n",
       "      <td>...</td>\n",
       "      <td>Fruit flavour</td>\n",
       "      <td>Times of India</td>\n",
       "      <td>2</td>\n",
       "      <td>3</td>\n",
       "      <td>4</td>\n",
       "      <td>3</td>\n",
       "      <td>2</td>\n",
       "      <td>1</td>\n",
       "      <td>1</td>\n",
       "      <td>0</td>\n",
       "    </tr>\n",
       "    <tr>\n",
       "      <th>3</th>\n",
       "      <td>6</td>\n",
       "      <td>9</td>\n",
       "      <td>5</td>\n",
       "      <td>10</td>\n",
       "      <td>10</td>\n",
       "      <td>5</td>\n",
       "      <td>6</td>\n",
       "      <td>5</td>\n",
       "      <td>4</td>\n",
       "      <td>6</td>\n",
       "      <td>...</td>\n",
       "      <td>I do not consume soft drinks at all</td>\n",
       "      <td>The Hindu</td>\n",
       "      <td>3</td>\n",
       "      <td>3</td>\n",
       "      <td>4</td>\n",
       "      <td>3</td>\n",
       "      <td>1</td>\n",
       "      <td>2</td>\n",
       "      <td>1</td>\n",
       "      <td>2</td>\n",
       "    </tr>\n",
       "    <tr>\n",
       "      <th>4</th>\n",
       "      <td>8</td>\n",
       "      <td>1</td>\n",
       "      <td>9</td>\n",
       "      <td>7</td>\n",
       "      <td>8</td>\n",
       "      <td>9</td>\n",
       "      <td>1</td>\n",
       "      <td>1</td>\n",
       "      <td>7</td>\n",
       "      <td>9</td>\n",
       "      <td>...</td>\n",
       "      <td>Fruit flavour</td>\n",
       "      <td>Economic Times</td>\n",
       "      <td>2</td>\n",
       "      <td>3</td>\n",
       "      <td>2</td>\n",
       "      <td>2</td>\n",
       "      <td>1</td>\n",
       "      <td>1</td>\n",
       "      <td>1</td>\n",
       "      <td>0</td>\n",
       "    </tr>\n",
       "  </tbody>\n",
       "</table>\n",
       "<p>5 rows × 26 columns</p>\n",
       "</div>"
      ],
      "text/plain": [
       "   V1 - I plan my expenses…  V2 - I always use new brands…  \\\n",
       "0                         4                              9   \n",
       "1                         9                              6   \n",
       "2                         4                              6   \n",
       "3                         6                              9   \n",
       "4                         8                              1   \n",
       "\n",
       "   V3 - Weekends at home with family…  \\\n",
       "0                                   4   \n",
       "1                                   9   \n",
       "2                                   5   \n",
       "3                                   5   \n",
       "4                                   9   \n",
       "\n",
       "   V4 - Buy more by impulse while shopping…  \\\n",
       "0                                         6   \n",
       "1                                         1   \n",
       "2                                         7   \n",
       "3                                        10   \n",
       "4                                         7   \n",
       "\n",
       "   V5 - Watch online rather than TV shows  \\\n",
       "0                                       9   \n",
       "1                                       5   \n",
       "2                                       6   \n",
       "3                                      10   \n",
       "4                                       8   \n",
       "\n",
       "   V6 - Prefer reading, music rather than sports wctivities  \\\n",
       "0                                                  8          \n",
       "1                                                  9          \n",
       "2                                                  5          \n",
       "3                                                  5          \n",
       "4                                                  9          \n",
       "\n",
       "   V7 - Watch movies in first few days of release  \\\n",
       "0                                               9   \n",
       "1                                               8   \n",
       "2                                               0   \n",
       "3                                               6   \n",
       "4                                               1   \n",
       "\n",
       "   V8 - I order for everyone while eating out  \\\n",
       "0                                           8   \n",
       "1                                           8   \n",
       "2                                           5   \n",
       "3                                           5   \n",
       "4                                           1   \n",
       "\n",
       "   V9 - Some physical exercise everyday  V10 - Prefer light, sober colours  \\\n",
       "0                                     8                                  8   \n",
       "1                                     9                                  5   \n",
       "2                                     3                                  7   \n",
       "3                                     4                                  6   \n",
       "4                                     7                                  9   \n",
       "\n",
       "    ...               Q3 - Favourite Soft Drink  Q4 - Newspaper read  \\\n",
       "0   ...                                    Cola       Economic Times   \n",
       "1   ...                                  Orange            The Hindu   \n",
       "2   ...                           Fruit flavour       Times of India   \n",
       "3   ...     I do not consume soft drinks at all            The Hindu   \n",
       "4   ...                           Fruit flavour       Economic Times   \n",
       "\n",
       "   Q5 - Shower Gel  Q6 - Hand sanitizers  Q7 - Face washes  \\\n",
       "0                3                     4                 4   \n",
       "1                1                     2                 2   \n",
       "2                2                     3                 4   \n",
       "3                3                     3                 4   \n",
       "4                2                     3                 2   \n",
       "\n",
       "  Q8 - Hair conditioner Q9 - Tea_Coffee Q10 - Gender  Q11 - Occupation  \\\n",
       "0                     3               1            1                 1   \n",
       "1                     3               1            1                 1   \n",
       "2                     3               2            1                 1   \n",
       "3                     3               1            2                 1   \n",
       "4                     2               1            1                 1   \n",
       "\n",
       "   Cluster  \n",
       "0        2  \n",
       "1        1  \n",
       "2        0  \n",
       "3        2  \n",
       "4        0  \n",
       "\n",
       "[5 rows x 26 columns]"
      ]
     },
     "execution_count": 24,
     "metadata": {},
     "output_type": "execute_result"
    }
   ],
   "source": [
    "data_with_labels.head()"
   ]
  },
  {
   "cell_type": "code",
   "execution_count": 25,
   "metadata": {},
   "outputs": [],
   "source": [
    "segment_1 = data_with_labels.loc[data_with_labels['Cluster']==0]\n",
    "segment_2 = data_with_labels.loc[data_with_labels['Cluster']==1]\n",
    "segment_3 = data_with_labels.loc[data_with_labels['Cluster']==2]"
   ]
  },
  {
   "cell_type": "code",
   "execution_count": 26,
   "metadata": {},
   "outputs": [
    {
     "data": {
      "text/plain": [
       "(array([0, 1, 2]), array([144, 116, 140], dtype=int64))"
      ]
     },
     "execution_count": 26,
     "metadata": {},
     "output_type": "execute_result"
    }
   ],
   "source": [
    "np.unique(labels, return_counts=True)"
   ]
  },
  {
   "cell_type": "code",
   "execution_count": 27,
   "metadata": {
    "scrolled": false
   },
   "outputs": [
    {
     "data": {
      "text/plain": [
       "((144, 26), (116, 26), (140, 26))"
      ]
     },
     "execution_count": 27,
     "metadata": {},
     "output_type": "execute_result"
    }
   ],
   "source": [
    "segment_1.shape,segment_2.shape, segment_3.shape"
   ]
  },
  {
   "cell_type": "markdown",
   "metadata": {},
   "source": [
    "size of clusters,\n",
    "cluster 1 = 144,\n",
    "cluster 2 = 116,\n",
    "cluster 3 = 140"
   ]
  },
  {
   "cell_type": "code",
   "execution_count": 28,
   "metadata": {},
   "outputs": [
    {
     "data": {
      "text/plain": [
       "Index(['V1 - I plan my expenses…', 'V2 - I always use new brands…',\n",
       "       'V3 - Weekends at home with family…',\n",
       "       'V4 - Buy more by impulse while shopping…',\n",
       "       'V5 - Watch online rather than TV shows',\n",
       "       'V6 - Prefer reading, music rather than sports wctivities',\n",
       "       'V7 - Watch movies in first few days of release',\n",
       "       'V8 - I order for everyone while eating out',\n",
       "       'V9 - Some physical exercise everyday',\n",
       "       'V10 - Prefer light, sober colours',\n",
       "       'V11 - I discuss my problem, rather than keeping them to myself',\n",
       "       'V12 - I like performing on a stage in front of a huge crowd',\n",
       "       'V13 - At parties, I like mingling with new people rather than sticking to my close circle',\n",
       "       'V14 - Math Science were my favourite subjects in school',\n",
       "       'V15 - When I see a new, interesting ad I most often end up buying the brand',\n",
       "       'Q2 - Mobile Phn Brand', 'Q3 - Favourite Soft Drink',\n",
       "       'Q4 - Newspaper read', 'Q5 - Shower Gel', 'Q6 - Hand sanitizers',\n",
       "       'Q7 - Face washes', 'Q8 - Hair conditioner', 'Q9 - Tea_Coffee',\n",
       "       'Q10 - Gender', 'Q11 - Occupation', 'Cluster'],\n",
       "      dtype='object')"
      ]
     },
     "execution_count": 28,
     "metadata": {},
     "output_type": "execute_result"
    }
   ],
   "source": [
    "data_with_labels.columns"
   ]
  },
  {
   "cell_type": "code",
   "execution_count": 29,
   "metadata": {
    "scrolled": false
   },
   "outputs": [
    {
     "data": {
      "text/plain": [
       "Others      209\n",
       "Samsung      68\n",
       "Apple        62\n",
       "Micromax     17\n",
       "HTC          17\n",
       "Sony         12\n",
       "LG            8\n",
       "Nokia         7\n",
       "Name: Q2 - Mobile Phn Brand, dtype: int64"
      ]
     },
     "execution_count": 29,
     "metadata": {},
     "output_type": "execute_result"
    }
   ],
   "source": [
    "data_with_labels['Q2 - Mobile Phn Brand'].value_counts()\n"
   ]
  },
  {
   "cell_type": "code",
   "execution_count": 30,
   "metadata": {
    "scrolled": true
   },
   "outputs": [],
   "source": [
    "mean_seg_1 = []\n",
    "for i in cluster.columns:\n",
    "    a=segment_1[i].mean()\n",
    "    mean_seg_1.append(a)\n",
    "  "
   ]
  },
  {
   "cell_type": "code",
   "execution_count": 31,
   "metadata": {},
   "outputs": [],
   "source": [
    "mean_seg_2 = []\n",
    "for i in cluster.columns:\n",
    "    a=segment_2[i].mean()\n",
    "    mean_seg_2.append(a)\n"
   ]
  },
  {
   "cell_type": "code",
   "execution_count": 32,
   "metadata": {},
   "outputs": [],
   "source": [
    "mean_seg_3 = []\n",
    "for i in cluster.columns:\n",
    "    a=segment_3[i].mean()\n",
    "    mean_seg_3.append(a)"
   ]
  },
  {
   "cell_type": "code",
   "execution_count": 33,
   "metadata": {},
   "outputs": [],
   "source": [
    "attribute_score = pd.DataFrame()"
   ]
  },
  {
   "cell_type": "code",
   "execution_count": 34,
   "metadata": {},
   "outputs": [],
   "source": [
    "attribute_score['segment_1'] = mean_seg_1\n",
    "attribute_score['segment_2'] = mean_seg_2\n",
    "attribute_score['segment_3'] = mean_seg_3"
   ]
  },
  {
   "cell_type": "code",
   "execution_count": 35,
   "metadata": {
    "scrolled": true
   },
   "outputs": [
    {
     "data": {
      "text/html": [
       "<div>\n",
       "<style scoped>\n",
       "    .dataframe tbody tr th:only-of-type {\n",
       "        vertical-align: middle;\n",
       "    }\n",
       "\n",
       "    .dataframe tbody tr th {\n",
       "        vertical-align: top;\n",
       "    }\n",
       "\n",
       "    .dataframe thead th {\n",
       "        text-align: right;\n",
       "    }\n",
       "</style>\n",
       "<table border=\"1\" class=\"dataframe\">\n",
       "  <thead>\n",
       "    <tr style=\"text-align: right;\">\n",
       "      <th></th>\n",
       "      <th>segment_1</th>\n",
       "      <th>segment_2</th>\n",
       "      <th>segment_3</th>\n",
       "    </tr>\n",
       "  </thead>\n",
       "  <tbody>\n",
       "    <tr>\n",
       "      <th>0</th>\n",
       "      <td>4.902778</td>\n",
       "      <td>6.534483</td>\n",
       "      <td>6.457143</td>\n",
       "    </tr>\n",
       "    <tr>\n",
       "      <th>1</th>\n",
       "      <td>4.798611</td>\n",
       "      <td>4.362069</td>\n",
       "      <td>6.342857</td>\n",
       "    </tr>\n",
       "    <tr>\n",
       "      <th>2</th>\n",
       "      <td>6.368056</td>\n",
       "      <td>6.586207</td>\n",
       "      <td>6.100000</td>\n",
       "    </tr>\n",
       "    <tr>\n",
       "      <th>3</th>\n",
       "      <td>6.541667</td>\n",
       "      <td>3.586207</td>\n",
       "      <td>6.671429</td>\n",
       "    </tr>\n",
       "    <tr>\n",
       "      <th>4</th>\n",
       "      <td>7.541667</td>\n",
       "      <td>6.448276</td>\n",
       "      <td>7.635714</td>\n",
       "    </tr>\n",
       "    <tr>\n",
       "      <th>5</th>\n",
       "      <td>6.916667</td>\n",
       "      <td>2.767241</td>\n",
       "      <td>4.907143</td>\n",
       "    </tr>\n",
       "    <tr>\n",
       "      <th>6</th>\n",
       "      <td>4.201389</td>\n",
       "      <td>2.681034</td>\n",
       "      <td>6.042857</td>\n",
       "    </tr>\n",
       "    <tr>\n",
       "      <th>7</th>\n",
       "      <td>4.840278</td>\n",
       "      <td>5.275862</td>\n",
       "      <td>6.942857</td>\n",
       "    </tr>\n",
       "    <tr>\n",
       "      <th>8</th>\n",
       "      <td>2.694444</td>\n",
       "      <td>6.956897</td>\n",
       "      <td>6.514286</td>\n",
       "    </tr>\n",
       "    <tr>\n",
       "      <th>9</th>\n",
       "      <td>6.638889</td>\n",
       "      <td>6.482759</td>\n",
       "      <td>6.835714</td>\n",
       "    </tr>\n",
       "    <tr>\n",
       "      <th>10</th>\n",
       "      <td>3.923611</td>\n",
       "      <td>2.784483</td>\n",
       "      <td>4.835714</td>\n",
       "    </tr>\n",
       "    <tr>\n",
       "      <th>11</th>\n",
       "      <td>2.916667</td>\n",
       "      <td>3.077586</td>\n",
       "      <td>6.828571</td>\n",
       "    </tr>\n",
       "    <tr>\n",
       "      <th>12</th>\n",
       "      <td>3.750000</td>\n",
       "      <td>4.318966</td>\n",
       "      <td>6.507143</td>\n",
       "    </tr>\n",
       "    <tr>\n",
       "      <th>13</th>\n",
       "      <td>6.111111</td>\n",
       "      <td>6.853448</td>\n",
       "      <td>6.628571</td>\n",
       "    </tr>\n",
       "    <tr>\n",
       "      <th>14</th>\n",
       "      <td>4.736111</td>\n",
       "      <td>2.775862</td>\n",
       "      <td>6.200000</td>\n",
       "    </tr>\n",
       "  </tbody>\n",
       "</table>\n",
       "</div>"
      ],
      "text/plain": [
       "    segment_1  segment_2  segment_3\n",
       "0    4.902778   6.534483   6.457143\n",
       "1    4.798611   4.362069   6.342857\n",
       "2    6.368056   6.586207   6.100000\n",
       "3    6.541667   3.586207   6.671429\n",
       "4    7.541667   6.448276   7.635714\n",
       "5    6.916667   2.767241   4.907143\n",
       "6    4.201389   2.681034   6.042857\n",
       "7    4.840278   5.275862   6.942857\n",
       "8    2.694444   6.956897   6.514286\n",
       "9    6.638889   6.482759   6.835714\n",
       "10   3.923611   2.784483   4.835714\n",
       "11   2.916667   3.077586   6.828571\n",
       "12   3.750000   4.318966   6.507143\n",
       "13   6.111111   6.853448   6.628571\n",
       "14   4.736111   2.775862   6.200000"
      ]
     },
     "execution_count": 35,
     "metadata": {},
     "output_type": "execute_result"
    }
   ],
   "source": [
    "attribute_score"
   ]
  },
  {
   "cell_type": "markdown",
   "metadata": {},
   "source": [
    "attribute score give us the mean value of 15 attributes for each cluster"
   ]
  },
  {
   "cell_type": "code",
   "execution_count": 43,
   "metadata": {},
   "outputs": [
    {
     "data": {
      "text/plain": [
       "0    144\n",
       "2    140\n",
       "1    116\n",
       "dtype: int64"
      ]
     },
     "execution_count": 43,
     "metadata": {},
     "output_type": "execute_result"
    }
   ],
   "source": [
    "labels1.value_counts()"
   ]
  },
  {
   "cell_type": "code",
   "execution_count": 41,
   "metadata": {},
   "outputs": [],
   "source": [
    "labels1=pd.Series(labels)"
   ]
  },
  {
   "cell_type": "code",
   "execution_count": 108,
   "metadata": {},
   "outputs": [
    {
     "data": {
      "text/plain": [
       "Cluster  Q2 - Mobile Phn Brand\n",
       "0        Apple                    21\n",
       "         HTC                       8\n",
       "         LG                        1\n",
       "         Micromax                  3\n",
       "         Nokia                     3\n",
       "         Others                   77\n",
       "         Samsung                  28\n",
       "         Sony                      3\n",
       "1        Apple                    14\n",
       "         HTC                       5\n",
       "         LG                        3\n",
       "         Micromax                  7\n",
       "         Nokia                     2\n",
       "         Others                   66\n",
       "         Samsung                  14\n",
       "         Sony                      5\n",
       "2        Apple                    27\n",
       "         HTC                       4\n",
       "         LG                        4\n",
       "         Micromax                  7\n",
       "         Nokia                     2\n",
       "         Others                   66\n",
       "         Samsung                  26\n",
       "         Sony                      4\n",
       "Name: Q2 - Mobile Phn Brand, dtype: int64"
      ]
     },
     "execution_count": 108,
     "metadata": {},
     "output_type": "execute_result"
    }
   ],
   "source": [
    "data_with_labels.groupby(['Cluster','Q2 - Mobile Phn Brand'])['Q2 - Mobile Phn Brand'].count()"
   ]
  },
  {
   "cell_type": "code",
   "execution_count": 63,
   "metadata": {},
   "outputs": [
    {
     "data": {
      "text/html": [
       "<div>\n",
       "<style scoped>\n",
       "    .dataframe tbody tr th:only-of-type {\n",
       "        vertical-align: middle;\n",
       "    }\n",
       "\n",
       "    .dataframe tbody tr th {\n",
       "        vertical-align: top;\n",
       "    }\n",
       "\n",
       "    .dataframe thead th {\n",
       "        text-align: right;\n",
       "    }\n",
       "</style>\n",
       "<table border=\"1\" class=\"dataframe\">\n",
       "  <thead>\n",
       "    <tr style=\"text-align: right;\">\n",
       "      <th>Cluster</th>\n",
       "      <th>0</th>\n",
       "      <th>1</th>\n",
       "      <th>2</th>\n",
       "    </tr>\n",
       "  </thead>\n",
       "  <tbody>\n",
       "    <tr>\n",
       "      <th>Q3 - Favourite Soft Drink</th>\n",
       "      <td>144</td>\n",
       "      <td>116</td>\n",
       "      <td>140</td>\n",
       "    </tr>\n",
       "  </tbody>\n",
       "</table>\n",
       "</div>"
      ],
      "text/plain": [
       "Cluster                      0    1    2\n",
       "Q3 - Favourite Soft Drink  144  116  140"
      ]
     },
     "execution_count": 63,
     "metadata": {},
     "output_type": "execute_result"
    }
   ],
   "source": [
    "pd.pivot_table(data_with_labels,values='Q3 - Favourite Soft Drink',columns='Cluster',aggfunc=np.count_nonzero)"
   ]
  },
  {
   "cell_type": "code",
   "execution_count": 86,
   "metadata": {},
   "outputs": [
    {
     "data": {
      "text/plain": [
       "400"
      ]
     },
     "execution_count": 86,
     "metadata": {},
     "output_type": "execute_result"
    }
   ],
   "source": [
    "data_with_labels['Cluster'].count()"
   ]
  },
  {
   "cell_type": "code",
   "execution_count": 107,
   "metadata": {},
   "outputs": [
    {
     "data": {
      "text/plain": [
       "Cluster  Q3 - Favourite Soft Drink          \n",
       "0        Cola                                   71\n",
       "         Fruit flavour                          19\n",
       "         I do not consume soft drinks at all    26\n",
       "         Orange                                 10\n",
       "         White/ Colourless                      18\n",
       "1        Cola                                   33\n",
       "         Fruit flavour                          14\n",
       "         I do not consume soft drinks at all    39\n",
       "         Orange                                 11\n",
       "         White/ Colourless                      19\n",
       "2        Cola                                   69\n",
       "         Fruit flavour                          16\n",
       "         I do not consume soft drinks at all    20\n",
       "         Orange                                 14\n",
       "         White/ Colourless                      21\n",
       "Name: Q3 - Favourite Soft Drink, dtype: int64"
      ]
     },
     "execution_count": 107,
     "metadata": {},
     "output_type": "execute_result"
    }
   ],
   "source": [
    "data_with_labels.groupby(['Cluster','Q3 - Favourite Soft Drink'])['Q3 - Favourite Soft Drink'].count()"
   ]
  },
  {
   "cell_type": "code",
   "execution_count": 106,
   "metadata": {},
   "outputs": [
    {
     "data": {
      "text/plain": [
       "Cluster  Q4 - Newspaper read                                                 \n",
       "0        Business Standards                                                       3\n",
       "         Economic Times                                                          28\n",
       "         Mint                                                                     6\n",
       "         Regional Newspapers like Sanmarg, Jansatta, Anandabazar Patrika etc.     1\n",
       "         The Hindu                                                               21\n",
       "         The Hindustan Times                                                      7\n",
       "         The Telegraph                                                           12\n",
       "         Times of India                                                          66\n",
       "1        Business Standards                                                       3\n",
       "         Economic Times                                                          32\n",
       "         Mint                                                                     4\n",
       "         Regional Newspapers like Sanmarg, Jansatta, Anandabazar Patrika etc.     2\n",
       "         The Hindu                                                               33\n",
       "         The Hindustan Times                                                      2\n",
       "         The Telegraph                                                            4\n",
       "         Times of India                                                          36\n",
       "2        Business Standards                                                       2\n",
       "         Economic Times                                                          35\n",
       "         Mint                                                                     7\n",
       "         Regional Newspapers like Sanmarg, Jansatta, Anandabazar Patrika etc.     2\n",
       "         The Hindu                                                               28\n",
       "         The Hindustan Times                                                      6\n",
       "         The Telegraph                                                           16\n",
       "         Times of India                                                          44\n",
       "Name: Q4 - Newspaper read, dtype: int64"
      ]
     },
     "execution_count": 106,
     "metadata": {},
     "output_type": "execute_result"
    }
   ],
   "source": [
    "data_with_labels.groupby(['Cluster','Q4 - Newspaper read'])['Q4 - Newspaper read'].count()"
   ]
  },
  {
   "cell_type": "code",
   "execution_count": 112,
   "metadata": {},
   "outputs": [
    {
     "data": {
      "text/plain": [
       "Cluster  Q5 - Shower Gel\n",
       "0        1                  20\n",
       "         2                  32\n",
       "         3                  24\n",
       "         4                  68\n",
       "1        1                  28\n",
       "         2                  38\n",
       "         3                  14\n",
       "         4                  36\n",
       "2        1                  11\n",
       "         2                  39\n",
       "         3                  31\n",
       "         4                  59\n",
       "Name: Q5 - Shower Gel, dtype: int64"
      ]
     },
     "execution_count": 112,
     "metadata": {},
     "output_type": "execute_result"
    }
   ],
   "source": [
    "data_with_labels.groupby(['Cluster','Q5 - Shower Gel'])['Q5 - Shower Gel'].count()"
   ]
  },
  {
   "cell_type": "code",
   "execution_count": 103,
   "metadata": {},
   "outputs": [
    {
     "data": {
      "text/plain": [
       "Cluster  Q6 - Hand sanitizers\n",
       "0        1                       12\n",
       "         2                       57\n",
       "         3                       28\n",
       "         4                       47\n",
       "1        1                       14\n",
       "         2                       54\n",
       "         3                       11\n",
       "         4                       37\n",
       "2        1                        2\n",
       "         2                       36\n",
       "         3                       24\n",
       "         4                       78\n",
       "Name: Q6 - Hand sanitizers, dtype: int64"
      ]
     },
     "execution_count": 103,
     "metadata": {},
     "output_type": "execute_result"
    }
   ],
   "source": [
    "data_with_labels.groupby(['Cluster','Q6 - Hand sanitizers'])['Q6 - Hand sanitizers'].count()"
   ]
  },
  {
   "cell_type": "code",
   "execution_count": 104,
   "metadata": {},
   "outputs": [
    {
     "data": {
      "text/plain": [
       "Cluster  Q7 - Face washes\n",
       "0        1                     5\n",
       "         2                    14\n",
       "         3                    12\n",
       "         4                   113\n",
       "1        1                     7\n",
       "         2                    19\n",
       "         3                    17\n",
       "         4                    73\n",
       "2        1                     3\n",
       "         2                    11\n",
       "         3                    10\n",
       "         4                   116\n",
       "Name: Q7 - Face washes, dtype: int64"
      ]
     },
     "execution_count": 104,
     "metadata": {},
     "output_type": "execute_result"
    }
   ],
   "source": [
    "data_with_labels.groupby(['Cluster','Q7 - Face washes'])['Q7 - Face washes'].count()"
   ]
  },
  {
   "cell_type": "code",
   "execution_count": 105,
   "metadata": {},
   "outputs": [
    {
     "data": {
      "text/plain": [
       "Cluster  Q8 - Hair conditioner\n",
       "0        1                        11\n",
       "         2                        35\n",
       "         3                        83\n",
       "         4                        15\n",
       "1        1                        15\n",
       "         2                        33\n",
       "         3                        54\n",
       "         4                        14\n",
       "2        1                        11\n",
       "         2                        30\n",
       "         3                        84\n",
       "         4                        15\n",
       "Name: Q8 - Hair conditioner, dtype: int64"
      ]
     },
     "execution_count": 105,
     "metadata": {},
     "output_type": "execute_result"
    }
   ],
   "source": [
    "data_with_labels.groupby(['Cluster','Q8 - Hair conditioner'])['Q8 - Hair conditioner'].count()"
   ]
  },
  {
   "cell_type": "code",
   "execution_count": 97,
   "metadata": {},
   "outputs": [
    {
     "data": {
      "text/plain": [
       "Cluster  Q9 - Tea_Coffee\n",
       "0        1                  73\n",
       "         2                  71\n",
       "1        1                  72\n",
       "         2                  44\n",
       "2        1                  69\n",
       "         2                  71\n",
       "Name: Q9 - Tea_Coffee, dtype: int64"
      ]
     },
     "execution_count": 97,
     "metadata": {},
     "output_type": "execute_result"
    }
   ],
   "source": [
    "data_with_labels.groupby(['Cluster','Q9 - Tea_Coffee'])['Q9 - Tea_Coffee'].count()"
   ]
  },
  {
   "cell_type": "code",
   "execution_count": 98,
   "metadata": {},
   "outputs": [
    {
     "data": {
      "text/plain": [
       "Cluster  Q10 - Gender\n",
       "0        1               75\n",
       "         2               69\n",
       "1        1               86\n",
       "         2               30\n",
       "2        1               91\n",
       "         2               49\n",
       "Name: Q10 - Gender, dtype: int64"
      ]
     },
     "execution_count": 98,
     "metadata": {},
     "output_type": "execute_result"
    }
   ],
   "source": [
    "data_with_labels.groupby(['Cluster','Q10 - Gender'])['Q10 - Gender'].count()"
   ]
  },
  {
   "cell_type": "code",
   "execution_count": 99,
   "metadata": {},
   "outputs": [
    {
     "data": {
      "text/plain": [
       "Cluster  Q11 - Occupation\n",
       "0        1                   127\n",
       "         2                    16\n",
       "         3                     1\n",
       "1        1                   100\n",
       "         2                    13\n",
       "         3                     3\n",
       "2        1                   119\n",
       "         2                    18\n",
       "         3                     3\n",
       "Name: Q11 - Occupation, dtype: int64"
      ]
     },
     "execution_count": 99,
     "metadata": {},
     "output_type": "execute_result"
    }
   ],
   "source": [
    "data_with_labels.groupby(['Cluster','Q11 - Occupation'])['Q11 - Occupation'].count()"
   ]
  },
  {
   "cell_type": "code",
   "execution_count": null,
   "metadata": {},
   "outputs": [],
   "source": []
  }
 ],
 "metadata": {
  "kernelspec": {
   "display_name": "Python 3",
   "language": "python",
   "name": "python3"
  },
  "language_info": {
   "codemirror_mode": {
    "name": "ipython",
    "version": 3
   },
   "file_extension": ".py",
   "mimetype": "text/x-python",
   "name": "python",
   "nbconvert_exporter": "python",
   "pygments_lexer": "ipython3",
   "version": "3.6.4"
  }
 },
 "nbformat": 4,
 "nbformat_minor": 2
}
