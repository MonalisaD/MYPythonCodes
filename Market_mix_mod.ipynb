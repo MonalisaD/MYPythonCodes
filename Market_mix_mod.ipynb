{
 "cells": [
  {
   "cell_type": "code",
   "execution_count": 1,
   "metadata": {},
   "outputs": [],
   "source": [
    "import numpy as np"
   ]
  },
  {
   "cell_type": "code",
   "execution_count": 2,
   "metadata": {},
   "outputs": [],
   "source": [
    "%matplotlib inline \n",
    "import matplotlib.pyplot as plt\n",
    "import pandas as pd"
   ]
  },
  {
   "cell_type": "code",
   "execution_count": 3,
   "metadata": {},
   "outputs": [
    {
     "data": {
      "text/plain": [
       "'C:\\\\Users\\\\User'"
      ]
     },
     "execution_count": 3,
     "metadata": {},
     "output_type": "execute_result"
    }
   ],
   "source": [
    "pwd"
   ]
  },
  {
   "cell_type": "code",
   "execution_count": 3,
   "metadata": {},
   "outputs": [],
   "source": [
    "dataset = pd.read_excel('./MMM/rawdata_mmm.xls')"
   ]
  },
  {
   "cell_type": "markdown",
   "metadata": {},
   "source": [
    "# 1. Price, Feature and Display as Independent Variables"
   ]
  },
  {
   "cell_type": "code",
   "execution_count": 4,
   "metadata": {},
   "outputs": [],
   "source": [
    "x = dataset.iloc[:,1:4].values \n",
    "y = dataset.iloc[:,0].values"
   ]
  },
  {
   "cell_type": "code",
   "execution_count": 5,
   "metadata": {},
   "outputs": [
    {
     "name": "stderr",
     "output_type": "stream",
     "text": [
      "C:\\Users\\User\\Anaconda3\\lib\\site-packages\\sklearn\\cross_validation.py:41: DeprecationWarning: This module was deprecated in version 0.18 in favor of the model_selection module into which all the refactored classes and functions are moved. Also note that the interface of the new CV iterators are different from that of this module. This module will be removed in 0.20.\n",
      "  \"This module will be removed in 0.20.\", DeprecationWarning)\n"
     ]
    }
   ],
   "source": [
    "from sklearn.cross_validation import train_test_split\n",
    "x_train, x_test, y_train, y_test  = train_test_split(x, y, test_size = 0.2, random_state = 0)"
   ]
  },
  {
   "cell_type": "code",
   "execution_count": 6,
   "metadata": {},
   "outputs": [],
   "source": [
    "from sklearn.linear_model import LinearRegression\n",
    "regressor = LinearRegression()\n",
    "result = regressor.fit(x_train, y_train)"
   ]
  },
  {
   "cell_type": "code",
   "execution_count": 7,
   "metadata": {},
   "outputs": [],
   "source": [
    "y_pred = regressor.predict(x_test)"
   ]
  },
  {
   "cell_type": "code",
   "execution_count": 8,
   "metadata": {},
   "outputs": [
    {
     "name": "stderr",
     "output_type": "stream",
     "text": [
      "C:\\Users\\User\\Anaconda3\\lib\\site-packages\\statsmodels\\compat\\pandas.py:56: FutureWarning: The pandas.core.datetools module is deprecated and will be removed in a future version. Please use the pandas.tseries module instead.\n",
      "  from pandas.core import datetools\n"
     ]
    },
    {
     "name": "stdout",
     "output_type": "stream",
     "text": [
      "                            OLS Regression Results                            \n",
      "==============================================================================\n",
      "Dep. Variable:                      y   R-squared:                       0.357\n",
      "Model:                            OLS   Adj. R-squared:                  0.356\n",
      "Method:                 Least Squares   F-statistic:                     645.4\n",
      "Date:                Wed, 11 Jul 2018   Prob (F-statistic):               0.00\n",
      "Time:                        11:52:20   Log-Likelihood:                -19846.\n",
      "No. Observations:                3494   AIC:                         3.970e+04\n",
      "Df Residuals:                    3490   BIC:                         3.972e+04\n",
      "Df Model:                           3                                         \n",
      "Covariance Type:            nonrobust                                         \n",
      "==============================================================================\n",
      "                 coef    std err          t      P>|t|      [0.025      0.975]\n",
      "------------------------------------------------------------------------------\n",
      "const        329.6907     13.408     24.589      0.000     303.402     355.979\n",
      "x1           -46.1526      2.276    -20.277      0.000     -50.615     -41.690\n",
      "x2            38.2018      3.453     11.064      0.000      31.432      44.971\n",
      "x3            87.4025      3.928     22.252      0.000      79.701      95.104\n",
      "==============================================================================\n",
      "Omnibus:                     2567.776   Durbin-Watson:                   1.940\n",
      "Prob(Omnibus):                  0.000   Jarque-Bera (JB):            72844.822\n",
      "Skew:                           3.186   Prob(JB):                         0.00\n",
      "Kurtosis:                      24.442   Cond. No.                         66.7\n",
      "==============================================================================\n",
      "\n",
      "Warnings:\n",
      "[1] Standard Errors assume that the covariance matrix of the errors is correctly specified.\n"
     ]
    },
    {
     "data": {
      "text/plain": [
       "42.64411716084024"
      ]
     },
     "execution_count": 8,
     "metadata": {},
     "output_type": "execute_result"
    }
   ],
   "source": [
    "import statsmodels.api as sm\n",
    "X1 = sm.add_constant(x_train)\n",
    "result = sm.OLS(y_train, X1).fit()\n",
    "print(result.summary())\n",
    "from sklearn.metrics import mean_absolute_error\n",
    "mean_absolute_error(y_test, y_pred)"
   ]
  },
  {
   "cell_type": "markdown",
   "metadata": {},
   "source": [
    "# 2. Price, Feature, Display, Price - Competitor 1, Price - Competitor 2, Price - Competitor 3, Price - Competitor 4  and Price - Competitor 5 as Independent Variable "
   ]
  },
  {
   "cell_type": "code",
   "execution_count": 9,
   "metadata": {},
   "outputs": [],
   "source": [
    "x = dataset.iloc[:,1:9].values \n",
    "y = dataset.iloc[:,0].values"
   ]
  },
  {
   "cell_type": "code",
   "execution_count": 10,
   "metadata": {},
   "outputs": [],
   "source": [
    "from sklearn.cross_validation import train_test_split\n",
    "x_train, x_test, y_train, y_test  = train_test_split(x, y, test_size = 0.2, random_state = 0)"
   ]
  },
  {
   "cell_type": "code",
   "execution_count": 11,
   "metadata": {},
   "outputs": [],
   "source": [
    "from sklearn.linear_model import LinearRegression\n",
    "regressor = LinearRegression()\n",
    "result = regressor.fit(x_train, y_train)"
   ]
  },
  {
   "cell_type": "code",
   "execution_count": 12,
   "metadata": {},
   "outputs": [
    {
     "name": "stdout",
     "output_type": "stream",
     "text": [
      "                            OLS Regression Results                            \n",
      "==============================================================================\n",
      "Dep. Variable:                      y   R-squared:                       0.376\n",
      "Model:                            OLS   Adj. R-squared:                  0.374\n",
      "Method:                 Least Squares   F-statistic:                     262.3\n",
      "Date:                Wed, 11 Jul 2018   Prob (F-statistic):               0.00\n",
      "Time:                        11:54:06   Log-Likelihood:                -19794.\n",
      "No. Observations:                3494   AIC:                         3.961e+04\n",
      "Df Residuals:                    3485   BIC:                         3.966e+04\n",
      "Df Model:                           8                                         \n",
      "Covariance Type:            nonrobust                                         \n",
      "==============================================================================\n",
      "                 coef    std err          t      P>|t|      [0.025      0.975]\n",
      "------------------------------------------------------------------------------\n",
      "const        271.2209     14.752     18.386      0.000     242.298     300.143\n",
      "x1           -57.8553      2.694    -21.480      0.000     -63.136     -52.574\n",
      "x2            29.3231      3.628      8.082      0.000      22.209      36.437\n",
      "x3            78.4208      3.987     19.671      0.000      70.604      86.237\n",
      "x4             8.8570      1.704      5.198      0.000       5.516      12.198\n",
      "x5             6.1847      2.811      2.200      0.028       0.674      11.696\n",
      "x6             3.9882      2.045      1.950      0.051      -0.021       7.997\n",
      "x7            11.6168      1.877      6.190      0.000       7.937      15.296\n",
      "x8            -2.3214      1.995     -1.164      0.245      -6.233       1.590\n",
      "==============================================================================\n",
      "Omnibus:                     2538.708   Durbin-Watson:                   1.965\n",
      "Prob(Omnibus):                  0.000   Jarque-Bera (JB):            70606.509\n",
      "Skew:                           3.138   Prob(JB):                         0.00\n",
      "Kurtosis:                      24.109   Cond. No.                         142.\n",
      "==============================================================================\n",
      "\n",
      "Warnings:\n",
      "[1] Standard Errors assume that the covariance matrix of the errors is correctly specified.\n"
     ]
    },
    {
     "data": {
      "text/plain": [
       "42.60676617095738"
      ]
     },
     "execution_count": 12,
     "metadata": {},
     "output_type": "execute_result"
    }
   ],
   "source": [
    "y_pred = regressor.predict(x_test)\n",
    "import statsmodels.api as sm\n",
    "X1 = sm.add_constant(x_train)\n",
    "result = sm.OLS(y_train, X1).fit()\n",
    "print(result.summary())\n",
    "from sklearn.metrics import mean_absolute_error\n",
    "mean_absolute_error(y_test, y_pred)"
   ]
  },
  {
   "cell_type": "code",
   "execution_count": 13,
   "metadata": {
    "scrolled": false
   },
   "outputs": [
    {
     "data": {
      "text/plain": [
       "Sales                   1.000000\n",
       "Display                 0.462784\n",
       "Feature                 0.359354\n",
       "Price - Competitor 4    0.066925\n",
       "Price - Competitor 1    0.062141\n",
       "Price - Competitor 2    0.008451\n",
       "Price - Competitor 3   -0.027860\n",
       "Price - Competitor 5   -0.068037\n",
       "Price                  -0.461002\n",
       "Name: Sales, dtype: float64"
      ]
     },
     "execution_count": 13,
     "metadata": {},
     "output_type": "execute_result"
    }
   ],
   "source": [
    "corr_matrix = dataset.corr()\n",
    "corr_matrix[\"Sales\"].sort_values(ascending=False)\n",
    "\n"
   ]
  },
  {
   "cell_type": "code",
   "execution_count": 14,
   "metadata": {},
   "outputs": [
    {
     "data": {
      "text/html": [
       "<div>\n",
       "<style scoped>\n",
       "    .dataframe tbody tr th:only-of-type {\n",
       "        vertical-align: middle;\n",
       "    }\n",
       "\n",
       "    .dataframe tbody tr th {\n",
       "        vertical-align: top;\n",
       "    }\n",
       "\n",
       "    .dataframe thead th {\n",
       "        text-align: right;\n",
       "    }\n",
       "</style>\n",
       "<table border=\"1\" class=\"dataframe\">\n",
       "  <thead>\n",
       "    <tr style=\"text-align: right;\">\n",
       "      <th></th>\n",
       "      <th>Sales</th>\n",
       "      <th>Price</th>\n",
       "      <th>Feature</th>\n",
       "      <th>Display</th>\n",
       "      <th>Price - Competitor 1</th>\n",
       "      <th>Price - Competitor 2</th>\n",
       "      <th>Price - Competitor 3</th>\n",
       "      <th>Price - Competitor 4</th>\n",
       "      <th>Price - Competitor 5</th>\n",
       "    </tr>\n",
       "  </thead>\n",
       "  <tbody>\n",
       "    <tr>\n",
       "      <th>Sales</th>\n",
       "      <td>1.000000</td>\n",
       "      <td>-0.461002</td>\n",
       "      <td>0.359354</td>\n",
       "      <td>0.462784</td>\n",
       "      <td>0.062141</td>\n",
       "      <td>0.008451</td>\n",
       "      <td>-0.027860</td>\n",
       "      <td>0.066925</td>\n",
       "      <td>-0.068037</td>\n",
       "    </tr>\n",
       "    <tr>\n",
       "      <th>Price</th>\n",
       "      <td>-0.461002</td>\n",
       "      <td>1.000000</td>\n",
       "      <td>-0.379529</td>\n",
       "      <td>-0.314498</td>\n",
       "      <td>0.135929</td>\n",
       "      <td>0.325367</td>\n",
       "      <td>0.374544</td>\n",
       "      <td>0.257862</td>\n",
       "      <td>0.247887</td>\n",
       "    </tr>\n",
       "    <tr>\n",
       "      <th>Feature</th>\n",
       "      <td>0.359354</td>\n",
       "      <td>-0.379529</td>\n",
       "      <td>1.000000</td>\n",
       "      <td>0.255743</td>\n",
       "      <td>-0.037215</td>\n",
       "      <td>0.128686</td>\n",
       "      <td>0.056840</td>\n",
       "      <td>0.147120</td>\n",
       "      <td>0.059331</td>\n",
       "    </tr>\n",
       "    <tr>\n",
       "      <th>Display</th>\n",
       "      <td>0.462784</td>\n",
       "      <td>-0.314498</td>\n",
       "      <td>0.255743</td>\n",
       "      <td>1.000000</td>\n",
       "      <td>0.089447</td>\n",
       "      <td>0.081746</td>\n",
       "      <td>0.052583</td>\n",
       "      <td>0.077893</td>\n",
       "      <td>-0.001398</td>\n",
       "    </tr>\n",
       "    <tr>\n",
       "      <th>Price - Competitor 1</th>\n",
       "      <td>0.062141</td>\n",
       "      <td>0.135929</td>\n",
       "      <td>-0.037215</td>\n",
       "      <td>0.089447</td>\n",
       "      <td>1.000000</td>\n",
       "      <td>0.072002</td>\n",
       "      <td>0.247267</td>\n",
       "      <td>0.136725</td>\n",
       "      <td>0.090219</td>\n",
       "    </tr>\n",
       "    <tr>\n",
       "      <th>Price - Competitor 2</th>\n",
       "      <td>0.008451</td>\n",
       "      <td>0.325367</td>\n",
       "      <td>0.128686</td>\n",
       "      <td>0.081746</td>\n",
       "      <td>0.072002</td>\n",
       "      <td>1.000000</td>\n",
       "      <td>0.432935</td>\n",
       "      <td>0.413470</td>\n",
       "      <td>0.244650</td>\n",
       "    </tr>\n",
       "    <tr>\n",
       "      <th>Price - Competitor 3</th>\n",
       "      <td>-0.027860</td>\n",
       "      <td>0.374544</td>\n",
       "      <td>0.056840</td>\n",
       "      <td>0.052583</td>\n",
       "      <td>0.247267</td>\n",
       "      <td>0.432935</td>\n",
       "      <td>1.000000</td>\n",
       "      <td>0.312311</td>\n",
       "      <td>0.226927</td>\n",
       "    </tr>\n",
       "    <tr>\n",
       "      <th>Price - Competitor 4</th>\n",
       "      <td>0.066925</td>\n",
       "      <td>0.257862</td>\n",
       "      <td>0.147120</td>\n",
       "      <td>0.077893</td>\n",
       "      <td>0.136725</td>\n",
       "      <td>0.413470</td>\n",
       "      <td>0.312311</td>\n",
       "      <td>1.000000</td>\n",
       "      <td>0.215243</td>\n",
       "    </tr>\n",
       "    <tr>\n",
       "      <th>Price - Competitor 5</th>\n",
       "      <td>-0.068037</td>\n",
       "      <td>0.247887</td>\n",
       "      <td>0.059331</td>\n",
       "      <td>-0.001398</td>\n",
       "      <td>0.090219</td>\n",
       "      <td>0.244650</td>\n",
       "      <td>0.226927</td>\n",
       "      <td>0.215243</td>\n",
       "      <td>1.000000</td>\n",
       "    </tr>\n",
       "  </tbody>\n",
       "</table>\n",
       "</div>"
      ],
      "text/plain": [
       "                         Sales     Price   Feature   Display  \\\n",
       "Sales                 1.000000 -0.461002  0.359354  0.462784   \n",
       "Price                -0.461002  1.000000 -0.379529 -0.314498   \n",
       "Feature               0.359354 -0.379529  1.000000  0.255743   \n",
       "Display               0.462784 -0.314498  0.255743  1.000000   \n",
       "Price - Competitor 1  0.062141  0.135929 -0.037215  0.089447   \n",
       "Price - Competitor 2  0.008451  0.325367  0.128686  0.081746   \n",
       "Price - Competitor 3 -0.027860  0.374544  0.056840  0.052583   \n",
       "Price - Competitor 4  0.066925  0.257862  0.147120  0.077893   \n",
       "Price - Competitor 5 -0.068037  0.247887  0.059331 -0.001398   \n",
       "\n",
       "                      Price - Competitor 1  Price - Competitor 2  \\\n",
       "Sales                             0.062141              0.008451   \n",
       "Price                             0.135929              0.325367   \n",
       "Feature                          -0.037215              0.128686   \n",
       "Display                           0.089447              0.081746   \n",
       "Price - Competitor 1              1.000000              0.072002   \n",
       "Price - Competitor 2              0.072002              1.000000   \n",
       "Price - Competitor 3              0.247267              0.432935   \n",
       "Price - Competitor 4              0.136725              0.413470   \n",
       "Price - Competitor 5              0.090219              0.244650   \n",
       "\n",
       "                      Price - Competitor 3  Price - Competitor 4  \\\n",
       "Sales                            -0.027860              0.066925   \n",
       "Price                             0.374544              0.257862   \n",
       "Feature                           0.056840              0.147120   \n",
       "Display                           0.052583              0.077893   \n",
       "Price - Competitor 1              0.247267              0.136725   \n",
       "Price - Competitor 2              0.432935              0.413470   \n",
       "Price - Competitor 3              1.000000              0.312311   \n",
       "Price - Competitor 4              0.312311              1.000000   \n",
       "Price - Competitor 5              0.226927              0.215243   \n",
       "\n",
       "                      Price - Competitor 5  \n",
       "Sales                            -0.068037  \n",
       "Price                             0.247887  \n",
       "Feature                           0.059331  \n",
       "Display                          -0.001398  \n",
       "Price - Competitor 1              0.090219  \n",
       "Price - Competitor 2              0.244650  \n",
       "Price - Competitor 3              0.226927  \n",
       "Price - Competitor 4              0.215243  \n",
       "Price - Competitor 5              1.000000  "
      ]
     },
     "execution_count": 14,
     "metadata": {},
     "output_type": "execute_result"
    }
   ],
   "source": [
    "dataset.corr()"
   ]
  },
  {
   "cell_type": "markdown",
   "metadata": {},
   "source": [
    "# 2b.  As Price - Competitor 2, Price - Competitor 3 have very less correlation with Sales they are insignificant, After removing these two variables"
   ]
  },
  {
   "cell_type": "code",
   "execution_count": 25,
   "metadata": {},
   "outputs": [
    {
     "ename": "KeyError",
     "evalue": "'Price - Competitor 2'",
     "output_type": "error",
     "traceback": [
      "\u001b[1;31m---------------------------------------------------------------------------\u001b[0m",
      "\u001b[1;31mKeyError\u001b[0m                                  Traceback (most recent call last)",
      "\u001b[1;32m~\\Anaconda3\\lib\\site-packages\\pandas\\core\\indexes\\base.py\u001b[0m in \u001b[0;36mget_loc\u001b[1;34m(self, key, method, tolerance)\u001b[0m\n\u001b[0;32m   2524\u001b[0m             \u001b[1;32mtry\u001b[0m\u001b[1;33m:\u001b[0m\u001b[1;33m\u001b[0m\u001b[0m\n\u001b[1;32m-> 2525\u001b[1;33m                 \u001b[1;32mreturn\u001b[0m \u001b[0mself\u001b[0m\u001b[1;33m.\u001b[0m\u001b[0m_engine\u001b[0m\u001b[1;33m.\u001b[0m\u001b[0mget_loc\u001b[0m\u001b[1;33m(\u001b[0m\u001b[0mkey\u001b[0m\u001b[1;33m)\u001b[0m\u001b[1;33m\u001b[0m\u001b[0m\n\u001b[0m\u001b[0;32m   2526\u001b[0m             \u001b[1;32mexcept\u001b[0m \u001b[0mKeyError\u001b[0m\u001b[1;33m:\u001b[0m\u001b[1;33m\u001b[0m\u001b[0m\n",
      "\u001b[1;32mpandas/_libs/index.pyx\u001b[0m in \u001b[0;36mpandas._libs.index.IndexEngine.get_loc\u001b[1;34m()\u001b[0m\n",
      "\u001b[1;32mpandas/_libs/index.pyx\u001b[0m in \u001b[0;36mpandas._libs.index.IndexEngine.get_loc\u001b[1;34m()\u001b[0m\n",
      "\u001b[1;32mpandas/_libs/hashtable_class_helper.pxi\u001b[0m in \u001b[0;36mpandas._libs.hashtable.PyObjectHashTable.get_item\u001b[1;34m()\u001b[0m\n",
      "\u001b[1;32mpandas/_libs/hashtable_class_helper.pxi\u001b[0m in \u001b[0;36mpandas._libs.hashtable.PyObjectHashTable.get_item\u001b[1;34m()\u001b[0m\n",
      "\u001b[1;31mKeyError\u001b[0m: 'Price - Competitor 2'",
      "\nDuring handling of the above exception, another exception occurred:\n",
      "\u001b[1;31mKeyError\u001b[0m                                  Traceback (most recent call last)",
      "\u001b[1;32m<ipython-input-25-7dfc8acae91f>\u001b[0m in \u001b[0;36m<module>\u001b[1;34m()\u001b[0m\n\u001b[0;32m      1\u001b[0m \u001b[0mdf\u001b[0m \u001b[1;33m=\u001b[0m \u001b[0mpd\u001b[0m\u001b[1;33m.\u001b[0m\u001b[0mDataFrame\u001b[0m\u001b[1;33m(\u001b[0m\u001b[0mdataset\u001b[0m\u001b[1;33m)\u001b[0m\u001b[1;33m\u001b[0m\u001b[0m\n\u001b[1;32m----> 2\u001b[1;33m \u001b[1;32mdel\u001b[0m \u001b[0mdf\u001b[0m\u001b[1;33m[\u001b[0m\u001b[1;34m'Price - Competitor 2'\u001b[0m\u001b[1;33m]\u001b[0m\u001b[1;33m\u001b[0m\u001b[0m\n\u001b[0m\u001b[0;32m      3\u001b[0m \u001b[1;32mdel\u001b[0m \u001b[0mdf\u001b[0m\u001b[1;33m[\u001b[0m\u001b[1;34m'Price - Competitor 3'\u001b[0m\u001b[1;33m]\u001b[0m\u001b[1;33m\u001b[0m\u001b[0m\n\u001b[0;32m      4\u001b[0m \u001b[0mprint\u001b[0m\u001b[1;33m(\u001b[0m\u001b[0mdf\u001b[0m\u001b[1;33m)\u001b[0m\u001b[1;33m\u001b[0m\u001b[0m\n",
      "\u001b[1;32m~\\Anaconda3\\lib\\site-packages\\pandas\\core\\generic.py\u001b[0m in \u001b[0;36m__delitem__\u001b[1;34m(self, key)\u001b[0m\n\u001b[0;32m   2094\u001b[0m             \u001b[1;31m# there was no match, this call should raise the appropriate\u001b[0m\u001b[1;33m\u001b[0m\u001b[1;33m\u001b[0m\u001b[0m\n\u001b[0;32m   2095\u001b[0m             \u001b[1;31m# exception:\u001b[0m\u001b[1;33m\u001b[0m\u001b[1;33m\u001b[0m\u001b[0m\n\u001b[1;32m-> 2096\u001b[1;33m             \u001b[0mself\u001b[0m\u001b[1;33m.\u001b[0m\u001b[0m_data\u001b[0m\u001b[1;33m.\u001b[0m\u001b[0mdelete\u001b[0m\u001b[1;33m(\u001b[0m\u001b[0mkey\u001b[0m\u001b[1;33m)\u001b[0m\u001b[1;33m\u001b[0m\u001b[0m\n\u001b[0m\u001b[0;32m   2097\u001b[0m \u001b[1;33m\u001b[0m\u001b[0m\n\u001b[0;32m   2098\u001b[0m         \u001b[1;31m# delete from the caches\u001b[0m\u001b[1;33m\u001b[0m\u001b[1;33m\u001b[0m\u001b[0m\n",
      "\u001b[1;32m~\\Anaconda3\\lib\\site-packages\\pandas\\core\\internals.py\u001b[0m in \u001b[0;36mdelete\u001b[1;34m(self, item)\u001b[0m\n\u001b[0;32m   3900\u001b[0m         \u001b[0mDelete\u001b[0m \u001b[0mselected\u001b[0m \u001b[0mitem\u001b[0m \u001b[1;33m(\u001b[0m\u001b[0mitems\u001b[0m \u001b[1;32mif\u001b[0m \u001b[0mnon\u001b[0m\u001b[1;33m-\u001b[0m\u001b[0munique\u001b[0m\u001b[1;33m)\u001b[0m \u001b[1;32min\u001b[0m\u001b[1;33m-\u001b[0m\u001b[0mplace\u001b[0m\u001b[1;33m.\u001b[0m\u001b[1;33m\u001b[0m\u001b[0m\n\u001b[0;32m   3901\u001b[0m         \"\"\"\n\u001b[1;32m-> 3902\u001b[1;33m         \u001b[0mindexer\u001b[0m \u001b[1;33m=\u001b[0m \u001b[0mself\u001b[0m\u001b[1;33m.\u001b[0m\u001b[0mitems\u001b[0m\u001b[1;33m.\u001b[0m\u001b[0mget_loc\u001b[0m\u001b[1;33m(\u001b[0m\u001b[0mitem\u001b[0m\u001b[1;33m)\u001b[0m\u001b[1;33m\u001b[0m\u001b[0m\n\u001b[0m\u001b[0;32m   3903\u001b[0m \u001b[1;33m\u001b[0m\u001b[0m\n\u001b[0;32m   3904\u001b[0m         \u001b[0mis_deleted\u001b[0m \u001b[1;33m=\u001b[0m \u001b[0mnp\u001b[0m\u001b[1;33m.\u001b[0m\u001b[0mzeros\u001b[0m\u001b[1;33m(\u001b[0m\u001b[0mself\u001b[0m\u001b[1;33m.\u001b[0m\u001b[0mshape\u001b[0m\u001b[1;33m[\u001b[0m\u001b[1;36m0\u001b[0m\u001b[1;33m]\u001b[0m\u001b[1;33m,\u001b[0m \u001b[0mdtype\u001b[0m\u001b[1;33m=\u001b[0m\u001b[0mnp\u001b[0m\u001b[1;33m.\u001b[0m\u001b[0mbool_\u001b[0m\u001b[1;33m)\u001b[0m\u001b[1;33m\u001b[0m\u001b[0m\n",
      "\u001b[1;32m~\\Anaconda3\\lib\\site-packages\\pandas\\core\\indexes\\base.py\u001b[0m in \u001b[0;36mget_loc\u001b[1;34m(self, key, method, tolerance)\u001b[0m\n\u001b[0;32m   2525\u001b[0m                 \u001b[1;32mreturn\u001b[0m \u001b[0mself\u001b[0m\u001b[1;33m.\u001b[0m\u001b[0m_engine\u001b[0m\u001b[1;33m.\u001b[0m\u001b[0mget_loc\u001b[0m\u001b[1;33m(\u001b[0m\u001b[0mkey\u001b[0m\u001b[1;33m)\u001b[0m\u001b[1;33m\u001b[0m\u001b[0m\n\u001b[0;32m   2526\u001b[0m             \u001b[1;32mexcept\u001b[0m \u001b[0mKeyError\u001b[0m\u001b[1;33m:\u001b[0m\u001b[1;33m\u001b[0m\u001b[0m\n\u001b[1;32m-> 2527\u001b[1;33m                 \u001b[1;32mreturn\u001b[0m \u001b[0mself\u001b[0m\u001b[1;33m.\u001b[0m\u001b[0m_engine\u001b[0m\u001b[1;33m.\u001b[0m\u001b[0mget_loc\u001b[0m\u001b[1;33m(\u001b[0m\u001b[0mself\u001b[0m\u001b[1;33m.\u001b[0m\u001b[0m_maybe_cast_indexer\u001b[0m\u001b[1;33m(\u001b[0m\u001b[0mkey\u001b[0m\u001b[1;33m)\u001b[0m\u001b[1;33m)\u001b[0m\u001b[1;33m\u001b[0m\u001b[0m\n\u001b[0m\u001b[0;32m   2528\u001b[0m \u001b[1;33m\u001b[0m\u001b[0m\n\u001b[0;32m   2529\u001b[0m         \u001b[0mindexer\u001b[0m \u001b[1;33m=\u001b[0m \u001b[0mself\u001b[0m\u001b[1;33m.\u001b[0m\u001b[0mget_indexer\u001b[0m\u001b[1;33m(\u001b[0m\u001b[1;33m[\u001b[0m\u001b[0mkey\u001b[0m\u001b[1;33m]\u001b[0m\u001b[1;33m,\u001b[0m \u001b[0mmethod\u001b[0m\u001b[1;33m=\u001b[0m\u001b[0mmethod\u001b[0m\u001b[1;33m,\u001b[0m \u001b[0mtolerance\u001b[0m\u001b[1;33m=\u001b[0m\u001b[0mtolerance\u001b[0m\u001b[1;33m)\u001b[0m\u001b[1;33m\u001b[0m\u001b[0m\n",
      "\u001b[1;32mpandas/_libs/index.pyx\u001b[0m in \u001b[0;36mpandas._libs.index.IndexEngine.get_loc\u001b[1;34m()\u001b[0m\n",
      "\u001b[1;32mpandas/_libs/index.pyx\u001b[0m in \u001b[0;36mpandas._libs.index.IndexEngine.get_loc\u001b[1;34m()\u001b[0m\n",
      "\u001b[1;32mpandas/_libs/hashtable_class_helper.pxi\u001b[0m in \u001b[0;36mpandas._libs.hashtable.PyObjectHashTable.get_item\u001b[1;34m()\u001b[0m\n",
      "\u001b[1;32mpandas/_libs/hashtable_class_helper.pxi\u001b[0m in \u001b[0;36mpandas._libs.hashtable.PyObjectHashTable.get_item\u001b[1;34m()\u001b[0m\n",
      "\u001b[1;31mKeyError\u001b[0m: 'Price - Competitor 2'"
     ]
    }
   ],
   "source": [
    "df = pd.DataFrame(dataset)\n",
    "del df['Price - Competitor 2']\n",
    "del df['Price - Competitor 3']\n",
    "print(df)"
   ]
  },
  {
   "cell_type": "code",
   "execution_count": 26,
   "metadata": {},
   "outputs": [],
   "source": [
    "x = df.iloc[:,1:7].values \n",
    "y = dataset.iloc[:,0].values"
   ]
  },
  {
   "cell_type": "code",
   "execution_count": 27,
   "metadata": {},
   "outputs": [],
   "source": [
    "from sklearn.cross_validation import train_test_split\n",
    "x_train, x_test, y_train, y_test  = train_test_split(x, y, test_size = 0.3, random_state = 0)"
   ]
  },
  {
   "cell_type": "code",
   "execution_count": 28,
   "metadata": {},
   "outputs": [],
   "source": [
    "from sklearn.linear_model import LinearRegression\n",
    "regressor = LinearRegression()\n",
    "result = regressor.fit(x_train, y_train)"
   ]
  },
  {
   "cell_type": "code",
   "execution_count": 29,
   "metadata": {},
   "outputs": [
    {
     "name": "stdout",
     "output_type": "stream",
     "text": [
      "                            OLS Regression Results                            \n",
      "==============================================================================\n",
      "Dep. Variable:                      y   R-squared:                       0.380\n",
      "Model:                            OLS   Adj. R-squared:                  0.379\n",
      "Method:                 Least Squares   F-statistic:                     311.9\n",
      "Date:                Wed, 11 Jul 2018   Prob (F-statistic):          2.05e-312\n",
      "Time:                        12:05:46   Log-Likelihood:                -17336.\n",
      "No. Observations:                3057   AIC:                         3.469e+04\n",
      "Df Residuals:                    3050   BIC:                         3.473e+04\n",
      "Df Model:                           6                                         \n",
      "Covariance Type:            nonrobust                                         \n",
      "==============================================================================\n",
      "                 coef    std err          t      P>|t|      [0.025      0.975]\n",
      "------------------------------------------------------------------------------\n",
      "const        302.5191     15.769     19.184      0.000     271.600     333.439\n",
      "x1           -58.3483      2.707    -21.552      0.000     -63.657     -53.040\n",
      "x2            28.6576      3.805      7.532      0.000      21.198      36.117\n",
      "x3            80.7177      4.268     18.911      0.000      72.349      89.087\n",
      "x4             9.4770      1.799      5.267      0.000       5.949      13.005\n",
      "x5            14.2362      1.932      7.370      0.000      10.449      18.024\n",
      "x6            -1.0358      2.129     -0.486      0.627      -5.211       3.139\n",
      "==============================================================================\n",
      "Omnibus:                     2139.539   Durbin-Watson:                   1.955\n",
      "Prob(Omnibus):                  0.000   Jarque-Bera (JB):            53045.580\n",
      "Skew:                           3.000   Prob(JB):                         0.00\n",
      "Kurtosis:                      22.505   Cond. No.                         113.\n",
      "==============================================================================\n",
      "\n",
      "Warnings:\n",
      "[1] Standard Errors assume that the covariance matrix of the errors is correctly specified.\n"
     ]
    },
    {
     "data": {
      "text/plain": [
       "42.592246474863934"
      ]
     },
     "execution_count": 29,
     "metadata": {},
     "output_type": "execute_result"
    }
   ],
   "source": [
    "y_pred = regressor.predict(x_test)\n",
    "import statsmodels.api as sm\n",
    "X1 = sm.add_constant(x_train)\n",
    "result = sm.OLS(y_train, X1).fit()\n",
    "print(result.summary())\n",
    "from sklearn.metrics import mean_absolute_error\n",
    "mean_absolute_error(y_test, y_pred)"
   ]
  },
  {
   "cell_type": "markdown",
   "metadata": {},
   "source": [
    "# 3. Three new variables (interaction variables) – Feature*Display, Price*Feature, Price*Display and model 2b variables as Independent Variable"
   ]
  },
  {
   "cell_type": "code",
   "execution_count": 30,
   "metadata": {},
   "outputs": [
    {
     "name": "stdout",
     "output_type": "stream",
     "text": [
      "      Sales  Price  Feature  Display  Price - Competitor 1  \\\n",
      "0        20  5.690        0        0                 4.065   \n",
      "1        26  5.968        0        0                 4.065   \n",
      "2        41  6.190        0        0                 4.064   \n",
      "3       123  5.780        0        0                 4.066   \n",
      "4        32  6.190        0        0                 4.067   \n",
      "5        33  6.090        0        0                 4.067   \n",
      "6       565  5.012        1        0                 4.067   \n",
      "7        48  5.231        0        1                 4.067   \n",
      "8       524  5.029        1        1                 4.067   \n",
      "9        37  6.090        0        0                 4.068   \n",
      "10      129  5.030        0        0                 4.068   \n",
      "11       46  5.780        0        0                 4.061   \n",
      "12      186  4.738        1        0                 4.061   \n",
      "13       76  5.780        0        0                 4.069   \n",
      "14      279  4.500        1        1                 4.069   \n",
      "15       24  6.290        0        0                 4.069   \n",
      "16       38  5.790        1        0                 4.060   \n",
      "17       42  5.423        1        0                 4.060   \n",
      "18       26  5.790        0        0                 4.060   \n",
      "19       34  5.790        0        0                 4.070   \n",
      "20       30  6.363        0        0                 4.070   \n",
      "21       75  5.780        0        0                 4.070   \n",
      "22       44  6.174        0        0                 4.070   \n",
      "23       16  5.690        0        0                 4.059   \n",
      "24       86  5.780        0        0                 4.071   \n",
      "25       62  4.740        1        0                 4.071   \n",
      "26      111  5.480        0        0                 4.058   \n",
      "27       80  5.780        0        0                 4.072   \n",
      "28       62  5.790        0        0                 4.072   \n",
      "29       22  6.390        0        0                 4.056   \n",
      "...     ...    ...      ...      ...                   ...   \n",
      "4338     75  5.740        0        0                 2.456   \n",
      "4339     24  5.990        0        0                 2.441   \n",
      "4340    101  5.026        1        0                 2.400   \n",
      "4341     15  5.790        0        0                 2.395   \n",
      "4342     44  5.890        0        0                 2.306   \n",
      "4343     30  5.790        0        0                 2.285   \n",
      "4344     55  6.490        0        0                 2.267   \n",
      "4345     59  5.890        0        0                 2.253   \n",
      "4346      3  5.790        0        0                 2.253   \n",
      "4347     39  5.990        0        0                 2.208   \n",
      "4348     32  5.242        0        0                 2.076   \n",
      "4349     45  3.304        0        0                 2.030   \n",
      "4350    108  5.890        0        0                 1.906   \n",
      "4351     42  5.890        0        0                 1.897   \n",
      "4352     31  2.750        0        0                 1.896   \n",
      "4353     31  2.750        0        0                 1.882   \n",
      "4354     21  2.750        0        0                 1.870   \n",
      "4355     29  2.750        0        0                 1.870   \n",
      "4356     31  2.886        0        0                 1.870   \n",
      "4357      8  2.750        0        0                 1.870   \n",
      "4358     50  2.496        1        0                 1.870   \n",
      "4359     30  2.750        0        0                 1.870   \n",
      "4360     60  2.687        0        0                 1.750   \n",
      "4361     62  2.690        0        0                 1.739   \n",
      "4362     65  2.690        0        0                 1.739   \n",
      "4363     23  2.766        0        0                 1.530   \n",
      "4364     20  2.764        0        0                 1.450   \n",
      "4365     12  5.890        0        0                 1.313   \n",
      "4366     16  5.890        0        0                 1.258   \n",
      "4367     61  2.545        1        0                 1.110   \n",
      "\n",
      "      Price - Competitor 4  Price - Competitor 5  Feature_Display  \\\n",
      "0                    4.690                 3.290                0   \n",
      "1                    3.946                 3.490                0   \n",
      "2                    3.330                 3.690                0   \n",
      "3                    3.973                 2.172                0   \n",
      "4                    2.759                 3.690                0   \n",
      "5                    3.397                 2.098                0   \n",
      "6                    4.496                 3.690                0   \n",
      "7                    4.160                 2.945                0   \n",
      "8                    5.177                 3.690                1   \n",
      "9                    3.674                 2.000                0   \n",
      "10                   4.623                 2.240                0   \n",
      "11                   3.821                 2.435                0   \n",
      "12                   4.144                 2.484                0   \n",
      "13                   4.702                 3.090                0   \n",
      "14                   3.954                 1.510                1   \n",
      "15                   5.561                 2.750                0   \n",
      "16                   4.665                 1.990                0   \n",
      "17                   5.057                 3.000                0   \n",
      "18                   3.313                 3.290                0   \n",
      "19                   4.861                 2.750                0   \n",
      "20                   5.440                 3.690                0   \n",
      "21                   3.743                 3.090                0   \n",
      "22                   3.996                 3.890                0   \n",
      "23                   4.126                 3.290                0   \n",
      "24                   4.095                 2.492                0   \n",
      "25                   4.484                 3.090                0   \n",
      "26                   4.177                 2.397                0   \n",
      "27                   4.195                 2.096                0   \n",
      "28                   5.134                 2.650                0   \n",
      "29                   3.617                 2.060                0   \n",
      "...                    ...                   ...              ...   \n",
      "4338                 4.662                 3.160                0   \n",
      "4339                 5.021                 2.542                0   \n",
      "4340                 5.240                 3.072                0   \n",
      "4341                 1.833                 1.814                0   \n",
      "4342                 5.050                 3.490                0   \n",
      "4343                 3.076                 2.000                0   \n",
      "4344                 5.390                 3.113                0   \n",
      "4345                 4.000                 2.000                0   \n",
      "4346                 4.316                 3.390                0   \n",
      "4347                 4.618                 2.500                0   \n",
      "4348                 4.752                 3.395                0   \n",
      "4349                 1.666                 2.500                0   \n",
      "4350                 5.116                 3.490                0   \n",
      "4351                 5.157                 3.490                0   \n",
      "4352                 1.706                 2.500                0   \n",
      "4353                 2.125                 2.500                0   \n",
      "4354                 1.561                 2.500                0   \n",
      "4355                 1.667                 2.500                0   \n",
      "4356                 1.680                 2.500                0   \n",
      "4357                 1.491                 2.500                0   \n",
      "4358                 1.532                 2.000                0   \n",
      "4359                 1.585                 2.500                0   \n",
      "4360                 2.556                 2.360                0   \n",
      "4361                 2.556                 2.360                0   \n",
      "4362                 2.556                 2.362                0   \n",
      "4363                 2.556                 2.500                0   \n",
      "4364                 1.666                 2.000                0   \n",
      "4365                 4.890                 3.490                0   \n",
      "4366                 5.290                 3.490                0   \n",
      "4367                 2.556                 2.011                0   \n",
      "\n",
      "      Price_Feature  Price_Display  \n",
      "0             0.000          0.000  \n",
      "1             0.000          0.000  \n",
      "2             0.000          0.000  \n",
      "3             0.000          0.000  \n",
      "4             0.000          0.000  \n",
      "5             0.000          0.000  \n",
      "6             5.012          0.000  \n",
      "7             0.000          5.231  \n",
      "8             5.029          5.029  \n",
      "9             0.000          0.000  \n",
      "10            0.000          0.000  \n",
      "11            0.000          0.000  \n",
      "12            4.738          0.000  \n",
      "13            0.000          0.000  \n",
      "14            4.500          4.500  \n",
      "15            0.000          0.000  \n",
      "16            5.790          0.000  \n",
      "17            5.423          0.000  \n",
      "18            0.000          0.000  \n",
      "19            0.000          0.000  \n",
      "20            0.000          0.000  \n",
      "21            0.000          0.000  \n",
      "22            0.000          0.000  \n",
      "23            0.000          0.000  \n",
      "24            0.000          0.000  \n",
      "25            4.740          0.000  \n",
      "26            0.000          0.000  \n",
      "27            0.000          0.000  \n",
      "28            0.000          0.000  \n",
      "29            0.000          0.000  \n",
      "...             ...            ...  \n",
      "4338          0.000          0.000  \n",
      "4339          0.000          0.000  \n",
      "4340          5.026          0.000  \n",
      "4341          0.000          0.000  \n",
      "4342          0.000          0.000  \n",
      "4343          0.000          0.000  \n",
      "4344          0.000          0.000  \n",
      "4345          0.000          0.000  \n",
      "4346          0.000          0.000  \n",
      "4347          0.000          0.000  \n",
      "4348          0.000          0.000  \n",
      "4349          0.000          0.000  \n",
      "4350          0.000          0.000  \n",
      "4351          0.000          0.000  \n",
      "4352          0.000          0.000  \n",
      "4353          0.000          0.000  \n",
      "4354          0.000          0.000  \n",
      "4355          0.000          0.000  \n",
      "4356          0.000          0.000  \n",
      "4357          0.000          0.000  \n",
      "4358          2.496          0.000  \n",
      "4359          0.000          0.000  \n",
      "4360          0.000          0.000  \n",
      "4361          0.000          0.000  \n",
      "4362          0.000          0.000  \n",
      "4363          0.000          0.000  \n",
      "4364          0.000          0.000  \n",
      "4365          0.000          0.000  \n",
      "4366          0.000          0.000  \n",
      "4367          2.545          0.000  \n",
      "\n",
      "[4368 rows x 10 columns]\n"
     ]
    }
   ],
   "source": [
    " \n",
    "df['Feature_Display'] = df.Feature * df.Display\n",
    "df['Price_Feature'] = df.Price * df.Feature\n",
    "df['Price_Display'] = df.Price * df.Display\n",
    "print(df)"
   ]
  },
  {
   "cell_type": "code",
   "execution_count": 40,
   "metadata": {},
   "outputs": [],
   "source": [
    "x = df.iloc[:,1:10].values \n",
    "y = dataset.iloc[:,0].values"
   ]
  },
  {
   "cell_type": "code",
   "execution_count": 41,
   "metadata": {},
   "outputs": [],
   "source": [
    "from sklearn.cross_validation import train_test_split\n",
    "x_train, x_test, y_train, y_test  = train_test_split(x, y, test_size = 0.3, random_state = 0)"
   ]
  },
  {
   "cell_type": "code",
   "execution_count": 42,
   "metadata": {},
   "outputs": [],
   "source": [
    "from sklearn.linear_model import LinearRegression\n",
    "regressor = LinearRegression()\n",
    "result = regressor.fit(x_train, y_train)"
   ]
  },
  {
   "cell_type": "code",
   "execution_count": 43,
   "metadata": {},
   "outputs": [
    {
     "name": "stdout",
     "output_type": "stream",
     "text": [
      "                            OLS Regression Results                            \n",
      "==============================================================================\n",
      "Dep. Variable:                      y   R-squared:                       0.434\n",
      "Model:                            OLS   Adj. R-squared:                  0.432\n",
      "Method:                 Least Squares   F-statistic:                     259.3\n",
      "Date:                Wed, 11 Jul 2018   Prob (F-statistic):               0.00\n",
      "Time:                        12:11:56   Log-Likelihood:                -17198.\n",
      "No. Observations:                3057   AIC:                         3.442e+04\n",
      "Df Residuals:                    3047   BIC:                         3.448e+04\n",
      "Df Model:                           9                                         \n",
      "Covariance Type:            nonrobust                                         \n",
      "==============================================================================\n",
      "                 coef    std err          t      P>|t|      [0.025      0.975]\n",
      "------------------------------------------------------------------------------\n",
      "const        168.1610     17.555      9.579      0.000     133.740     202.582\n",
      "x1           -38.0287      2.902    -13.106      0.000     -43.718     -32.339\n",
      "x2           293.9426     31.890      9.217      0.000     231.415     356.470\n",
      "x3           560.3275     41.397     13.535      0.000     479.158     641.497\n",
      "x4            10.0951      1.722      5.861      0.000       6.718      13.472\n",
      "x5            15.8796      1.869      8.499      0.000      12.216      19.543\n",
      "x6             1.0580      2.041      0.518      0.604      -2.943       5.059\n",
      "x7           -33.8811      8.966     -3.779      0.000     -51.461     -16.301\n",
      "x8           -49.0252      5.828     -8.412      0.000     -60.452     -37.598\n",
      "x9           -88.8352      7.489    -11.861      0.000    -103.520     -74.150\n",
      "==============================================================================\n",
      "Omnibus:                     1902.038   Durbin-Watson:                   1.949\n",
      "Prob(Omnibus):                  0.000   Jarque-Bera (JB):            32342.899\n",
      "Skew:                           2.659   Prob(JB):                         0.00\n",
      "Kurtosis:                      18.021   Cond. No.                         323.\n",
      "==============================================================================\n",
      "\n",
      "Warnings:\n",
      "[1] Standard Errors assume that the covariance matrix of the errors is correctly specified.\n"
     ]
    },
    {
     "data": {
      "text/plain": [
       "40.9167079071781"
      ]
     },
     "execution_count": 43,
     "metadata": {},
     "output_type": "execute_result"
    }
   ],
   "source": [
    "y_pred = regressor.predict(x_test)\n",
    "import statsmodels.api as sm\n",
    "X1 = sm.add_constant(x_train)\n",
    "result = sm.OLS(y_train, X1).fit()\n",
    "print(result.summary())\n",
    "mean_absolute_error(y_test, y_pred)"
   ]
  },
  {
   "cell_type": "code",
   "execution_count": null,
   "metadata": {},
   "outputs": [],
   "source": []
  },
  {
   "cell_type": "code",
   "execution_count": 44,
   "metadata": {},
   "outputs": [
    {
     "name": "stdout",
     "output_type": "stream",
     "text": [
      "      Sales  Price  Feature  Display  Price - Competitor 1  \\\n",
      "0        20  5.690        0        0                 4.065   \n",
      "1        26  5.968        0        0                 4.065   \n",
      "2        41  6.190        0        0                 4.064   \n",
      "3       123  5.780        0        0                 4.066   \n",
      "4        32  6.190        0        0                 4.067   \n",
      "5        33  6.090        0        0                 4.067   \n",
      "6       565  5.012        1        0                 4.067   \n",
      "7        48  5.231        0        1                 4.067   \n",
      "8       524  5.029        1        1                 4.067   \n",
      "9        37  6.090        0        0                 4.068   \n",
      "10      129  5.030        0        0                 4.068   \n",
      "11       46  5.780        0        0                 4.061   \n",
      "12      186  4.738        1        0                 4.061   \n",
      "13       76  5.780        0        0                 4.069   \n",
      "14      279  4.500        1        1                 4.069   \n",
      "15       24  6.290        0        0                 4.069   \n",
      "16       38  5.790        1        0                 4.060   \n",
      "17       42  5.423        1        0                 4.060   \n",
      "18       26  5.790        0        0                 4.060   \n",
      "19       34  5.790        0        0                 4.070   \n",
      "20       30  6.363        0        0                 4.070   \n",
      "21       75  5.780        0        0                 4.070   \n",
      "22       44  6.174        0        0                 4.070   \n",
      "23       16  5.690        0        0                 4.059   \n",
      "24       86  5.780        0        0                 4.071   \n",
      "25       62  4.740        1        0                 4.071   \n",
      "26      111  5.480        0        0                 4.058   \n",
      "27       80  5.780        0        0                 4.072   \n",
      "28       62  5.790        0        0                 4.072   \n",
      "29       22  6.390        0        0                 4.056   \n",
      "...     ...    ...      ...      ...                   ...   \n",
      "4338     75  5.740        0        0                 2.456   \n",
      "4339     24  5.990        0        0                 2.441   \n",
      "4340    101  5.026        1        0                 2.400   \n",
      "4341     15  5.790        0        0                 2.395   \n",
      "4342     44  5.890        0        0                 2.306   \n",
      "4343     30  5.790        0        0                 2.285   \n",
      "4344     55  6.490        0        0                 2.267   \n",
      "4345     59  5.890        0        0                 2.253   \n",
      "4346      3  5.790        0        0                 2.253   \n",
      "4347     39  5.990        0        0                 2.208   \n",
      "4348     32  5.242        0        0                 2.076   \n",
      "4349     45  3.304        0        0                 2.030   \n",
      "4350    108  5.890        0        0                 1.906   \n",
      "4351     42  5.890        0        0                 1.897   \n",
      "4352     31  2.750        0        0                 1.896   \n",
      "4353     31  2.750        0        0                 1.882   \n",
      "4354     21  2.750        0        0                 1.870   \n",
      "4355     29  2.750        0        0                 1.870   \n",
      "4356     31  2.886        0        0                 1.870   \n",
      "4357      8  2.750        0        0                 1.870   \n",
      "4358     50  2.496        1        0                 1.870   \n",
      "4359     30  2.750        0        0                 1.870   \n",
      "4360     60  2.687        0        0                 1.750   \n",
      "4361     62  2.690        0        0                 1.739   \n",
      "4362     65  2.690        0        0                 1.739   \n",
      "4363     23  2.766        0        0                 1.530   \n",
      "4364     20  2.764        0        0                 1.450   \n",
      "4365     12  5.890        0        0                 1.313   \n",
      "4366     16  5.890        0        0                 1.258   \n",
      "4367     61  2.545        1        0                 1.110   \n",
      "\n",
      "      Price - Competitor 4  Price - Competitor 5  Feature_Display  \\\n",
      "0                    4.690                 3.290                0   \n",
      "1                    3.946                 3.490                0   \n",
      "2                    3.330                 3.690                0   \n",
      "3                    3.973                 2.172                0   \n",
      "4                    2.759                 3.690                0   \n",
      "5                    3.397                 2.098                0   \n",
      "6                    4.496                 3.690                0   \n",
      "7                    4.160                 2.945                0   \n",
      "8                    5.177                 3.690                1   \n",
      "9                    3.674                 2.000                0   \n",
      "10                   4.623                 2.240                0   \n",
      "11                   3.821                 2.435                0   \n",
      "12                   4.144                 2.484                0   \n",
      "13                   4.702                 3.090                0   \n",
      "14                   3.954                 1.510                1   \n",
      "15                   5.561                 2.750                0   \n",
      "16                   4.665                 1.990                0   \n",
      "17                   5.057                 3.000                0   \n",
      "18                   3.313                 3.290                0   \n",
      "19                   4.861                 2.750                0   \n",
      "20                   5.440                 3.690                0   \n",
      "21                   3.743                 3.090                0   \n",
      "22                   3.996                 3.890                0   \n",
      "23                   4.126                 3.290                0   \n",
      "24                   4.095                 2.492                0   \n",
      "25                   4.484                 3.090                0   \n",
      "26                   4.177                 2.397                0   \n",
      "27                   4.195                 2.096                0   \n",
      "28                   5.134                 2.650                0   \n",
      "29                   3.617                 2.060                0   \n",
      "...                    ...                   ...              ...   \n",
      "4338                 4.662                 3.160                0   \n",
      "4339                 5.021                 2.542                0   \n",
      "4340                 5.240                 3.072                0   \n",
      "4341                 1.833                 1.814                0   \n",
      "4342                 5.050                 3.490                0   \n",
      "4343                 3.076                 2.000                0   \n",
      "4344                 5.390                 3.113                0   \n",
      "4345                 4.000                 2.000                0   \n",
      "4346                 4.316                 3.390                0   \n",
      "4347                 4.618                 2.500                0   \n",
      "4348                 4.752                 3.395                0   \n",
      "4349                 1.666                 2.500                0   \n",
      "4350                 5.116                 3.490                0   \n",
      "4351                 5.157                 3.490                0   \n",
      "4352                 1.706                 2.500                0   \n",
      "4353                 2.125                 2.500                0   \n",
      "4354                 1.561                 2.500                0   \n",
      "4355                 1.667                 2.500                0   \n",
      "4356                 1.680                 2.500                0   \n",
      "4357                 1.491                 2.500                0   \n",
      "4358                 1.532                 2.000                0   \n",
      "4359                 1.585                 2.500                0   \n",
      "4360                 2.556                 2.360                0   \n",
      "4361                 2.556                 2.360                0   \n",
      "4362                 2.556                 2.362                0   \n",
      "4363                 2.556                 2.500                0   \n",
      "4364                 1.666                 2.000                0   \n",
      "4365                 4.890                 3.490                0   \n",
      "4366                 5.290                 3.490                0   \n",
      "4367                 2.556                 2.011                0   \n",
      "\n",
      "      Price_Feature  Price_Display  Price_Feature_Display  \n",
      "0             0.000          0.000                  0.000  \n",
      "1             0.000          0.000                  0.000  \n",
      "2             0.000          0.000                  0.000  \n",
      "3             0.000          0.000                  0.000  \n",
      "4             0.000          0.000                  0.000  \n",
      "5             0.000          0.000                  0.000  \n",
      "6             5.012          0.000                  0.000  \n",
      "7             0.000          5.231                  0.000  \n",
      "8             5.029          5.029                  5.029  \n",
      "9             0.000          0.000                  0.000  \n",
      "10            0.000          0.000                  0.000  \n",
      "11            0.000          0.000                  0.000  \n",
      "12            4.738          0.000                  0.000  \n",
      "13            0.000          0.000                  0.000  \n",
      "14            4.500          4.500                  4.500  \n",
      "15            0.000          0.000                  0.000  \n",
      "16            5.790          0.000                  0.000  \n",
      "17            5.423          0.000                  0.000  \n",
      "18            0.000          0.000                  0.000  \n",
      "19            0.000          0.000                  0.000  \n",
      "20            0.000          0.000                  0.000  \n",
      "21            0.000          0.000                  0.000  \n",
      "22            0.000          0.000                  0.000  \n",
      "23            0.000          0.000                  0.000  \n",
      "24            0.000          0.000                  0.000  \n",
      "25            4.740          0.000                  0.000  \n",
      "26            0.000          0.000                  0.000  \n",
      "27            0.000          0.000                  0.000  \n",
      "28            0.000          0.000                  0.000  \n",
      "29            0.000          0.000                  0.000  \n",
      "...             ...            ...                    ...  \n",
      "4338          0.000          0.000                  0.000  \n",
      "4339          0.000          0.000                  0.000  \n",
      "4340          5.026          0.000                  0.000  \n",
      "4341          0.000          0.000                  0.000  \n",
      "4342          0.000          0.000                  0.000  \n",
      "4343          0.000          0.000                  0.000  \n",
      "4344          0.000          0.000                  0.000  \n",
      "4345          0.000          0.000                  0.000  \n",
      "4346          0.000          0.000                  0.000  \n",
      "4347          0.000          0.000                  0.000  \n",
      "4348          0.000          0.000                  0.000  \n",
      "4349          0.000          0.000                  0.000  \n",
      "4350          0.000          0.000                  0.000  \n",
      "4351          0.000          0.000                  0.000  \n",
      "4352          0.000          0.000                  0.000  \n",
      "4353          0.000          0.000                  0.000  \n",
      "4354          0.000          0.000                  0.000  \n",
      "4355          0.000          0.000                  0.000  \n",
      "4356          0.000          0.000                  0.000  \n",
      "4357          0.000          0.000                  0.000  \n",
      "4358          2.496          0.000                  0.000  \n",
      "4359          0.000          0.000                  0.000  \n",
      "4360          0.000          0.000                  0.000  \n",
      "4361          0.000          0.000                  0.000  \n",
      "4362          0.000          0.000                  0.000  \n",
      "4363          0.000          0.000                  0.000  \n",
      "4364          0.000          0.000                  0.000  \n",
      "4365          0.000          0.000                  0.000  \n",
      "4366          0.000          0.000                  0.000  \n",
      "4367          2.545          0.000                  0.000  \n",
      "\n",
      "[4368 rows x 11 columns]\n"
     ]
    }
   ],
   "source": [
    " \n",
    "df['Feature_Display'] = df.Feature * df.Display\n",
    "df['Price_Feature'] = df.Price * df.Feature\n",
    "df['Price_Display'] = df.Price * df.Display\n",
    "df['Price_Feature_Display']=df.Price * df.Feature * df.Display\n",
    "print(df)"
   ]
  },
  {
   "cell_type": "code",
   "execution_count": 36,
   "metadata": {},
   "outputs": [],
   "source": [
    "x = df.iloc[:,1:11].values \n",
    "y = dataset.iloc[:,0].values"
   ]
  },
  {
   "cell_type": "code",
   "execution_count": 45,
   "metadata": {},
   "outputs": [],
   "source": [
    "from sklearn.cross_validation import train_test_split\n",
    "x_train, x_test, y_train, y_test  = train_test_split(x, y, test_size = 0.3, random_state = 0)"
   ]
  },
  {
   "cell_type": "code",
   "execution_count": 46,
   "metadata": {},
   "outputs": [],
   "source": [
    "from sklearn.linear_model import LinearRegression\n",
    "regressor = LinearRegression()\n",
    "result = regressor.fit(x_train, y_train)"
   ]
  },
  {
   "cell_type": "code",
   "execution_count": 47,
   "metadata": {},
   "outputs": [
    {
     "name": "stdout",
     "output_type": "stream",
     "text": [
      "                            OLS Regression Results                            \n",
      "==============================================================================\n",
      "Dep. Variable:                      y   R-squared:                       0.434\n",
      "Model:                            OLS   Adj. R-squared:                  0.432\n",
      "Method:                 Least Squares   F-statistic:                     259.3\n",
      "Date:                Wed, 11 Jul 2018   Prob (F-statistic):               0.00\n",
      "Time:                        12:12:34   Log-Likelihood:                -17198.\n",
      "No. Observations:                3057   AIC:                         3.442e+04\n",
      "Df Residuals:                    3047   BIC:                         3.448e+04\n",
      "Df Model:                           9                                         \n",
      "Covariance Type:            nonrobust                                         \n",
      "==============================================================================\n",
      "                 coef    std err          t      P>|t|      [0.025      0.975]\n",
      "------------------------------------------------------------------------------\n",
      "const        168.1610     17.555      9.579      0.000     133.740     202.582\n",
      "x1           -38.0287      2.902    -13.106      0.000     -43.718     -32.339\n",
      "x2           293.9426     31.890      9.217      0.000     231.415     356.470\n",
      "x3           560.3275     41.397     13.535      0.000     479.158     641.497\n",
      "x4            10.0951      1.722      5.861      0.000       6.718      13.472\n",
      "x5            15.8796      1.869      8.499      0.000      12.216      19.543\n",
      "x6             1.0580      2.041      0.518      0.604      -2.943       5.059\n",
      "x7           -33.8811      8.966     -3.779      0.000     -51.461     -16.301\n",
      "x8           -49.0252      5.828     -8.412      0.000     -60.452     -37.598\n",
      "x9           -88.8352      7.489    -11.861      0.000    -103.520     -74.150\n",
      "==============================================================================\n",
      "Omnibus:                     1902.038   Durbin-Watson:                   1.949\n",
      "Prob(Omnibus):                  0.000   Jarque-Bera (JB):            32342.899\n",
      "Skew:                           2.659   Prob(JB):                         0.00\n",
      "Kurtosis:                      18.021   Cond. No.                         323.\n",
      "==============================================================================\n",
      "\n",
      "Warnings:\n",
      "[1] Standard Errors assume that the covariance matrix of the errors is correctly specified.\n"
     ]
    },
    {
     "data": {
      "text/plain": [
       "40.9167079071781"
      ]
     },
     "execution_count": 47,
     "metadata": {},
     "output_type": "execute_result"
    }
   ],
   "source": [
    "y_pred = regressor.predict(x_test)\n",
    "import statsmodels.api as sm\n",
    "X1 = sm.add_constant(x_train)\n",
    "result = sm.OLS(y_train, X1).fit()\n",
    "print(result.summary())\n",
    "mean_absolute_error(y_test, y_pred)"
   ]
  },
  {
   "cell_type": "code",
   "execution_count": null,
   "metadata": {},
   "outputs": [],
   "source": []
  }
 ],
 "metadata": {
  "kernelspec": {
   "display_name": "Python 3",
   "language": "python",
   "name": "python3"
  },
  "language_info": {
   "codemirror_mode": {
    "name": "ipython",
    "version": 3
   },
   "file_extension": ".py",
   "mimetype": "text/x-python",
   "name": "python",
   "nbconvert_exporter": "python",
   "pygments_lexer": "ipython3",
   "version": "3.6.4"
  }
 },
 "nbformat": 4,
 "nbformat_minor": 2
}
